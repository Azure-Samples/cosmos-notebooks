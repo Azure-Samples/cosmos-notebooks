{
  "cells": [
    {
      "cell_type": "markdown",
      "metadata": {},
      "source": "# Get started with Azure Cosmos DB using the .NET SDK for SQL API\n\nIn this notebook, we'll learn how to do operations against the Azure Cosmos DB SQL API using the .NET SDK client library. We'll use an IOT scenario of vehicle telemetry to illustrate how to create resources, insert data, query and visualize our data. \n\n<br>To run this notebook, be sure to select the **CSharp** kernel in the command bar, so we can get all the language support features we need."
    },
    {
      "cell_type": "markdown",
      "metadata": {
        "nteract": {
          "transient": {
            "deleting": false
          }
        }
      },
      "source": "### Import NuGet packages\nFirst, we'll import the NuGet packages we need in this notebook. Use the syntax: ``#r \"nuget: PackageName, OptionalVersionNumber\"``. "
    },
    {
      "cell_type": "code",
      "execution_count": 17,
      "metadata": {
        "collapsed": true,
        "execution": {
          "iopub.status.busy": "2020-05-19T02:02:53.538Z",
          "iopub.status.idle": "2020-05-19T02:02:55.516Z",
          "shell.execute_reply": "2020-05-19T02:02:55.534Z"
        },
        "jupyter": {
          "outputs_hidden": false,
          "source_hidden": false
        },
        "nteract": {
          "transient": {
            "deleting": false
          }
        },
        "outputExpanded": false,
        "trusted": false
      },
      "outputs": [
        {
          "data": {},
          "execution_count": 17,
          "metadata": {},
          "output_type": "execute_result"
        }
      ],
      "source": "#r \"nuget: Bogus\"\n#r \"nuget: System.Linq\"\n#r \"nuget: System.Linq.Expressions\""
    },
    {
      "cell_type": "markdown",
      "metadata": {},
      "source": "### Create database and containers\nNext, we'll create a new database and container to hold our data. Note when we create the container, we select a value for throughput (RU/s) and partition key. \n- Throughput: we'll start with 400 RU/s, the minimum RU/s for any Azure Cosmos DB resource.  \n- Partition key:  we'll partition our data by Vehicle Identification Number (VIN), as it has a high cardinality (important for workloads during a lot of writes, e.g. IOT workloads) and evenly distributes the request and storage volume. Choosing a good partition key is \"key\" to getting good scale and performance from Azure Cosmos DB, so it's important we follow the [best practices](https://docs.microsoft.com/azure/cosmos-db/partitioning-overview)!\n\n"
    },
    {
      "cell_type": "code",
      "execution_count": 5,
      "metadata": {
        "collapsed": false,
        "execution": {
          "iopub.execute_input": "2020-05-19T02:02:56.248Z",
          "iopub.status.busy": "2020-05-19T02:02:56.225Z",
          "iopub.status.idle": "2020-05-19T02:02:56.532Z",
          "shell.execute_reply": "2020-05-19T02:02:56.542Z"
        },
        "inputHidden": false,
        "outputHidden": false,
        "trusted": false
      },
      "outputs": [
        {
          "data": {},
          "execution_count": 18,
          "metadata": {},
          "output_type": "execute_result"
        },
        {
          "data": {
            "text/markdown": "\nCreated database CosmosIOTDemo and container VehicleData. You can see these new resources by refreshing your resource pane under the Data section.\n",
            "text/plain": "<IPython.core.display.Markdown object>"
          },
          "metadata": {},
          "output_type": "display_data"
        }
      ],
      "source": "using System;\nusing Microsoft.Azure.Cosmos;\nusing System.Collections;\n\n// Initialize a new instance of CosmosClient using the built-in account endpoint and key parameters\nCosmosClient cosmosClient = new CosmosClient(Cosmos.Endpoint, Cosmos.Key);\n\n// Create a new database and container with 400 RU/s\nMicrosoft.Azure.Cosmos.Database database = await cosmosClient.CreateDatabaseIfNotExistsAsync(\"CosmosIOTDemo\");\nContainer container = await database.CreateContainerIfNotExistsAsync(\"VehicleData\", \"/vin\", 400);\n\nDisplay.AsMarkdown(@\"\nCreated database CosmosIOTDemo and container VehicleData. You can see these new resources by refreshing your resource pane under the Data section.\n\");"
    },
    {
      "cell_type": "markdown",
      "metadata": {},
      "source": "### Create C# classes to represent our TelemetryEvent\nWe can create classes to represent the items we will be inserting into our container. In this sample, we'll be working with vehicle telemetry data that contains sensor information."
    },
    {
      "cell_type": "code",
      "execution_count": 19,
      "metadata": {
        "collapsed": false,
        "execution": {
          "iopub.status.busy": "2020-05-19T02:02:56.490Z",
          "iopub.status.idle": "2020-05-19T02:02:56.984Z",
          "shell.execute_reply": "2020-05-19T02:02:57.069Z"
        },
        "inputHidden": false,
        "outputHidden": false,
        "trusted": false
      },
      "outputs": [
        {
          "data": {},
          "execution_count": 19,
          "metadata": {},
          "output_type": "execute_result"
        }
      ],
      "source": "using System;\n\nclass TelemetryEvent\n{\n    public string id { get; set; }\n    \n    public string vin { get; set; }\n\n    public string eventName { get; set; }\n\n    public string vehicleType { get; set; }\n        \n    public string fuelType {get; set; }    \n\n    public double s1 { get; set; }\n\n    public double s2 { get; set; }\n\n    public double s3 { get; set; }\n\n    public DateTime timestamp { get; set; }\n\n    public string date { get; set; }\n\n    public string region { get; set; }\n\n}"
    },
    {
      "cell_type": "markdown",
      "metadata": {},
      "source": "### Insert data into our container\nFirst, we'll write a helper method we can call that randomly generates a set number of events that we will insert into our container. We'll use the [Bogus](https://github.com/bchavez/Bogus) library for .NET to easily generate sample data."
    },
    {
      "cell_type": "code",
      "execution_count": 20,
      "metadata": {
        "collapsed": false,
        "execution": {
          "iopub.status.busy": "2020-05-19T02:02:57.107Z",
          "iopub.status.idle": "2020-05-19T02:02:57.451Z",
          "shell.execute_reply": "2020-05-19T02:02:57.481Z"
        },
        "inputHidden": false,
        "outputHidden": false,
        "trusted": false
      },
      "outputs": [
        {
          "data": {},
          "execution_count": 20,
          "metadata": {},
          "output_type": "execute_result"
        }
      ],
      "source": "using System.Linq;\nusing System.Collections.Generic;\nusing System.Linq.Expressions;\nusing System;\nusing Bogus;\n\nstatic List<TelemetryEvent> GenerateTelemetryEvents(int numberOfEventsToGenerate)\n{\n    var eventTypes = new string[] { \"Harsh_break\", \"Airbag_deploy\", \"Check_engine_light\" };\n\n    var faker = new Faker();\n    \n    var vinList = Enumerable.Range(1, 10) //Generate 10 different vehicle ids\n    .Select(_ => _.ToString())\n    .ToList();\n    \n    var telemetryEvent = new Faker<TelemetryEvent>()\n    .StrictMode(true)\n    //Generate telemetry event\n    .RuleFor(o => o.id, f => Guid.NewGuid().ToString())\n    .RuleFor(o => o.vin, f => f.PickRandom(vinList))\n    .RuleFor(o => o.eventName, f => f.PickRandom(eventTypes))\n    .RuleFor(o => o.vehicleType, f => f.Vehicle.Type())\n    .RuleFor(o => o.fuelType, f => f.Vehicle.Fuel())\n    .RuleFor(o => o.timestamp, f => DateTime.Now) // just today's date\n    .RuleFor(o => o.date, (f, m) => $\"{m.timestamp.ToString(\"yyyy-MM-dd\")}\")\n    .RuleFor(o => o.s1, f => f.Random.Double(1, 2000))\n    .RuleFor(o => o.s2, f => f.Random.Double(1, 2000))\n    .RuleFor(o => o.s3, f => f.Random.Double(1, 2000))\n    .RuleFor(o => o.region, f => f.Address.Country());\n    \n    var events = telemetryEvent.Generate(numberOfEventsToGenerate);\n       \n    return events;\n\n}\n"
    },
    {
      "cell_type": "markdown",
      "metadata": {},
      "source": "Next, let's generate 100 events and write them to our container."
    },
    {
      "cell_type": "code",
      "execution_count": 6,
      "metadata": {
        "collapsed": false,
        "execution": {
          "iopub.execute_input": "2020-05-19T02:02:59.397Z",
          "iopub.status.busy": "2020-05-19T02:02:59.376Z",
          "iopub.status.idle": "2020-05-19T02:02:59.619Z",
          "shell.execute_reply": "2020-05-19T02:02:59.642Z"
        },
        "inputHidden": false,
        "outputHidden": false,
        "trusted": false
      },
      "outputs": [
        {
          "data": {},
          "execution_count": 21,
          "metadata": {},
          "output_type": "execute_result"
        },
        {
          "data": {
            "text/markdown": "\nCreated 100 items in VehicleData container. \n",
            "text/plain": "<IPython.core.display.Markdown object>"
          },
          "metadata": {},
          "output_type": "display_data"
        }
      ],
      "source": "var telemetryEvents = GenerateTelemetryEvents(100);\n\nforeach (TelemetryEvent telemetryEvent in telemetryEvents)\n{\n    var itemResponse = await container.CreateItemAsync<TelemetryEvent>(telemetryEvent);\n}\n\nDisplay.AsMarkdown(@\"\nCreated 100 items in VehicleData container. \n\");\n\n"
    },
    {
      "cell_type": "markdown",
      "metadata": {},
      "source": "### Query for items\nWe can run a [SQL query](https://docs.microsoft.com/azure/cosmos-db/sql-query-getting-started) against our container. Azure Cosmos DB returns results in pages, so we use the pattern of calling the [ReadNextAsync](https://docs.microsoft.com/dotnet/api/microsoft.azure.cosmos.feediterator.readnextasync?view=azure-dotnet) method on a [FeedIterator](https://docs.microsoft.com/dotnet/api/microsoft.azure.cosmos.container.getitemqueryiterator?view=azure-dotnet#Microsoft_Azure_Cosmos_Container_GetItemQueryIterator__1_Microsoft_Azure_Cosmos_QueryDefinition_System_String_Microsoft_Azure_Cosmos_QueryRequestOptions_). \n\nThe query ``SELECT * FROM c WHERE c.vin = '8'`` will return all documents for the specified ``vin``. Putting the partition key of ``vin`` in the WHERE clause ensures that we can run an efficient query. "
    },
    {
      "cell_type": "code",
      "execution_count": 22,
      "metadata": {
        "collapsed": true,
        "execution": {
          "iopub.status.busy": "2020-05-19T02:02:59.351Z",
          "iopub.status.idle": "2020-05-19T02:03:00.126Z",
          "shell.execute_reply": "2020-05-19T02:03:00.169Z"
        },
        "jupyter": {
          "outputs_hidden": false,
          "source_hidden": false
        },
        "nteract": {
          "transient": {
            "deleting": false
          }
        },
        "outputExpanded": false,
        "trusted": false
      },
      "outputs": [
        {
          "data": {
            "application/vnd.dataresource+json": {
              "data": [
                {
                  "date": "2020-05-19",
                  "eventName": "Harsh_break",
                  "fuelType": "Hybrid",
                  "id": "3036a183-421c-4927-be0f-c09855ff3d85",
                  "index": 0,
                  "region": "Palau",
                  "s1": 460.29778670393756,
                  "s2": 624.5488938002609,
                  "s3": 116.36875082802435,
                  "timestamp": "2020-05-19T01:31:57.5951579+00:00",
                  "vehicleType": "SUV",
                  "vin": "8"
                },
                {
                  "date": "2020-05-19",
                  "eventName": "Airbag_deploy",
                  "fuelType": "Hybrid",
                  "id": "c6b6b0b4-5c7d-4355-a319-d1fa49594419",
                  "index": 1,
                  "region": "South Africa",
                  "s1": 1643.5989997073073,
                  "s2": 1111.2878889945744,
                  "s3": 968.7595446108652,
                  "timestamp": "2020-05-19T01:31:57.5951905+00:00",
                  "vehicleType": "Cargo Van",
                  "vin": "8"
                },
                {
                  "date": "2020-05-19",
                  "eventName": "Harsh_break",
                  "fuelType": "Hybrid",
                  "id": "bbcd3393-1063-48d1-b61b-40c4f725e3fa",
                  "index": 2,
                  "region": "Poland",
                  "s1": 560.3372826852543,
                  "s2": 294.13654353429405,
                  "s3": 1710.393018274751,
                  "timestamp": "2020-05-19T01:31:57.5952079+00:00",
                  "vehicleType": "Coupe",
                  "vin": "8"
                },
                {
                  "date": "2020-05-19",
                  "eventName": "Check_engine_light",
                  "fuelType": "Electric",
                  "id": "7ff39951-588c-4b4c-bfa0-496a6aea5de5",
                  "index": 3,
                  "region": "Libyan Arab Jamahiriya",
                  "s1": 1455.3582410511367,
                  "s2": 359.81813223837787,
                  "s3": 331.5083579171953,
                  "timestamp": "2020-05-19T01:31:57.5955059+00:00",
                  "vehicleType": "Minivan",
                  "vin": "8"
                },
                {
                  "date": "2020-05-19",
                  "eventName": "Check_engine_light",
                  "fuelType": "Hybrid",
                  "id": "8f6bde5c-f752-438d-a355-c8cde08ae869",
                  "index": 4,
                  "region": "Saint Vincent and the Grenadines",
                  "s1": 242.13843417453506,
                  "s2": 1337.3460716159764,
                  "s3": 739.5041756734738,
                  "timestamp": "2020-05-19T01:31:57.5956135+00:00",
                  "vehicleType": "Passenger Van",
                  "vin": "8"
                }
              ],
              "schema": {
                "fields": [
                  {
                    "name": "index",
                    "type": "integer"
                  },
                  {
                    "name": "id",
                    "type": "string"
                  },
                  {
                    "name": "vin",
                    "type": "string"
                  },
                  {
                    "name": "eventName",
                    "type": "string"
                  },
                  {
                    "name": "vehicleType",
                    "type": "string"
                  },
                  {
                    "name": "fuelType",
                    "type": "string"
                  },
                  {
                    "name": "s1",
                    "type": "number"
                  },
                  {
                    "name": "s2",
                    "type": "number"
                  },
                  {
                    "name": "s3",
                    "type": "number"
                  },
                  {
                    "name": "timestamp",
                    "type": "string"
                  },
                  {
                    "name": "date",
                    "type": "string"
                  },
                  {
                    "name": "region",
                    "type": "string"
                  }
                ],
                "primaryKey": [
                  "index"
                ]
              }
            },
            "text/plain": "System.Collections.Generic.List`1[Submission#28+TelemetryEvent]"
          },
          "execution_count": 22,
          "metadata": {
            "application/vnd.dataresource+json": {
              "dx": {
                "areaType": "hexbin",
                "barGrouping": "Clustered",
                "chart": {
                  "dim1": "vin",
                  "dim2": "date",
                  "dim3": "none",
                  "metric1": "s1",
                  "metric2": "s2",
                  "metric3": "none",
                  "metric4": "none",
                  "networkLabel": "none",
                  "timeseriesSort": "array-order"
                },
                "colors": [
                  "#DA752E",
                  "#E5C209",
                  "#1441A0",
                  "#B86117",
                  "#4D430C",
                  "#1DB390",
                  "#B3331D",
                  "#088EB2",
                  "#417505",
                  "#E479A8",
                  "#F9F39E",
                  "#5782DC",
                  "#EBA97B",
                  "#A2AB60",
                  "#B291CF",
                  "#8DD2C2",
                  "#E6A19F",
                  "#3DC7E0",
                  "#98CE5B"
                ],
                "hierarchyType": "dendrogram",
                "lineType": "line",
                "marginalGraphics": "none",
                "networkType": "force",
                "pieceType": "bar",
                "selectedDimensions": [
                  "vin"
                ],
                "selectedMetrics": [],
                "summaryType": "violin",
                "trendLine": "none",
                "view": "grid"
              }
            }
          },
          "output_type": "execute_result"
        }
      ],
      "source": "QueryDefinition queryDefinition = new QueryDefinition(\"SELECT TOP 5 * FROM c WHERE c.vin = @vin\")\n                                      .WithParameter(\"@vin\", \"8\");\n\nFeedIterator<TelemetryEvent> queryResultSetIterator = container.GetItemQueryIterator<TelemetryEvent>(queryDefinition);\n\nList<TelemetryEvent> telemetryEvents = new List<TelemetryEvent>();\n\nwhile (queryResultSetIterator.HasMoreResults)\n{\n    FeedResponse<TelemetryEvent> currentResultSet = await queryResultSetIterator.ReadNextAsync();\n    foreach (TelemetryEvent telemetryEvent in currentResultSet)\n    {\n        telemetryEvents.Add(telemetryEvent);\n    }\n}\n\ntelemetryEvents"
    },
    {
      "cell_type": "code",
      "execution_count": 23,
      "metadata": {
        "collapsed": false,
        "execution": {
          "iopub.status.busy": "2020-05-19T02:03:00.225Z",
          "iopub.status.idle": "2020-05-19T02:03:00.715Z",
          "shell.execute_reply": "2020-05-19T02:03:00.839Z"
        },
        "inputHidden": false,
        "outputHidden": false,
        "trusted": false
      },
      "outputs": [
        {
          "data": {
            "application/vnd.dataresource+json": {
              "data": [
                {
                  "date": "",
                  "eventName": "",
                  "fuelType": "",
                  "id": "",
                  "index": 0,
                  "region": "",
                  "s1": "",
                  "s2": "",
                  "s3": "",
                  "timestamp": "",
                  "vehicleType": "",
                  "vin": "",
                  "~Value~": null
                },
                {
                  "date": "2020-05-19",
                  "eventName": "Check_engine_light",
                  "fuelType": "Hybrid",
                  "id": "8f6bde5c-f752-438d-a355-c8cde08ae869",
                  "index": 1,
                  "region": "Saint Vincent and the Grenadines",
                  "s1": 242.13843417453506,
                  "s2": 1337.3460716159764,
                  "s3": 739.5041756734738,
                  "timestamp": "2020-05-19T01:31:57.5956135+00:00",
                  "vehicleType": "Passenger Van",
                  "vin": "8",
                  "~Value~": ""
                },
                {
                  "date": "",
                  "eventName": "",
                  "fuelType": "",
                  "id": "",
                  "index": 2,
                  "region": "",
                  "s1": "",
                  "s2": "",
                  "s3": "",
                  "timestamp": "",
                  "vehicleType": "",
                  "vin": "",
                  "~Value~": null
                },
                {
                  "date": "",
                  "eventName": "",
                  "fuelType": "",
                  "id": "",
                  "index": 3,
                  "region": "",
                  "s1": "",
                  "s2": "",
                  "s3": "",
                  "timestamp": "",
                  "vehicleType": "",
                  "vin": "",
                  "~Value~": null
                },
                {
                  "date": "",
                  "eventName": "",
                  "fuelType": "",
                  "id": "",
                  "index": 4,
                  "region": "",
                  "s1": "",
                  "s2": "",
                  "s3": "",
                  "timestamp": "",
                  "vehicleType": "",
                  "vin": "",
                  "~Value~": null
                }
              ],
              "schema": {
                "fields": [
                  {
                    "name": "index",
                    "type": "integer"
                  },
                  {
                    "name": "~Value~",
                    "type": "null"
                  },
                  {
                    "name": "id",
                    "type": "string"
                  },
                  {
                    "name": "vin",
                    "type": "string"
                  },
                  {
                    "name": "eventName",
                    "type": "string"
                  },
                  {
                    "name": "vehicleType",
                    "type": "string"
                  },
                  {
                    "name": "fuelType",
                    "type": "string"
                  },
                  {
                    "name": "s1",
                    "type": "number"
                  },
                  {
                    "name": "s2",
                    "type": "number"
                  },
                  {
                    "name": "s3",
                    "type": "number"
                  },
                  {
                    "name": "timestamp",
                    "type": "string"
                  },
                  {
                    "name": "date",
                    "type": "string"
                  },
                  {
                    "name": "region",
                    "type": "string"
                  }
                ],
                "primaryKey": [
                  "index"
                ]
              }
            },
            "text/plain": "Submission#28+TelemetryEvent[]"
          },
          "execution_count": 23,
          "metadata": {
            "application/vnd.dataresource+json": {
              "dx": {
                "areaType": "hexbin",
                "barGrouping": "Clustered",
                "chart": {
                  "dim1": "id",
                  "dim2": "vin",
                  "dim3": "none",
                  "metric1": "s1",
                  "metric2": "s2",
                  "metric3": "none",
                  "metric4": "none",
                  "networkLabel": "none",
                  "timeseriesSort": "array-order"
                },
                "colors": [
                  "#DA752E",
                  "#E5C209",
                  "#1441A0",
                  "#B86117",
                  "#4D430C",
                  "#1DB390",
                  "#B3331D",
                  "#088EB2",
                  "#417505",
                  "#E479A8",
                  "#F9F39E",
                  "#5782DC",
                  "#EBA97B",
                  "#A2AB60",
                  "#B291CF",
                  "#8DD2C2",
                  "#E6A19F",
                  "#3DC7E0",
                  "#98CE5B"
                ],
                "hierarchyType": "dendrogram",
                "lineType": "line",
                "marginalGraphics": "none",
                "networkType": "force",
                "pieceType": "bar",
                "selectedDimensions": [
                  "id"
                ],
                "selectedMetrics": [],
                "summaryType": "violin",
                "trendLine": "none",
                "view": "grid"
              }
            }
          },
          "output_type": "execute_result"
        }
      ],
      "source": "QueryDefinition queryDefinition = new QueryDefinition(\"SELECT TOP 5 * FROM c WHERE c.vin = @vin\")\n                                      .WithParameter(\"@vin\", \"8\");\n\nFeedIterator<TelemetryEvent> queryResultSetIterator = container.GetItemQueryIterator<TelemetryEvent>(queryDefinition);\n\nTelemetryEvent[] telemetryEvents = new TelemetryEvent[5]; \n\n//List<TelemetryEvent> telemetryEvents = new List<TelemetryEvent>();\n\nvar i = 0;\nwhile (queryResultSetIterator.HasMoreResults & i<5)\n{\n    i++;\n    FeedResponse<TelemetryEvent> currentResultSet = await queryResultSetIterator.ReadNextAsync();\n    foreach (TelemetryEvent telemetryEvent in currentResultSet)\n    {\n        //telemetryEvents.Add(telemetryEvent);\n        telemetryEvents[i] = telemetryEvent;\n    }\n}\n\ntelemetryEvents"
    },
    {
      "cell_type": "markdown",
      "metadata": {},
      "source": "### Next steps\n- See [samples](https://github.com/Azure/azure-cosmos-dotnet-v3/tree/master/Microsoft.Azure.Cosmos.Samples) for the [Azure Cosmos DB .NET SDK](https://www.nuget.org/packages/Microsoft.Azure.Cosmos/)\n- Learn about how to choose the right [throughput (RU/s)](https://docs.microsoft.com/azure/cosmos-db/estimate-ru-with-capacity-planner) for a workload\n- Learn about how to [choose a good partition key](https://docs.microsoft.com/azure/cosmos-db/partitioning-overview) and [model your data](https://docs.microsoft.com/azure/cosmos-db/how-to-model-partition-example)"
    }
  ],
  "metadata": {
    "kernelspec": {
      "displayName": "CSharp",
      "language": "csharp",
      "name": "csharp"
    },
    "language_info": {
      "codemirror_mode": "text/x-csharp",
      "file_extension": "ipynb",
      "mimetype": "application/json",
      "name": "csharp",
      "version": "7.3"
    },
    "nteract": {
      "version": "dataExplorer 1.0"
    }
  },
  "nbformat": 4,
  "nbformat_minor": 4
}