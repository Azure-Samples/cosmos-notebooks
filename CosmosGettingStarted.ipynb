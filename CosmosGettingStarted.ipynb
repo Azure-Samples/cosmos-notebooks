{
 "cells": [
  {
   "cell_type": "markdown",
   "metadata": {},
   "source": "# Getting started with Cosmos notebooks\nIn this notebook, we'll import some sample data in a container in Azure Cosmos DB, analyze it, and create some visualizations of the data. "
  },
  {
   "cell_type": "markdown",
   "metadata": {},
   "source": "### First, let's create an instance of CosmosClient we can use to run operations against Azure Cosmos DB."
  },
  {
   "cell_type": "code",
   "execution_count": 2,
   "metadata": {
    "trusted": true
   },
   "outputs": [],
   "source": "## Create an instance of CosmosClient\nimport os\nimport azure.cosmos.cosmos_client as cosmos\nimport azure.cosmos.errors as errors\n\nclient = cosmos.CosmosClient(os.environ[\"COSMOS_ENDPOINT\"], {'masterKey': os.environ[\"COSMOS_KEY\"]})\n"
  },
  {
   "cell_type": "code",
   "execution_count": 3,
   "metadata": {
    "trusted": true
   },
   "outputs": [
    {
     "name": "stdout",
     "output_type": "stream",
     "text": "Requirement already satisfied: geopandas in /usr/local/lib/python3.6/dist-packages (0.5.1)\nRequirement already satisfied: pandas in /root/.local/lib/python3.6/site-packages (from geopandas) (0.24.2)\nRequirement already satisfied: fiona in /usr/local/lib/python3.6/dist-packages (from geopandas) (1.8.6)\nRequirement already satisfied: pyproj in /usr/local/lib/python3.6/dist-packages (from geopandas) (2.2.1)\nRequirement already satisfied: shapely in /usr/local/lib/python3.6/dist-packages (from geopandas) (1.6.4.post2)\nRequirement already satisfied: python-dateutil>=2.5.0 in /root/.local/lib/python3.6/site-packages (from pandas->geopandas) (2.8.0)\nRequirement already satisfied: numpy>=1.12.0 in /root/.local/lib/python3.6/site-packages (from pandas->geopandas) (1.16.4)\nRequirement already satisfied: pytz>=2011k in /root/.local/lib/python3.6/site-packages (from pandas->geopandas) (2019.1)\nRequirement already satisfied: click<8,>=4.0 in /usr/local/lib/python3.6/dist-packages (from fiona->geopandas) (7.0)\nRequirement already satisfied: click-plugins>=1.0 in /usr/local/lib/python3.6/dist-packages (from fiona->geopandas) (1.1.1)\nRequirement already satisfied: cligj>=0.5 in /usr/local/lib/python3.6/dist-packages (from fiona->geopandas) (0.5.0)\nRequirement already satisfied: six>=1.7 in /root/.local/lib/python3.6/site-packages (from fiona->geopandas) (1.12.0)\nRequirement already satisfied: attrs>=17 in /root/.local/lib/python3.6/site-packages (from fiona->geopandas) (19.1.0)\nRequirement already satisfied: munch in /usr/local/lib/python3.6/dist-packages (from fiona->geopandas) (2.3.2)\n\u001b[33mWARNING: You are using pip version 19.1.1, however version 19.2.2 is available.\nYou should consider upgrading via the 'pip install --upgrade pip' command.\u001b[0m\n"
    }
   ],
   "source": "import sys\n#!{sys.executable} -m pip install cufflinks\n#!{sys.executable} -m pip install bokeh\n!{sys.executable} -m pip install geopandas\n#!{sys.executable} -m pip install plotly==4.1.0\n"
  },
  {
   "cell_type": "markdown",
   "metadata": {},
   "source": "### Create a new database named RetailDemo for our data."
  },
  {
   "cell_type": "code",
   "execution_count": 30,
   "metadata": {
    "trusted": true
   },
   "outputs": [
    {
     "name": "stdout",
     "output_type": "stream",
     "text": "A database with name 'RetailDemo' already exists\n"
    }
   ],
   "source": "## Create a new database if it doesn't exist.\ndatabase_id = \"RetailDemo\"\ndatabase_link = 'dbs/' + database_id\n\ntry:\n    client.CreateDatabase({\"id\": database_id})\n    print('Database with id \\'{0}\\' created'.format(id))\n\nexcept errors.HTTPFailure as e:\n    if e.status_code == 409:\n       print('A database with name \\'{0}\\' already exists'.format(database_id))\n    else: \n        raise"
  },
  {
   "cell_type": "markdown",
   "metadata": {},
   "source": "### Create a new container WebsiteData inside the RetailDemo database.\nOur dataset will contain events that occurred on the website - e.g. a user viewing an item, adding it to their cart, or purchasing it. We will partition by CartId, which represents the individual cart of each user. This will give us an even distribution of throughput and storage in our container. Learn more about how to [choose a good partition key.](https://docs.microsoft.com/azure/cosmos-db/partition-data)"
  },
  {
   "cell_type": "code",
   "execution_count": 31,
   "metadata": {
    "trusted": true
   },
   "outputs": [
    {
     "name": "stdout",
     "output_type": "stream",
     "text": "A container with id 'WebsiteData' already exists\n"
    }
   ],
   "source": "## Create a new container if it doesn't already exist\ncontainer_id = \"WebsiteData\"\ncontainer_link = database_link + '/colls/' + container_id\ntry:\n    container_definition = {\n        \"id\": container_id,\n        \"partitionKey\": {\n            \"paths\": [\n              \"/CartId\"\n            ]\n        }\n    }\n\n    container = client.CreateContainer(database_link, container_definition)\n    print('Container with id \\'{0}\\' created'.format(container_id))\n\nexcept errors.CosmosError as e:\n    if e.status_code == 409:\n       print('A container with id \\'{0}\\' already exists'.format(container_id))\n    else: \n        raise"
  },
  {
   "cell_type": "markdown",
   "metadata": {},
   "source": "### Load in sample JSON data and insert into the container. \nWe'll use the **UpsertItem** operation to create the item if it doesn't exist, or replace it if it already exists. This will take a few minutes\n\nHere's a sample JSON document.\n```\n{\"CartID\":5399,\n\"Action\":\"Viewed\",\n\"Item\":\"Cosmos T-shirt\",\n\"Price\":350,\n\"UserName\":\"Chadrick.Larkin87\",\n\"Country\":\"Iceland\",\n\"EventDate\":\"2015-06-25T00:00:00\",\n\"Year\":2015,\"Latitude\":-66.8673,\n\"Longitude\":-29.8214,\n\"Address\":\"852 Modesto Loop, Port Ola, Iceland\",\n\"id\":\"00ffd39c-7e98-4451-9b91-b2bcf2f9a32d\"},\n```"
  },
  {
   "cell_type": "code",
   "execution_count": 6,
   "metadata": {
    "trusted": true
   },
   "outputs": [],
   "source": "## Read data from storage\nimport urllib.request, json \nwith urllib.request.urlopen(\"https://cosmosnotebooksdata.blob.core.windows.net/notebookdata/websiteData.json\") as url:\n    data = json.loads(url.read().decode())\n\nfor event in data[:5]:\n    try: \n        test = client.UpsertItem(container_link, event)\n    except errors.CosmosError as e:\n        raise"
  },
  {
   "cell_type": "markdown",
   "metadata": {},
   "source": "## Run a query against Azure Cosmos DB, using **CosmosClient**.\nWe'll run the query **SELECT VALUE COUNT(1) FROM c** to count the number of documents in the container."
  },
  {
   "cell_type": "code",
   "execution_count": 32,
   "metadata": {
    "trusted": true
   },
   "outputs": [
    {
     "name": "stdout",
     "output_type": "stream",
     "text": "Container with id 'WebsiteData' contains '2654' items\n"
    }
   ],
   "source": "## Run a query against the container to see number of documents\nquery = {'query': 'SELECT VALUE COUNT(1) FROM c'}\n\noptions = {}\noptions['enableCrossPartitionQuery'] = True\n\nresult_iterable = client.QueryItems(container_link, query, options)\nfor item in iter(result_iterable):\n    print('Container with id \\'{0}\\' contains \\'{1}\\' items'.format(container_id, item))\n    \n    "
  },
  {
   "cell_type": "markdown",
   "metadata": {},
   "source": "## Run some queries against Azure Cosmos DB, using the built-in notebook magic\nWe'll use the syntax:\n\n```%%sql --database {database_id} --container {container_id}\n{Query text}```"
  },
  {
   "cell_type": "markdown",
   "metadata": {},
   "source": "### Query #1\nGet the latest record, using the query: ```SELECT TOP 1 * FROM c ORDER BY c._ts desc```"
  },
  {
   "cell_type": "code",
   "execution_count": 33,
   "metadata": {
    "trusted": true
   },
   "outputs": [
    {
     "data": {
      "text/html": "<div>\n<style scoped>\n    .dataframe tbody tr th:only-of-type {\n        vertical-align: middle;\n    }\n\n    .dataframe tbody tr th {\n        vertical-align: top;\n    }\n\n    .dataframe thead th {\n        text-align: right;\n    }\n</style>\n<table border=\"1\" class=\"dataframe\">\n  <thead>\n    <tr style=\"text-align: right;\">\n      <th></th>\n      <th>Action</th>\n      <th>Address</th>\n      <th>CartID</th>\n      <th>Country</th>\n      <th>EventDate</th>\n      <th>Item</th>\n      <th>Latitude</th>\n      <th>Longitude</th>\n      <th>Price</th>\n      <th>UserName</th>\n      <th>Year</th>\n      <th>_attachments</th>\n      <th>_etag</th>\n      <th>_rid</th>\n      <th>_self</th>\n      <th>_ts</th>\n      <th>id</th>\n    </tr>\n  </thead>\n  <tbody>\n    <tr>\n      <th>0</th>\n      <td>Viewed</td>\n      <td>09601 Kacey Mount, Bahringerhaven, Czech Republic</td>\n      <td>2924</td>\n      <td>Czech Republic</td>\n      <td>2019-04-08T00:00:00</td>\n      <td>Rainjacket</td>\n      <td>19.105</td>\n      <td>-60.2559</td>\n      <td>55</td>\n      <td>Gerhard47</td>\n      <td>2019</td>\n      <td>attachments/</td>\n      <td>\"00002800-0000-0400-0000-5d5b2e020000\"</td>\n      <td>DQMeAJ+SPd4FAAAAAAAAAA==</td>\n      <td>dbs/DQMeAA==/colls/DQMeAJ+SPd4=/docs/DQMeAJ+SP...</td>\n      <td>1566256642</td>\n      <td>526d2d25-a087-4c81-917f-504958567616</td>\n    </tr>\n  </tbody>\n</table>\n</div>",
      "text/plain": "   Action                                            Address  CartID  \\\n0  Viewed  09601 Kacey Mount, Bahringerhaven, Czech Republic    2924   \n\n          Country            EventDate        Item  Latitude  Longitude  \\\n0  Czech Republic  2019-04-08T00:00:00  Rainjacket    19.105   -60.2559   \n\n   Price   UserName  Year  _attachments  \\\n0     55  Gerhard47  2019  attachments/   \n\n                                    _etag                      _rid  \\\n0  \"00002800-0000-0400-0000-5d5b2e020000\"  DQMeAJ+SPd4FAAAAAAAAAA==   \n\n                                               _self         _ts  \\\n0  dbs/DQMeAA==/colls/DQMeAJ+SPd4=/docs/DQMeAJ+SP...  1566256642   \n\n                                     id  \n0  526d2d25-a087-4c81-917f-504958567616  "
     },
     "execution_count": 33,
     "metadata": {},
     "output_type": "execute_result"
    }
   ],
   "source": "%%sql --database {database_id} --container {container_id}\nSELECT TOP 1 * from c order by c._ts desc"
  },
  {
   "cell_type": "markdown",
   "metadata": {},
   "source": "### Query #2\nGet particular fields we want to visualize and analyze, using the query: ```SELECT c.Action, c.Price as ItemRevenue, c.Country, c.Item FROM c```"
  },
  {
   "cell_type": "code",
   "execution_count": 34,
   "metadata": {
    "trusted": true
   },
   "outputs": [
    {
     "data": {
      "text/html": "<div>\n<style scoped>\n    .dataframe tbody tr th:only-of-type {\n        vertical-align: middle;\n    }\n\n    .dataframe tbody tr th {\n        vertical-align: top;\n    }\n\n    .dataframe thead th {\n        text-align: right;\n    }\n</style>\n<table border=\"1\" class=\"dataframe\">\n  <thead>\n    <tr style=\"text-align: right;\">\n      <th></th>\n      <th>Action</th>\n      <th>Country</th>\n      <th>Item</th>\n      <th>ItemRevenue</th>\n    </tr>\n  </thead>\n  <tbody>\n    <tr>\n      <th>0</th>\n      <td>Viewed</td>\n      <td>Tunisia</td>\n      <td>Black Tee</td>\n      <td>9.00</td>\n    </tr>\n    <tr>\n      <th>1</th>\n      <td>Viewed</td>\n      <td>Antigua and Barbuda</td>\n      <td>Flannel Shirt</td>\n      <td>19.99</td>\n    </tr>\n    <tr>\n      <th>2</th>\n      <td>Added</td>\n      <td>Guinea-Bissau</td>\n      <td>Socks</td>\n      <td>3.75</td>\n    </tr>\n    <tr>\n      <th>3</th>\n      <td>Viewed</td>\n      <td>Guinea-Bissau</td>\n      <td>Socks</td>\n      <td>3.75</td>\n    </tr>\n    <tr>\n      <th>4</th>\n      <td>Viewed</td>\n      <td>Czech Republic</td>\n      <td>Rainjacket</td>\n      <td>55.00</td>\n    </tr>\n    <tr>\n      <th>5</th>\n      <td>Viewed</td>\n      <td>Iceland</td>\n      <td>Cosmos T-shirt</td>\n      <td>350.00</td>\n    </tr>\n    <tr>\n      <th>6</th>\n      <td>Added</td>\n      <td>Syrian Arab Republic</td>\n      <td>Button-Up Shirt</td>\n      <td>19.99</td>\n    </tr>\n    <tr>\n      <th>7</th>\n      <td>Viewed</td>\n      <td>Syrian Arab Republic</td>\n      <td>Button-Up Shirt</td>\n      <td>19.99</td>\n    </tr>\n    <tr>\n      <th>8</th>\n      <td>Viewed</td>\n      <td>Tuvalu</td>\n      <td>Red Top</td>\n      <td>33.00</td>\n    </tr>\n    <tr>\n      <th>9</th>\n      <td>Viewed</td>\n      <td>Cape Verde</td>\n      <td>Flip Flop Shoes</td>\n      <td>14.00</td>\n    </tr>\n    <tr>\n      <th>10</th>\n      <td>Purchased</td>\n      <td>Bahamas</td>\n      <td>Suit Pant</td>\n      <td>95.00</td>\n    </tr>\n    <tr>\n      <th>11</th>\n      <td>Viewed</td>\n      <td>Bahamas</td>\n      <td>Suit Pant</td>\n      <td>95.00</td>\n    </tr>\n    <tr>\n      <th>12</th>\n      <td>Added</td>\n      <td>Bahamas</td>\n      <td>Suit Pant</td>\n      <td>95.00</td>\n    </tr>\n    <tr>\n      <th>13</th>\n      <td>Added</td>\n      <td>Ghana</td>\n      <td>Fleece Jacket</td>\n      <td>65.00</td>\n    </tr>\n    <tr>\n      <th>14</th>\n      <td>Viewed</td>\n      <td>Ghana</td>\n      <td>Fleece Jacket</td>\n      <td>65.00</td>\n    </tr>\n    <tr>\n      <th>15</th>\n      <td>Purchased</td>\n      <td>Malawi</td>\n      <td>Athletic Shorts</td>\n      <td>22.50</td>\n    </tr>\n    <tr>\n      <th>16</th>\n      <td>Viewed</td>\n      <td>Malawi</td>\n      <td>Athletic Shorts</td>\n      <td>22.50</td>\n    </tr>\n    <tr>\n      <th>17</th>\n      <td>Added</td>\n      <td>Malawi</td>\n      <td>Athletic Shorts</td>\n      <td>22.50</td>\n    </tr>\n    <tr>\n      <th>18</th>\n      <td>Purchased</td>\n      <td>Virgin Islands</td>\n      <td>White Shirt</td>\n      <td>25.20</td>\n    </tr>\n    <tr>\n      <th>19</th>\n      <td>Viewed</td>\n      <td>Virgin Islands</td>\n      <td>White Shirt</td>\n      <td>25.20</td>\n    </tr>\n    <tr>\n      <th>20</th>\n      <td>Added</td>\n      <td>Virgin Islands</td>\n      <td>White Shirt</td>\n      <td>25.20</td>\n    </tr>\n    <tr>\n      <th>21</th>\n      <td>Viewed</td>\n      <td>Serbia</td>\n      <td>Denim Jacket</td>\n      <td>31.99</td>\n    </tr>\n    <tr>\n      <th>22</th>\n      <td>Purchased</td>\n      <td>Venezuela</td>\n      <td>Suit Pant</td>\n      <td>95.00</td>\n    </tr>\n    <tr>\n      <th>23</th>\n      <td>Viewed</td>\n      <td>Venezuela</td>\n      <td>Suit Pant</td>\n      <td>95.00</td>\n    </tr>\n    <tr>\n      <th>24</th>\n      <td>Added</td>\n      <td>Venezuela</td>\n      <td>Suit Pant</td>\n      <td>95.00</td>\n    </tr>\n    <tr>\n      <th>25</th>\n      <td>Purchased</td>\n      <td>Saint Lucia</td>\n      <td>Suit Pant</td>\n      <td>95.00</td>\n    </tr>\n    <tr>\n      <th>26</th>\n      <td>Viewed</td>\n      <td>Saint Lucia</td>\n      <td>Suit Pant</td>\n      <td>95.00</td>\n    </tr>\n    <tr>\n      <th>27</th>\n      <td>Added</td>\n      <td>Saint Lucia</td>\n      <td>Suit Pant</td>\n      <td>95.00</td>\n    </tr>\n    <tr>\n      <th>28</th>\n      <td>Viewed</td>\n      <td>Italy</td>\n      <td>Blazer Jacket</td>\n      <td>87.50</td>\n    </tr>\n    <tr>\n      <th>29</th>\n      <td>Purchased</td>\n      <td>Uruguay</td>\n      <td>Dark Jeans</td>\n      <td>90.00</td>\n    </tr>\n    <tr>\n      <th>...</th>\n      <td>...</td>\n      <td>...</td>\n      <td>...</td>\n      <td>...</td>\n    </tr>\n    <tr>\n      <th>2624</th>\n      <td>Purchased</td>\n      <td>Virgin Islands</td>\n      <td>Denim Jacket</td>\n      <td>31.99</td>\n    </tr>\n    <tr>\n      <th>2625</th>\n      <td>Viewed</td>\n      <td>Virgin Islands</td>\n      <td>Denim Jacket</td>\n      <td>31.99</td>\n    </tr>\n    <tr>\n      <th>2626</th>\n      <td>Added</td>\n      <td>Virgin Islands</td>\n      <td>Denim Jacket</td>\n      <td>31.99</td>\n    </tr>\n    <tr>\n      <th>2627</th>\n      <td>Viewed</td>\n      <td>Djibouti</td>\n      <td>Flip Flop Shoes</td>\n      <td>14.00</td>\n    </tr>\n    <tr>\n      <th>2628</th>\n      <td>Added</td>\n      <td>Nauru</td>\n      <td>Puffy Jacket</td>\n      <td>99.99</td>\n    </tr>\n    <tr>\n      <th>2629</th>\n      <td>Viewed</td>\n      <td>Nauru</td>\n      <td>Puffy Jacket</td>\n      <td>99.99</td>\n    </tr>\n    <tr>\n      <th>2630</th>\n      <td>Viewed</td>\n      <td>Malta</td>\n      <td>Green Sweater</td>\n      <td>30.00</td>\n    </tr>\n    <tr>\n      <th>2631</th>\n      <td>Added</td>\n      <td>Panama</td>\n      <td>Denim Shorts</td>\n      <td>50.00</td>\n    </tr>\n    <tr>\n      <th>2632</th>\n      <td>Viewed</td>\n      <td>Panama</td>\n      <td>Denim Shorts</td>\n      <td>50.00</td>\n    </tr>\n    <tr>\n      <th>2633</th>\n      <td>Purchased</td>\n      <td>United States Minor Outlying Islands</td>\n      <td>Gloves</td>\n      <td>20.00</td>\n    </tr>\n    <tr>\n      <th>2634</th>\n      <td>Viewed</td>\n      <td>United States Minor Outlying Islands</td>\n      <td>Gloves</td>\n      <td>20.00</td>\n    </tr>\n    <tr>\n      <th>2635</th>\n      <td>Added</td>\n      <td>United States Minor Outlying Islands</td>\n      <td>Gloves</td>\n      <td>20.00</td>\n    </tr>\n    <tr>\n      <th>2636</th>\n      <td>Purchased</td>\n      <td>Armenia</td>\n      <td>Silver Necklace</td>\n      <td>15.50</td>\n    </tr>\n    <tr>\n      <th>2637</th>\n      <td>Viewed</td>\n      <td>Armenia</td>\n      <td>Silver Necklace</td>\n      <td>15.50</td>\n    </tr>\n    <tr>\n      <th>2638</th>\n      <td>Added</td>\n      <td>Armenia</td>\n      <td>Silver Necklace</td>\n      <td>15.50</td>\n    </tr>\n    <tr>\n      <th>2639</th>\n      <td>Viewed</td>\n      <td>Cote d'Ivoire</td>\n      <td>Flip Flop Shoes</td>\n      <td>14.00</td>\n    </tr>\n    <tr>\n      <th>2640</th>\n      <td>Added</td>\n      <td>Azerbaijan</td>\n      <td>Athletic Shoes</td>\n      <td>75.00</td>\n    </tr>\n    <tr>\n      <th>2641</th>\n      <td>Viewed</td>\n      <td>Azerbaijan</td>\n      <td>Athletic Shoes</td>\n      <td>75.00</td>\n    </tr>\n    <tr>\n      <th>2642</th>\n      <td>Purchased</td>\n      <td>Aruba</td>\n      <td>Green Sweater</td>\n      <td>30.00</td>\n    </tr>\n    <tr>\n      <th>2643</th>\n      <td>Viewed</td>\n      <td>Aruba</td>\n      <td>Green Sweater</td>\n      <td>30.00</td>\n    </tr>\n    <tr>\n      <th>2644</th>\n      <td>Added</td>\n      <td>Aruba</td>\n      <td>Green Sweater</td>\n      <td>30.00</td>\n    </tr>\n    <tr>\n      <th>2645</th>\n      <td>Added</td>\n      <td>Tunisia</td>\n      <td>Walking Shoes</td>\n      <td>79.99</td>\n    </tr>\n    <tr>\n      <th>2646</th>\n      <td>Viewed</td>\n      <td>Tunisia</td>\n      <td>Walking Shoes</td>\n      <td>79.99</td>\n    </tr>\n    <tr>\n      <th>2647</th>\n      <td>Viewed</td>\n      <td>South Africa</td>\n      <td>Earring</td>\n      <td>8.00</td>\n    </tr>\n    <tr>\n      <th>2648</th>\n      <td>Viewed</td>\n      <td>India</td>\n      <td>Cosmos T-shirt</td>\n      <td>350.00</td>\n    </tr>\n    <tr>\n      <th>2649</th>\n      <td>Viewed</td>\n      <td>Romania</td>\n      <td>Jeans</td>\n      <td>85.00</td>\n    </tr>\n    <tr>\n      <th>2650</th>\n      <td>Added</td>\n      <td>Puerto Rico</td>\n      <td>Puffy Jacket</td>\n      <td>99.99</td>\n    </tr>\n    <tr>\n      <th>2651</th>\n      <td>Viewed</td>\n      <td>Puerto Rico</td>\n      <td>Puffy Jacket</td>\n      <td>99.99</td>\n    </tr>\n    <tr>\n      <th>2652</th>\n      <td>Added</td>\n      <td>Haiti</td>\n      <td>Flannel Shirt</td>\n      <td>19.99</td>\n    </tr>\n    <tr>\n      <th>2653</th>\n      <td>Viewed</td>\n      <td>Haiti</td>\n      <td>Flannel Shirt</td>\n      <td>19.99</td>\n    </tr>\n  </tbody>\n</table>\n<p>2654 rows × 4 columns</p>\n</div>",
      "text/plain": "         Action                               Country              Item  \\\n0        Viewed                               Tunisia         Black Tee   \n1        Viewed                   Antigua and Barbuda     Flannel Shirt   \n2         Added                         Guinea-Bissau             Socks   \n3        Viewed                         Guinea-Bissau             Socks   \n4        Viewed                        Czech Republic        Rainjacket   \n5        Viewed                               Iceland    Cosmos T-shirt   \n6         Added                  Syrian Arab Republic   Button-Up Shirt   \n7        Viewed                  Syrian Arab Republic   Button-Up Shirt   \n8        Viewed                                Tuvalu           Red Top   \n9        Viewed                            Cape Verde   Flip Flop Shoes   \n10    Purchased                               Bahamas         Suit Pant   \n11       Viewed                               Bahamas         Suit Pant   \n12        Added                               Bahamas         Suit Pant   \n13        Added                                 Ghana     Fleece Jacket   \n14       Viewed                                 Ghana     Fleece Jacket   \n15    Purchased                                Malawi   Athletic Shorts   \n16       Viewed                                Malawi   Athletic Shorts   \n17        Added                                Malawi   Athletic Shorts   \n18    Purchased                        Virgin Islands       White Shirt   \n19       Viewed                        Virgin Islands       White Shirt   \n20        Added                        Virgin Islands       White Shirt   \n21       Viewed                                Serbia      Denim Jacket   \n22    Purchased                             Venezuela         Suit Pant   \n23       Viewed                             Venezuela         Suit Pant   \n24        Added                             Venezuela         Suit Pant   \n25    Purchased                           Saint Lucia         Suit Pant   \n26       Viewed                           Saint Lucia         Suit Pant   \n27        Added                           Saint Lucia         Suit Pant   \n28       Viewed                                 Italy     Blazer Jacket   \n29    Purchased                               Uruguay        Dark Jeans   \n...         ...                                   ...               ...   \n2624  Purchased                        Virgin Islands      Denim Jacket   \n2625     Viewed                        Virgin Islands      Denim Jacket   \n2626      Added                        Virgin Islands      Denim Jacket   \n2627     Viewed                              Djibouti   Flip Flop Shoes   \n2628      Added                                 Nauru      Puffy Jacket   \n2629     Viewed                                 Nauru      Puffy Jacket   \n2630     Viewed                                 Malta     Green Sweater   \n2631      Added                                Panama      Denim Shorts   \n2632     Viewed                                Panama      Denim Shorts   \n2633  Purchased  United States Minor Outlying Islands            Gloves   \n2634     Viewed  United States Minor Outlying Islands            Gloves   \n2635      Added  United States Minor Outlying Islands            Gloves   \n2636  Purchased                               Armenia   Silver Necklace   \n2637     Viewed                               Armenia   Silver Necklace   \n2638      Added                               Armenia   Silver Necklace   \n2639     Viewed                         Cote d'Ivoire   Flip Flop Shoes   \n2640      Added                            Azerbaijan    Athletic Shoes   \n2641     Viewed                            Azerbaijan    Athletic Shoes   \n2642  Purchased                                 Aruba     Green Sweater   \n2643     Viewed                                 Aruba     Green Sweater   \n2644      Added                                 Aruba     Green Sweater   \n2645      Added                               Tunisia     Walking Shoes   \n2646     Viewed                               Tunisia     Walking Shoes   \n2647     Viewed                          South Africa           Earring   \n2648     Viewed                                 India    Cosmos T-shirt   \n2649     Viewed                               Romania             Jeans   \n2650      Added                           Puerto Rico      Puffy Jacket   \n2651     Viewed                           Puerto Rico      Puffy Jacket   \n2652      Added                                 Haiti     Flannel Shirt   \n2653     Viewed                                 Haiti     Flannel Shirt   \n\n      ItemRevenue  \n0            9.00  \n1           19.99  \n2            3.75  \n3            3.75  \n4           55.00  \n5          350.00  \n6           19.99  \n7           19.99  \n8           33.00  \n9           14.00  \n10          95.00  \n11          95.00  \n12          95.00  \n13          65.00  \n14          65.00  \n15          22.50  \n16          22.50  \n17          22.50  \n18          25.20  \n19          25.20  \n20          25.20  \n21          31.99  \n22          95.00  \n23          95.00  \n24          95.00  \n25          95.00  \n26          95.00  \n27          95.00  \n28          87.50  \n29          90.00  \n...           ...  \n2624        31.99  \n2625        31.99  \n2626        31.99  \n2627        14.00  \n2628        99.99  \n2629        99.99  \n2630        30.00  \n2631        50.00  \n2632        50.00  \n2633        20.00  \n2634        20.00  \n2635        20.00  \n2636        15.50  \n2637        15.50  \n2638        15.50  \n2639        14.00  \n2640        75.00  \n2641        75.00  \n2642        30.00  \n2643        30.00  \n2644        30.00  \n2645        79.99  \n2646        79.99  \n2647         8.00  \n2648       350.00  \n2649        85.00  \n2650        99.99  \n2651        99.99  \n2652        19.99  \n2653        19.99  \n\n[2654 rows x 4 columns]"
     },
     "execution_count": 34,
     "metadata": {},
     "output_type": "execute_result"
    }
   ],
   "source": "%%sql --database {database_id} --container {container_id}\nSELECT c.Action, c.Price as ItemRevenue, c.Country, c.Item FROM c"
  },
  {
   "cell_type": "markdown",
   "metadata": {},
   "source": "### Get result from previous cell into Pandas dataframe\nWe'll run a simple group by on the dataframe to sum the total sales revenue for each country and display a sample of the results."
  },
  {
   "cell_type": "code",
   "execution_count": 35,
   "metadata": {
    "trusted": true
   },
   "outputs": [],
   "source": "import pandas as pd\n\n## Create a dataframe using the output of the query in the previous cell \ndf = pd.DataFrame(_, columns = ['Action', 'Country', 'Item', 'ItemRevenue'])"
  },
  {
   "cell_type": "markdown",
   "metadata": {},
   "source": "### Sum revenue by country"
  },
  {
   "cell_type": "code",
   "execution_count": 36,
   "metadata": {
    "trusted": true
   },
   "outputs": [
    {
     "data": {
      "text/html": "<div>\n<style scoped>\n    .dataframe tbody tr th:only-of-type {\n        vertical-align: middle;\n    }\n\n    .dataframe tbody tr th {\n        vertical-align: top;\n    }\n\n    .dataframe thead th {\n        text-align: right;\n    }\n</style>\n<table border=\"1\" class=\"dataframe\">\n  <thead>\n    <tr style=\"text-align: right;\">\n      <th></th>\n      <th>Country</th>\n      <th>ItemRevenue</th>\n    </tr>\n  </thead>\n  <tbody>\n    <tr>\n      <th>0</th>\n      <td>Afghanistan</td>\n      <td>785.44</td>\n    </tr>\n    <tr>\n      <th>1</th>\n      <td>Albania</td>\n      <td>605.80</td>\n    </tr>\n    <tr>\n      <th>2</th>\n      <td>Algeria</td>\n      <td>1058.98</td>\n    </tr>\n    <tr>\n      <th>3</th>\n      <td>American Samoa</td>\n      <td>229.00</td>\n    </tr>\n    <tr>\n      <th>4</th>\n      <td>Andorra</td>\n      <td>247.49</td>\n    </tr>\n  </tbody>\n</table>\n</div>",
      "text/plain": "          Country  ItemRevenue\n0     Afghanistan       785.44\n1         Albania       605.80\n2         Algeria      1058.98\n3  American Samoa       229.00\n4         Andorra       247.49"
     },
     "metadata": {},
     "output_type": "display_data"
    }
   ],
   "source": "df_revenue = df.groupby(\"Country\").sum().reset_index()\n\ndisplay(df_revenue.head(5))"
  },
  {
   "cell_type": "markdown",
   "metadata": {},
   "source": "### Analyze top 5 popular purchased items"
  },
  {
   "cell_type": "code",
   "execution_count": 37,
   "metadata": {
    "trusted": true
   },
   "outputs": [
    {
     "data": {
      "text/html": "<div>\n<style scoped>\n    .dataframe tbody tr th:only-of-type {\n        vertical-align: middle;\n    }\n\n    .dataframe tbody tr th {\n        vertical-align: top;\n    }\n\n    .dataframe thead th {\n        text-align: right;\n    }\n</style>\n<table border=\"1\" class=\"dataframe\">\n  <thead>\n    <tr style=\"text-align: right;\">\n      <th></th>\n      <th>Count</th>\n    </tr>\n    <tr>\n      <th>Item</th>\n      <th></th>\n    </tr>\n  </thead>\n  <tbody>\n    <tr>\n      <th>Puffy Jacket</th>\n      <td>25</td>\n    </tr>\n    <tr>\n      <th>Athletic Shoes</th>\n      <td>20</td>\n    </tr>\n    <tr>\n      <th>Athletic Shorts</th>\n      <td>19</td>\n    </tr>\n    <tr>\n      <th>Crewneck Sweater</th>\n      <td>14</td>\n    </tr>\n    <tr>\n      <th>Light Jeans</th>\n      <td>13</td>\n    </tr>\n  </tbody>\n</table>\n</div>",
      "text/plain": "                  Count\nItem                   \nPuffy Jacket         25\nAthletic Shoes       20\nAthletic Shorts      19\nCrewneck Sweater     14\nLight Jeans          13"
     },
     "execution_count": 37,
     "metadata": {},
     "output_type": "execute_result"
    }
   ],
   "source": "## What are the top 5 purchased items?\npd.DataFrame(df[df['Action']=='Purchased'].groupby('Item').size().sort_values(ascending=False).head(), columns=['Count'])"
  },
  {
   "cell_type": "markdown",
   "metadata": {},
   "source": "## Visualization #1: Sales revenue by country on a world map\n\nNow that we have our data on revenue from our Cosmos container, we'll visualize it using bokeh. Credit to https://towardsdatascience.com/a-complete-guide-to-an-interactive-geographical-map-using-python-f4c5197e23e0 for inspiration."
  },
  {
   "cell_type": "markdown",
   "metadata": {},
   "source": "### Prepare our data to be plotted"
  },
  {
   "cell_type": "code",
   "execution_count": null,
   "metadata": {
    "trusted": true
   },
   "outputs": [],
   "source": "import urllib.request, json \nimport geopandas as gpd\n\n# Load country information for mapping\ncountries = gpd.read_file(\"https://raw.githubusercontent.com/datasets/geo-countries/master/data/countries.geojson\")\n\n# Merge the countries dataframe with our data in Azure Cosmos DB, joining on country code\ndf_merged = countries.merge(df_revenue, left_on = 'ADMIN', right_on = 'Country', how='left')\n\n# Convert to GeoJSON so bokeh can plot it\nmerged_json = json.loads(df_merged.to_json())\njson_data = json.dumps(merged_json)\n"
  },
  {
   "cell_type": "markdown",
   "metadata": {},
   "source": "### Plot the sales revenue on a world map\nThis may take a few seconds..."
  },
  {
   "cell_type": "code",
   "execution_count": null,
   "metadata": {
    "trusted": true
   },
   "outputs": [],
   "source": "from bokeh.io import output_notebook, show\nfrom bokeh.plotting import figure\nfrom bokeh.models import GeoJSONDataSource, LinearColorMapper, ColorBar\nfrom bokeh.palettes import brewer\n\n#Input GeoJSON source that contains features for plotting.\ngeosource = GeoJSONDataSource(geojson = json_data)\n\n#Choose our choropleth color palette: https://bokeh.pydata.org/en/latest/docs/reference/palettes.html\npalette = brewer['YlGn'][8]\n\n#Reverse color order so that dark green is highest revenue\npalette = palette[::-1]\n\n#Instantiate LinearColorMapper that linearly maps numbers in a range, into a sequence of colors.\ncolor_mapper = LinearColorMapper(palette = palette, low = 0, high = 1000)\n\n#Define custom tick labels for color bar.\ntick_labels = {'0': '$0', '250': '$250', '500':'$500', '750':'$750', '1000':'$1000', '1250':'$1250', '1500':'$1500','1750':'$1750', '2000': '>$2000'}\n\n#Create color bar. \ncolor_bar = ColorBar(color_mapper=color_mapper, label_standoff=8,width = 500, height = 20,\nborder_line_color=None,location = (0,0), orientation = 'horizontal', major_label_overrides = tick_labels)\n\n#Create figure object.\np = figure(title = 'Sales revenue by country', plot_height = 600 , plot_width = 950, toolbar_location = None)\np.xgrid.grid_line_color = None\np.ygrid.grid_line_color = None\n\n#Add patch renderer to figure. \np.patches('xs','ys', source = geosource,fill_color = {'field' :'ItemRevenue', 'transform' : color_mapper},\n          line_color = 'black', line_width = 0.25, fill_alpha = 1)\n\n#Specify figure layout.\np.add_layout(color_bar, 'below')\n\n#Display figure inline in Jupyter Notebook.\noutput_notebook()\n\n#Display figure.\nshow(p)"
  },
  {
   "cell_type": "markdown",
   "metadata": {},
   "source": "## Visualization #2: Conversion rate of Viewed -> Added to cart -> Purchased by item\n\nIn our WebsiteData container, we have a record of users who viewed an item, added to their cart, and purchased the item. We can visualize the conversion rate for each item."
  },
  {
   "cell_type": "markdown",
   "metadata": {},
   "source": "### Plot our data\nhttps://bokeh.pydata.org/en/latest/docs/user_guide/categorical.html"
  },
  {
   "cell_type": "code",
   "execution_count": null,
   "metadata": {
    "trusted": true
   },
   "outputs": [],
   "source": ""
  }
 ],
 "metadata": {
  "kernelspec": {
   "display_name": "Python 3",
   "language": "python",
   "name": "python3"
  },
  "language_info": {
   "codemirror_mode": {
    "name": "ipython",
    "version": 3
   },
   "file_extension": ".py",
   "mimetype": "text/x-python",
   "name": "python",
   "nbconvert_exporter": "python",
   "pygments_lexer": "ipython3",
   "version": "3.6.8"
  }
 },
 "nbformat": 4,
 "nbformat_minor": 2
}