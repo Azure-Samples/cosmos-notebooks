{
 "cells": [
  {
   "cell_type": "markdown",
   "metadata": {},
   "source": "# Getting started with Cosmos notebooks\nIn this notebook, we'll learn how to use Cosmos notebook features. We'll create a database and container, import some sample data in a container in Azure Cosmos DB and run some queries over it."
  },
  {
   "cell_type": "markdown",
   "metadata": {},
   "source": "### Create new database and container\n\nTo connect to the service, you can use our built-in instance of ```cosmos_client```. This is a ready to use instance of [CosmosClient](https://docs.microsoft.com/python/api/azure-cosmos/azure.cosmos.cosmos_client.cosmosclient?view=azure-python) from our Python SDK. It already has the context of this account baked in. We'll use ```cosmos_client``` to create a new database called **RetailDemo** and container called **WebsiteData**.\n\nOur dataset will contain events that occurred on the website - e.g. a user viewing an item, adding it to their cart, or purchasing it. We will partition by CartId, which represents the individual cart of each user. This will give us an even distribution of throughput and storage in our container. Learn more about how to [choose a good partition key.](https://docs.microsoft.com/azure/cosmos-db/partition-data)"
  },
  {
   "cell_type": "code",
   "execution_count": 4,
   "metadata": {
    "trusted": true
   },
   "outputs": [
    {
     "name": "stdout",
     "output_type": "stream",
     "text": "Database RetailDemo created\nContainer WebsiteData created\n"
    }
   ],
   "source": "import azure.cosmos\nfrom azure.cosmos.partition_key import PartitionKey\n\ndatabase = cosmos_client.create_database_if_not_exists('RetailDemo')\nprint('Database RetailDemo created')\n\ncontainer = database.create_container_if_not_exists(id='WebsiteData', partition_key=PartitionKey(path='/CartID'))\nprint('Container WebsiteData created')\n"
  },
  {
   "cell_type": "markdown",
   "metadata": {},
   "source": "#### Set the default database and container context to the new resources\n\nWe can use the ```%database {database_id}``` and ```%container {container_id}``` syntax."
  },
  {
   "cell_type": "code",
   "execution_count": 5,
   "metadata": {
    "trusted": true
   },
   "outputs": [],
   "source": "%database RetailDemo"
  },
  {
   "cell_type": "code",
   "execution_count": 6,
   "metadata": {
    "trusted": true
   },
   "outputs": [],
   "source": "%container WebsiteData"
  },
  {
   "cell_type": "markdown",
   "metadata": {},
   "source": "### Load in sample JSON data and insert into the container. \nWe'll use the **UpsertItem** operation to create the item if it doesn't exist, or replace it if it already exists. "
  },
  {
   "cell_type": "code",
   "execution_count": 7,
   "metadata": {
    "trusted": true
   },
   "outputs": [
    {
     "name": "stdout",
     "output_type": "stream",
     "text": "Collecting progressbar2\n  Downloading https://files.pythonhosted.org/packages/3f/f9/0dfd9136e6ae2393142841d641e0149ba6b04e26644ddd6e4a6755ab6d9e/progressbar2-3.46.1-py2.py3-none-any.whl\nRequirement already satisfied: six in /home/cosmosuser/.local/lib/python3.6/site-packages (from progressbar2) (1.12.0)\nCollecting python-utils>=2.3.0 (from progressbar2)\n  Downloading https://files.pythonhosted.org/packages/eb/a0/19119d8b7c05be49baf6c593f11c432d571b70d805f2fe94c0585e55e4c8/python_utils-2.3.0-py2.py3-none-any.whl\nInstalling collected packages: python-utils, progressbar2\nSuccessfully installed progressbar2-3.46.1 python-utils-2.3.0\n"
    }
   ],
   "source": "# We can install custom packages using pip install\nimport sys\n!{sys.executable} -m pip install progressbar2 --user"
  },
  {
   "cell_type": "code",
   "execution_count": 8,
   "metadata": {
    "trusted": true
   },
   "outputs": [
    {
     "name": "stderr",
     "output_type": "stream",
     "text": "N/A% (0 of 7) |                          | Elapsed Time: 0:00:00 ETA:  --:--:--\n 42% (3 of 7) |###########               | Elapsed Time: 0:00:00 ETA:  00:00:00\n100% (7 of 7) |##########################| Elapsed Time: 0:00:00 Time:  0:00:00\n"
    }
   ],
   "source": "## Read data from storage\nimport urllib.request, json \nimport progressbar\n\nwith urllib.request.urlopen(\"https://cosmosnotebooksdata.blob.core.windows.net/notebookdata/websiteData-small.json\") as url:\n    data = json.loads(url.read().decode())\n\nfor event in progressbar.progressbar(data):\n    try: \n        container.upsert_item(body=event)\n    except errors.CosmosError as e:\n        raise"
  },
  {
   "cell_type": "markdown",
   "metadata": {},
   "source": "The new database and container should show up under the **Data** section. Use the refresh icon after completing the previous cell. \n\n![RefreshData](https://cosmosnotebooksdata.blob.core.windows.net/notebookdata/refreshData.png)\n"
  },
  {
   "cell_type": "markdown",
   "metadata": {},
   "source": "### Run a query using the built-in Azure Cosmos notebook magic\n"
  },
  {
   "cell_type": "code",
   "execution_count": 28,
   "metadata": {
    "trusted": true
   },
   "outputs": [],
   "source": "%%sql\nSELECT c.Action, c.Price as ItemRevenue, c.Country, c.Item FROM c"
  },
  {
   "cell_type": "markdown",
   "metadata": {},
   "source": "We can get more information about the %%sql command using ```%%sql?```"
  },
  {
   "cell_type": "markdown",
   "metadata": {},
   "source": "### Next steps\n\nNow that you've learned how to use basic notebook functionality, follow the **Visualization.ipynb** notebook to further analyze and visualize our data. You can find it under the **Sample Notebooks** section."
  }
 ],
 "metadata": {
  "kernelspec": {
   "display_name": "Python 3",
   "language": "python",
   "name": "python3"
  },
  "language_info": {
   "codemirror_mode": {
    "name": "ipython",
    "version": 3
   },
   "file_extension": ".py",
   "mimetype": "text/x-python",
   "name": "python",
   "nbconvert_exporter": "python",
   "pygments_lexer": "ipython3",
   "version": "3.6.8"
  }
 },
 "nbformat": 4,
 "nbformat_minor": 2
}
