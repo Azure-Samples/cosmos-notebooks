{
 "cells": [
  {
   "cell_type": "markdown",
   "metadata": {},
   "source": "# Getting started with Cosmos notebooks\nIn this notebook, we'll learn how to use Cosmos notebook features. We'll create a database and container, import some sample data in a container in Azure Cosmos DB and run some queries over it."
  },
  {
   "cell_type": "markdown",
   "metadata": {},
   "source": "### Connecting to Azure Cosmos DB\n\nTo connect to the service, you can use our built-in instance of ```cosmos_client```. This is a ready to use instance of [CosmosClient]('https://docs.microsoft.com/python/api/azure-cosmos/azure.cosmos.cosmos_client.cosmosclient?view=azure-python') from our Python SDK. It already has the context of this account baked in. \n\nWe'll use ```cosmos_client``` to create a new database called **RetailDemo** and container called **WebsiteData**."
  },
  {
   "cell_type": "markdown",
   "metadata": {},
   "source": "#### Create a new database"
  },
  {
   "cell_type": "code",
   "execution_count": 67,
   "metadata": {
    "trusted": true
   },
   "outputs": [
    {
     "name": "stdout",
     "output_type": "stream",
     "text": "Database with id 'RetailDemo' created\n"
    }
   ],
   "source": "import azure.cosmos.errors as errors\n\n## Create a new database if it doesn't exist.\ndatabase_id = \"RetailDemo\"\ndatabase_link = 'dbs/' + database_id\n\ntry:\n    cosmos_client.CreateDatabase({\"id\": database_id})\n    print('Database with id \\'{0}\\' created'.format(database_id))\n\nexcept errors.HTTPFailure as e:\n    if e.status_code == 409:\n       print('A database with name \\'{0}\\' already exists'.format(database_id))\n    else: \n        raise"
  },
  {
   "cell_type": "markdown",
   "metadata": {},
   "source": "#### Create a new container\nOur dataset will contain events that occurred on the website - e.g. a user viewing an item, adding it to their cart, or purchasing it. We will partition by CartId, which represents the individual cart of each user. This will give us an even distribution of throughput and storage in our container. Learn more about how to [choose a good partition key.](https://docs.microsoft.com/azure/cosmos-db/partition-data)"
  },
  {
   "cell_type": "code",
   "execution_count": 68,
   "metadata": {
    "trusted": true
   },
   "outputs": [
    {
     "name": "stdout",
     "output_type": "stream",
     "text": "Container with id 'WebsiteData' created\n"
    }
   ],
   "source": "## Create a new container if it doesn't already exist\ncontainer_id = \"WebsiteData\"\ncontainer_link = database_link + '/colls/' + container_id\ntry:\n    container_definition = {\n        \"id\": container_id,\n        \"partitionKey\": {\n            \"paths\": [\n              \"/CartId\"\n            ]\n        }\n    }\n\n    container = client.CreateContainer(database_link, container_definition)\n    print('Container with id \\'{0}\\' created'.format(container_id))\n\nexcept errors.CosmosError as e:\n    if e.status_code == 409:\n       print('A container with id \\'{0}\\' already exists'.format(container_id))\n    else: \n        raise"
  },
  {
   "cell_type": "markdown",
   "metadata": {},
   "source": "#### Set the default database and container context to the new resources\n\nWe can use the ```%database {database_id}``` and ```%container {container_id}``` syntax."
  },
  {
   "cell_type": "code",
   "execution_count": 69,
   "metadata": {
    "trusted": true
   },
   "outputs": [],
   "source": "%database RetailDemo"
  },
  {
   "cell_type": "code",
   "execution_count": 70,
   "metadata": {
    "trusted": true
   },
   "outputs": [],
   "source": "%container WebsiteData"
  },
  {
   "cell_type": "markdown",
   "metadata": {},
   "source": "### Create your own custom ```CosmosClient``` instance\n\nFor more flexibility, you can create your own instance of ```CosmosClient``` and pass in custom options. Here, we pass in our own [ConnectionPolicy](https://docs.microsoft.com/python/api/azure-cosmos/azure.cosmos.documents.connectionpolicy?view=azure-python]). "
  },
  {
   "cell_type": "code",
   "execution_count": 71,
   "metadata": {
    "trusted": true
   },
   "outputs": [
    {
     "data": {
      "text/plain": "{'id': 'RetailDemo',\n '_rid': 'zlgUAA==',\n '_self': 'dbs/zlgUAA==/',\n '_etag': '\"0000f000-0000-0400-0000-5d6584090000\"',\n '_colls': 'colls/',\n '_users': 'users/',\n '_ts': 1566934025}"
     },
     "execution_count": 71,
     "metadata": {},
     "output_type": "execute_result"
    }
   ],
   "source": "import os\nimport azure.cosmos.cosmos_client as cosmos\nimport azure.cosmos.documents as documents\n\nconnectionPolicy = documents.ConnectionPolicy()\nconnectionPolicy.PreferredLocations = [\"West US 2\", \"East US 2\"] # Set the order of regions the SDK will route requests to\n\n## Create a new instance of CosmosClient, getting the endpoint and key from the environment variables\nclient = cosmos.CosmosClient(os.environ[\"COSMOS_ENDPOINT\"], {'masterKey': os.environ[\"COSMOS_KEY\"]})\n\ndatabase_id = \"RetailDemo\"\ndatabase_link = 'dbs/' + database_id\n\nclient.ReadDatabase(database_link)"
  },
  {
   "cell_type": "markdown",
   "metadata": {},
   "source": "### Load in sample JSON data and insert into the container. \nWe'll use the **UpsertItem** operation to create the item if it doesn't exist, or replace it if it already exists. This will take a few minutes.\n\nHere's a sample JSON document.\n```\n{\"CartID\":5399,\n\"Action\":\"Viewed\",\n\"Item\":\"Cosmos T-shirt\",\n\"Price\":350,\n\"UserName\":\"Chadrick.Larkin87\",\n\"Country\":\"Iceland\",\n\"EventDate\":\"2015-06-25T00:00:00\",\n\"Year\":2015,\"Latitude\":-66.8673,\n\"Longitude\":-29.8214,\n\"Address\":\"852 Modesto Loop, Port Ola, Iceland\",\n\"id\":\"00ffd39c-7e98-4451-9b91-b2bcf2f9a32d\"},\n```"
  },
  {
   "cell_type": "code",
   "execution_count": 72,
   "metadata": {
    "trusted": true
   },
   "outputs": [],
   "source": "## Read data from storage\nimport urllib.request, json \nwith urllib.request.urlopen(\"https://cosmosnotebooksdata.blob.core.windows.net/notebookdata/websiteData.json\") as url:\n    data = json.loads(url.read().decode())\n\nfor event in data:\n    try: \n        test = client.UpsertItem(container_link, event)\n    except errors.CosmosError as e:\n        raise"
  },
  {
   "cell_type": "markdown",
   "metadata": {},
   "source": "### Run a query against Azure Cosmos DB, using **cosmos_client**.\nWe'll run the query **SELECT VALUE COUNT(1) FROM c** to count the number of documents in the container."
  },
  {
   "cell_type": "code",
   "execution_count": 73,
   "metadata": {
    "trusted": true
   },
   "outputs": [
    {
     "name": "stdout",
     "output_type": "stream",
     "text": "Container with id 'WebsiteData' contains '2654' items\n"
    }
   ],
   "source": "## Run a query against the container to see number of documents\nquery = {'query': 'SELECT VALUE COUNT(1) FROM c'}\n\noptions = {}\noptions['enableCrossPartitionQuery'] = True\n\nresult_iterable = cosmos_client.QueryItems(container_link, query, options)\nfor item in iter(result_iterable):\n    print('Container with id \\'{0}\\' contains \\'{1}\\' items'.format(container_id, item))"
  },
  {
   "cell_type": "markdown",
   "metadata": {},
   "source": "### Run some queries against Azure Cosmos DB, using the built-in notebook magic\nWe'll use the syntax:\n\n```%%sql --database {database_id} --container {container_id} --output outputDataframeVar\n{Query text}```\n\nThis allows us to output the results of the query directly into a Pandas data frame.\n"
  },
  {
   "cell_type": "code",
   "execution_count": 74,
   "metadata": {
    "trusted": true
   },
   "outputs": [],
   "source": "%%sql --database RetailDemo --container WebsiteData --output df_cosmos\nSELECT c.Action, c.Price as ItemRevenue, c.Country, c.Item FROM c"
  },
  {
   "cell_type": "code",
   "execution_count": 75,
   "metadata": {
    "trusted": true
   },
   "outputs": [
    {
     "data": {
      "text/html": "<div>\n<style scoped>\n    .dataframe tbody tr th:only-of-type {\n        vertical-align: middle;\n    }\n\n    .dataframe tbody tr th {\n        vertical-align: top;\n    }\n\n    .dataframe thead th {\n        text-align: right;\n    }\n</style>\n<table border=\"1\" class=\"dataframe\">\n  <thead>\n    <tr style=\"text-align: right;\">\n      <th></th>\n      <th>Action</th>\n      <th>Country</th>\n      <th>Item</th>\n      <th>ItemRevenue</th>\n    </tr>\n  </thead>\n  <tbody>\n    <tr>\n      <th>0</th>\n      <td>Viewed</td>\n      <td>Tunisia</td>\n      <td>Black Tee</td>\n      <td>9.00</td>\n    </tr>\n    <tr>\n      <th>1</th>\n      <td>Viewed</td>\n      <td>Antigua and Barbuda</td>\n      <td>Flannel Shirt</td>\n      <td>19.99</td>\n    </tr>\n    <tr>\n      <th>2</th>\n      <td>Added</td>\n      <td>Guinea-Bissau</td>\n      <td>Socks</td>\n      <td>3.75</td>\n    </tr>\n    <tr>\n      <th>3</th>\n      <td>Viewed</td>\n      <td>Guinea-Bissau</td>\n      <td>Socks</td>\n      <td>3.75</td>\n    </tr>\n    <tr>\n      <th>4</th>\n      <td>Viewed</td>\n      <td>Czech Republic</td>\n      <td>Rainjacket</td>\n      <td>55.00</td>\n    </tr>\n    <tr>\n      <th>5</th>\n      <td>Viewed</td>\n      <td>Iceland</td>\n      <td>Cosmos T-shirt</td>\n      <td>350.00</td>\n    </tr>\n    <tr>\n      <th>6</th>\n      <td>Added</td>\n      <td>Syrian Arab Republic</td>\n      <td>Button-Up Shirt</td>\n      <td>19.99</td>\n    </tr>\n    <tr>\n      <th>7</th>\n      <td>Viewed</td>\n      <td>Syrian Arab Republic</td>\n      <td>Button-Up Shirt</td>\n      <td>19.99</td>\n    </tr>\n    <tr>\n      <th>8</th>\n      <td>Viewed</td>\n      <td>Tuvalu</td>\n      <td>Red Top</td>\n      <td>33.00</td>\n    </tr>\n    <tr>\n      <th>9</th>\n      <td>Viewed</td>\n      <td>Cape Verde</td>\n      <td>Flip Flop Shoes</td>\n      <td>14.00</td>\n    </tr>\n  </tbody>\n</table>\n</div>",
      "text/plain": "   Action               Country              Item  ItemRevenue\n0  Viewed               Tunisia         Black Tee         9.00\n1  Viewed   Antigua and Barbuda     Flannel Shirt        19.99\n2   Added         Guinea-Bissau             Socks         3.75\n3  Viewed         Guinea-Bissau             Socks         3.75\n4  Viewed        Czech Republic        Rainjacket        55.00\n5  Viewed               Iceland    Cosmos T-shirt       350.00\n6   Added  Syrian Arab Republic   Button-Up Shirt        19.99\n7  Viewed  Syrian Arab Republic   Button-Up Shirt        19.99\n8  Viewed                Tuvalu           Red Top        33.00\n9  Viewed            Cape Verde   Flip Flop Shoes        14.00"
     },
     "execution_count": 75,
     "metadata": {},
     "output_type": "execute_result"
    }
   ],
   "source": "# See a sample of the result\ndf_cosmos.head(10)"
  },
  {
   "cell_type": "markdown",
   "metadata": {},
   "source": "We can get more information about the %%sql command using ```%%sql?```"
  },
  {
   "cell_type": "code",
   "execution_count": 76,
   "metadata": {
    "trusted": true
   },
   "outputs": [
    {
     "data": {
      "text/plain": "\u001b[0;31mDocstring:\u001b[0m\n::\n\n  %sql [--database DATABASE] [--container CONTAINER] [--output OUTPUT]\n\nQueries Azure Cosmos DB using the given Cosmos database and container.\nLearn about the Cosmos query language: https://aka.ms/CosmosQuery\n\nExample:\n    %%sql --database databaseName --container containerName\n    SELECT top 1 r.id, r._ts from r order by r._ts desc\n\noptional arguments:\n  --database DATABASE, -d DATABASE\n                        If provided, this Cosmos database will be used;\n  --container CONTAINER, -c CONTAINER\n                        If provided, this Cosmos container will be used;\n  --output OUTPUT       The dataframe of the result will be stored in a\n                        variable with this name.\n\u001b[0;31mFile:\u001b[0m      /usr/local/lib/python3.6/dist-packages/cosmos_sql/__init__.py\n"
     },
     "metadata": {},
     "output_type": "display_data"
    }
   ],
   "source": "%%sql?"
  },
  {
   "cell_type": "markdown",
   "metadata": {},
   "source": "### Next steps\n\nNow that you've learned how to use basic notebook functionality, follow the **Visualization.ipynb** notebook to further analyze and visualize our data. You can find it under the **Sample Notebooks** section."
  },
  {
   "cell_type": "code",
   "execution_count": null,
   "metadata": {
    "trusted": true
   },
   "outputs": [],
   "source": ""
  }
 ],
 "metadata": {
  "kernelspec": {
   "display_name": "Python 3",
   "language": "python",
   "name": "python3"
  },
  "language_info": {
   "codemirror_mode": {
    "name": "ipython",
    "version": 3
   },
   "file_extension": ".py",
   "mimetype": "text/x-python",
   "name": "python",
   "nbconvert_exporter": "python",
   "pygments_lexer": "ipython3",
   "version": "3.6.8"
  }
 },
 "nbformat": 4,
 "nbformat_minor": 2
}