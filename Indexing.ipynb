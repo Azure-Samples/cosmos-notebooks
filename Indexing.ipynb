{
 "cells": [
  {
   "cell_type": "markdown",
   "metadata": {},
   "source": [
    "# Indexing in Azure Cosmos DB\n",
    "\n",
    "Let's explore how [indexing](https://docs.microsoft.com/en-us/azure/cosmos-db/index-overview) works in Azure Cosmos DB! In this notebook, we will present how to update indexing policies and how indexing can affect query performance.\n",
    "\n",
    "Let's start by creating the resources we are going to need: a database and a container."
   ]
  },
  {
   "cell_type": "code",
   "execution_count": null,
   "metadata": {},
   "outputs": [],
   "source": [
    "import os\n",
    "import time\n",
    "import azure.cosmos.cosmos_client as cosmos_client\n",
    "client = cosmos_client.CosmosClient(os.environ[\"COSMOS_ENDPOINT\"], {'masterKey': os.environ[\"COSMOS_KEY\"]})\n",
    "\n",
    "db_name    = \"iddbtest\"\n",
    "container_name  = \"idcltest\"\n",
    "db_link = \"/dbs/\" + db_name\n",
    "container_link = \"/dbs/\" + db_name + \"/colls/\" + container_name\n",
    "\n",
    "# Create the database if it doesn't exist\n",
    "db_query = \"select * from r where r.id = '{0}'\".format(db_name)\n",
    "db = list(client.QueryDatabases(db_query))\n",
    "if db:\n",
    "    print('Database already exists')\n",
    "else:\n",
    "    client.CreateDatabase({'id': db_name})\n",
    "    print('Database created')\n",
    "    time.sleep(3)\n",
    "\n",
    "# Reset the container\n",
    "container_query = \"select * from r where r.id = '{0}'\".format(container_name)\n",
    "container = list(client.QueryContainers(db_link, container_query))\n",
    "if container:\n",
    "    client.DeleteContainer(container_link)\n",
    "    print('Container dropped')\n",
    "client.CreateContainer(db_link, {'id': container_name})\n",
    "print('Container created')"
   ]
  },
  {
   "cell_type": "markdown",
   "metadata": {},
   "source": [
    "### Importing documents\n",
    "\n",
    "We will need some test data to work with, so we import 10,000 documents. Each document contains 2 fields: `field1` which has a random string value and `field2` which has a random integer value:\n",
    "\n",
    "```\n",
    "{\n",
    "  \"field1\":\"Garry75\",\n",
    "  \"field2\":405\n",
    "}\n",
    "```\n",
    "\n",
    "This is going to take some time, so feel free to get a coffee ☕ in the meantime!"
   ]
  },
  {
   "cell_type": "code",
   "execution_count": null,
   "metadata": {},
   "outputs": [],
   "source": [
    "import os\n",
    "import json\n",
    "\n",
    "# open the file\n",
    "trigger_filename = os.path.join(os.getcwd(), 'Indexing.txt')\n",
    "f = open(trigger_filename, 'r')\n",
    "\n",
    "# read all lines\n",
    "docs = f.readlines()\n",
    "\n",
    "# insert the docs\n",
    "progress = 1\n",
    "for doc in docs:\n",
    "    if progress % 10 == 0:\n",
    "        print(\"Inserting document: %5d / 10000\\r\"% (progress), end=\"\", flush=True)\n",
    "    client.CreateItem(container_link, json.loads(doc))\n",
    "    progress += 1"
   ]
  },
  {
   "cell_type": "markdown",
   "metadata": {},
   "source": [
    "### Testing a first query\n",
    "\n",
    "Now that we have our test data, time to issue some queries! We start by fetching all documents with a `field1` value of `Mario86`:"
   ]
  },
  {
   "cell_type": "code",
   "execution_count": null,
   "metadata": {},
   "outputs": [],
   "source": [
    "query = 'SELECT * FROM c WHERE c.field1 = \"Mario86\"'\n",
    "start = time.time()\n",
    "results = list(client.QueryItems(container_link, query, {'enableCrossPartitionQuery': True}))\n",
    "end = time.time()\n",
    "\n",
    "print('Got ' + str(len(results)) + ' result(s)')\n",
    "print('Time elapsed: %d ms'% ((end - start) * 1000))\n",
    "print('Request charge: ' + client.last_response_headers['x-ms-request-charge'] + ' RUs')"
   ]
  },
  {
   "cell_type": "markdown",
   "metadata": {},
   "source": [
    "We got 2 results back in a pretty short amount of time (if the elapsed time looks large, just re-run the previous cell a couple of times - Cosmos DB Notebooks are running on a shared infrastructure so time measurements aren't always very precise). Also, we see that this query has consumed a very small amount of [Request Units](https://docs.microsoft.com/en-us/azure/cosmos-db/request-units) (or RUs).\n",
    "This is because by default, Cosmos DB indexes *all* the fields it finds in the JSON documents you store. This lets you achieve good performance from the start, without the need to think about secondary indexes upfront.\n",
    "\n",
    "### Disabling the index\n",
    "\n",
    "So what would be the performance of that same query if there was no index? To find out, we can completely disable indexing by updating our container's [indexing policy](https://docs.microsoft.com/en-us/azure/cosmos-db/index-policy). Specifically, we set the policy's indexing mode to `none`:"
   ]
  },
  {
   "cell_type": "code",
   "execution_count": null,
   "metadata": {},
   "outputs": [],
   "source": [
    "container = client.ReadContainer(container_link)\n",
    "container['indexingPolicy']['indexingMode'] = 'none'\n",
    "del container['indexingPolicy']['automatic']\n",
    "del container['indexingPolicy']['includedPaths']\n",
    "del container['indexingPolicy']['excludedPaths']\n",
    "client.ReplaceContainer(container_link, container)\n",
    "print('Indexing policy updated')"
   ]
  },
  {
   "cell_type": "markdown",
   "metadata": {},
   "source": [
    "Now let's run the same query again and see the results."
   ]
  },
  {
   "cell_type": "code",
   "execution_count": null,
   "metadata": {},
   "outputs": [],
   "source": [
    "query = 'SELECT * FROM c WHERE c.field1 = \"Mario86\"'\n",
    "start = time.time()\n",
    "results = list(client.QueryItems(container_link, query, {'enableCrossPartitionQuery': True}))\n",
    "end = time.time()\n",
    "\n",
    "print('Got ' + str(len(results)) + ' result(s)')\n",
    "print('Time elapsed: %d ms'% ((end - start) * 1000))\n",
    "print('Request charge: ' + client.last_response_headers['x-ms-request-charge'] + ' RUs')"
   ]
  },
  {
   "cell_type": "markdown",
   "metadata": {},
   "source": [
    "A pretty big difference, both in terms of latency and RUs consumed!\n",
    "\n",
    "So indexes are very useful to improve the performance and cost-effectiveness of a data model, and it's great that Cosmos DB indexes every property by default.\n",
    "\n",
    "But in some situations, you may want to fine-tune the default indexing policy by explicitly removing from the index the properties that you won't filter on in your queries. This optimization yields 2 kinds of benefits:\n",
    "\n",
    "- it will reduce the amount of storage consumed by your container\n",
    "- it will reduce the latency and RU consumption of write operations\n",
    "\n",
    "### Excluding paths from the index\n",
    "\n",
    "Let's do that by updating our indexing policy again, setting the indexing mode back to `consistent` (which is the default) and including all property paths except `field2` (see [this page](https://docs.microsoft.com/en-us/azure/cosmos-db/index-policy#including-and-excluding-property-paths) for a detailed explanation of indexing path syntax).\n",
    "\n",
    "When an indexing policy is updated with an indexing mode set to `consistent`, Cosmos DB starts to rebuild the index asynchronously. We can monitor the progress of this operation by reading the corresponding container and fetch the transformation progress from a specific response header."
   ]
  },
  {
   "cell_type": "code",
   "execution_count": null,
   "metadata": {},
   "outputs": [],
   "source": [
    "container = client.ReadContainer(container_link)\n",
    "container['indexingPolicy']['indexingMode'] = 'consistent'\n",
    "container['indexingPolicy']['includedPaths'] = [ {'path' : '/*'} ]\n",
    "container['indexingPolicy']['excludedPaths'] = [ {'path' : '/field2/?'} ]\n",
    "client.ReplaceContainer(container_link, container)\n",
    "print('Indexing policy updated')\n",
    "\n",
    "container = client.ReadContainer(container_link)\n",
    "index_transformation_progress = client.last_response_headers['x-ms-documentdb-collection-index-transformation-progress']\n",
    "print('\\rCurrent index transformation progress: ' + index_transformation_progress + '%', end=\"\", flush=True)\n",
    "while (index_transformation_progress != '100'):\n",
    "    time.sleep(5)\n",
    "    container = client.ReadContainer(container_link)\n",
    "    index_transformation_progress = client.last_response_headers['x-ms-documentdb-collection-index-transformation-progress']\n",
    "    print('\\rCurrent index transformation progress: ' + index_transformation_progress + '%', end=\"\", flush=True)\n",
    "print('\\nIndex transformation completed')"
   ]
  },
  {
   "cell_type": "markdown",
   "metadata": {},
   "source": [
    "We now have an indexing policy that indexes everything except the `field2` property. Let's verify that with some queries!\n",
    "\n",
    "Our previous query filtering on `field1` gets its original performance back:"
   ]
  },
  {
   "cell_type": "code",
   "execution_count": null,
   "metadata": {},
   "outputs": [],
   "source": [
    "query = 'SELECT * FROM c WHERE c.field1 = \"Mario86\"'\n",
    "start = time.time()\n",
    "results = list(client.QueryItems(container_link, query, {'enableCrossPartitionQuery': True}))\n",
    "end = time.time()\n",
    "\n",
    "print('Got ' + str(len(results)) + ' result(s)')\n",
    "print('Time elapsed: %d ms'% ((end - start) * 1000))\n",
    "print('Request charge: ' + client.last_response_headers['x-ms-request-charge'] + ' RUs')"
   ]
  },
  {
   "cell_type": "markdown",
   "metadata": {},
   "source": [
    "But a query that filters on `field2` won't benefit from the index and yield poor performance:"
   ]
  },
  {
   "cell_type": "code",
   "execution_count": null,
   "metadata": {},
   "outputs": [],
   "source": [
    "query = 'SELECT * FROM c WHERE c.field2 = 3188'\n",
    "start = time.time()\n",
    "results = list(client.QueryItems(container_link, query, {'enableCrossPartitionQuery': True}))\n",
    "end = time.time()\n",
    "\n",
    "print('Got ' + str(len(results)) + ' result(s)')\n",
    "print('Time elapsed: %d ms'% ((end - start) * 1000))\n",
    "print('Request charge: ' + client.last_response_headers['x-ms-request-charge'] + ' RUs')"
   ]
  },
  {
   "cell_type": "markdown",
   "metadata": {},
   "source": [
    "Check [this page](https://docs.microsoft.com/en-us/azure/cosmos-db/how-to-manage-indexing-policy) to explore the different ways to manage indexing policies, including the Azure Portal, Azure CLI, or any Cosmos DB SDK.\n",
    "\n",
    "And before we close, don't forget to clean up the resources we've created:"
   ]
  },
  {
   "cell_type": "code",
   "execution_count": null,
   "metadata": {},
   "outputs": [],
   "source": [
    "client.DeleteDatabase(db_link)"
   ]
  }
 ],
 "metadata": {
  "kernelspec": {
   "display_name": "Python 3",
   "language": "python",
   "name": "python3"
  },
  "language_info": {
   "codemirror_mode": {
    "name": "ipython",
    "version": 3
   },
   "file_extension": ".py",
   "mimetype": "text/x-python",
   "name": "python",
   "nbconvert_exporter": "python",
   "pygments_lexer": "ipython3",
   "version": "3.6.8"
  }
 },
 "nbformat": 4,
 "nbformat_minor": 2
}
