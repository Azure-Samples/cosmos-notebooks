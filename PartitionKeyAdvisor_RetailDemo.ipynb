{
  "cells": [
    {
      "cell_type": "markdown",
      "source": [
        "# Azure Cosmos DB Partition Key Advisor\n",
        "Welcome to the Partition Key Advisor notebook! The Advisor takes in input about your workload and automatically recommends a partition key. \n",
        "\n",
        "### How to use this notebook\n",
        "To get started with an example, select **Run all** from the command bar to see the recommendation for the sample workload.\n",
        "\n",
        "To get a customized recommendation for your own workload, replace all inputs in each **Input** cell with your own workload details. \n",
        "\n",
        "After entering the information, click the **Play** icon to run the cell, select **Run Active Cell** from the command bar, or use the keyboard shortcut **Shift + Enter**. \n",
        "\n",
        "**Be sure to run each code cell before moving on to the next.**\n",
        "\n",
        "![Run all cells button in command bar](https://cosmosnotebooksdata.blob.core.windows.net/notebooksamplesimages/notebooks_run_all_cells.png)\n",
        "\n",
        "### Example shopping cart scenario\n",
        "\n",
        "This notebook contains an example for a shopping cart workload for a retail website. Each customer's shopping cart is stored in a Cosmos DB container. The application needs to be able to 1) read and update a customer's cart and 2) find all carts updated within a timeframe. \n",
        "\n",
        "Sample document:\n",
        "\n",
        "``{\n",
        "      \"id\": \"171a89a2-8698-46ee-8d57-c090eb58a73f\", \n",
        "      \"cartId\": \"171a89a2-8698-46ee-8d57-c090eb58a73f\",\n",
        "      \"customerId\": \"alice392\",\n",
        "      \"lastModifiedTimestamp\": \"2021-12-06T17:06:17.1531888-07:00\",\n",
        "      \"products\":[{\"productId\": \"3942\", \"qty\": 2}, {\"productId\": \"3948\", \"qty\": 1}]\n",
        "}``\n",
        "\n",
        "\n",
        "Potential partition keys include ``cartId``, ``customerId``, ``id``, or ``lastModifiedTimestamp``. This notebook will analyze the various choices and recommend a partition key."
      ],
      "metadata": {},
      "id": "8d06c338"
    },
    {
      "cell_type": "markdown",
      "source": [
        "### Before you start - run the cell below to load dependencies"
      ],
      "metadata": {
        "nteract": {
          "transient": {
            "deleting": false
          }
        }
      },
      "id": "640a61c1-f151-402f-8a5e-6c215d6d71b6"
    },
    {
      "cell_type": "code",
      "source": [
        "#r \"nuget: Cosmos.PartitionKeyAdvisor.Core, 1.0.2\"\n",
        "#r \"nuget: System.Text.Json, 5.0.1\"\n",
        "#r \"nuget: System.Memory\"\n",
        "#r \"nuget: System.Text.Encodings.Web, 5.0.0.0\"\n",
        "#r \"nuget: System.Linq\"\n",
        "#r \"nuget: System.Linq.Expressions\"\n",
        "\n",
        "Display.AsMarkdown(\"Successfully loaded dependencies\");"
      ],
      "outputs": [
        {
          "output_type": "execute_result",
          "execution_count": 8,
          "data": {},
          "metadata": {}
        },
        {
          "output_type": "display_data",
          "data": {
            "text/plain": "<IPython.core.display.Markdown object>",
            "text/markdown": "Successfully loaded dependencies"
          },
          "metadata": {}
        }
      ],
      "execution_count": 10,
      "metadata": {
        "collapsed": true,
        "dotnet_interactive": {
          "language": "csharp"
        },
        "execution": {
          "iopub.execute_input": "2022-03-30T20:03:51.194Z",
          "iopub.status.busy": "2022-03-30T20:03:51.079Z",
          "iopub.status.idle": "2022-03-30T20:03:51.239Z",
          "shell.execute_reply": "2022-03-30T20:03:51.224Z"
        },
        "jupyter": {
          "outputs_hidden": false,
          "source_hidden": false
        },
        "nteract": {
          "transient": {
            "deleting": false
          }
        },
        "trusted": false
      },
      "id": "41db51dc"
    },
    {
      "cell_type": "markdown",
      "source": [
        "### Input #1: Enter in data size in GB and estimated RU/s\n",
        "This information helps determine the scale of the workload, so we can analyze impact of candidate partition keys on queries. If your data volume grows over time, enter in the steady-state data size in the next 1-3 years.\n",
        "\n",
        "If you're not sure about the RU/s needed, set it to -1 and we'll estimate it for you, based on the other workload details. "
      ],
      "metadata": {
        "nteract": {
          "transient": {
            "deleting": false
          }
        }
      },
      "id": "acd146ce"
    },
    {
      "cell_type": "code",
      "source": [
        "var dataSizeInGB = 50;\n",
        "var estimatedRUsPerSecond = -1;\n",
        "\n",
        "Display.AsMarkdown(\"Data size in GB: \" + dataSizeInGB);\n",
        "Display.AsMarkdown(\"Estimated RU/s: \" + estimatedRUsPerSecond);"
      ],
      "outputs": [
        {
          "output_type": "execute_result",
          "execution_count": 9,
          "data": {},
          "metadata": {}
        },
        {
          "output_type": "display_data",
          "data": {
            "text/plain": "<IPython.core.display.Markdown object>",
            "text/markdown": "Data size in GB: 50"
          },
          "metadata": {}
        },
        {
          "output_type": "display_data",
          "data": {
            "text/plain": "<IPython.core.display.Markdown object>",
            "text/markdown": "Estimated RU/s: -1"
          },
          "metadata": {}
        }
      ],
      "execution_count": 12,
      "metadata": {
        "collapsed": true,
        "dotnet_interactive": {
          "language": "csharp"
        },
        "execution": {
          "iopub.execute_input": "2022-03-30T20:03:53.853Z",
          "iopub.status.busy": "2022-03-30T20:03:53.696Z",
          "iopub.status.idle": "2022-03-30T20:03:53.918Z",
          "shell.execute_reply": "2022-03-30T20:03:53.890Z"
        },
        "jupyter": {
          "outputs_hidden": false,
          "source_hidden": false
        },
        "nteract": {
          "transient": {
            "deleting": false
          }
        },
        "trusted": false
      },
      "id": "9357c3ff"
    },
    {
      "cell_type": "markdown",
      "source": [
        ">**Did you know?** While it's best practice to set a good partition key for your workload, typically when you have less than 100GB in data and less than 30,000 RU/s required, the impact on performance with choice of partition key is minimal.\r\n"
      ],
      "metadata": {
        "nteract": {
          "transient": {
            "deleting": false
          }
        }
      },
      "id": "fe4c2963"
    },
    {
      "cell_type": "markdown",
      "source": [
        "### Input #2: Tell us about your data access pattern\n",
        "The \"key\" to choosing a good partition key is to make sure it fits with your data access patterns. Whether a partition key is a good choice depends on whether your workload is read-heavy, write-heavy, or a mix of both.\n",
        "\n",
        "Tell us the percentage breakdown of your workload that is reads vs. writes.\n",
        "\n",
        "Reads refer to both point reads (also known as key value lookups) and queries. Writes refer to any create, update, upsert, or delete operation. \n",
        "\n",
        "`workloadWritePercent` and `workloadReadPercent` should add up to 100.\n",
        "\n",
        "`workloadRequestsPerSecond` refers to the overall number of requests per second in your workload. If the workload is variable, enter the number for peak. \n",
        "\n",
        "|**Input** |**Description** |\n",
        "|--- | --- \n",
        "|workloadRequestsPerSecond|The overall number of requests per second in your workload. If the workload is variable, enter in the highest number you'd expect.|\n",
        "|workloadReadPercent|The percent of your workload that consists of point reads (also known as key value lookups) and queries. |\n",
        "|workloadWritePercent|The percent of your workload that consists of writes - create update, upsert or delete operations.|\n"
      ],
      "metadata": {
        "nteract": {
          "transient": {
            "deleting": false
          }
        }
      },
      "id": "3c8a1962"
    },
    {
      "cell_type": "code",
      "source": [
        "var workloadRequestsPerSecond = 200;\n",
        "\n",
        "var workloadReadPercent = 60;\n",
        "var workloadWritePercent = 40;\n",
        "\n",
        "Display.AsMarkdown(\"Workload requests per second: \" + workloadRequestsPerSecond);\n",
        "Display.AsMarkdown(\"Workload read percent: \" + workloadReadPercent);\n",
        "Display.AsMarkdown(\"Workload write percent: \" + workloadWritePercent);"
      ],
      "outputs": [
        {
          "output_type": "execute_result",
          "execution_count": 10,
          "data": {},
          "metadata": {}
        },
        {
          "output_type": "display_data",
          "data": {
            "text/plain": "<IPython.core.display.Markdown object>",
            "text/markdown": "Workload requests per second: 200"
          },
          "metadata": {}
        },
        {
          "output_type": "display_data",
          "data": {
            "text/plain": "<IPython.core.display.Markdown object>",
            "text/markdown": "Workload read percent: 60"
          },
          "metadata": {}
        },
        {
          "output_type": "display_data",
          "data": {
            "text/plain": "<IPython.core.display.Markdown object>",
            "text/markdown": "Workload write percent: 40"
          },
          "metadata": {}
        }
      ],
      "execution_count": 15,
      "metadata": {
        "collapsed": true,
        "dotnet_interactive": {
          "language": "csharp"
        },
        "execution": {
          "iopub.execute_input": "2022-03-30T20:03:55.820Z",
          "iopub.status.busy": "2022-03-30T20:03:55.807Z",
          "iopub.status.idle": "2022-03-30T20:03:56.298Z",
          "shell.execute_reply": "2022-03-30T20:03:56.280Z"
        },
        "jupyter": {
          "outputs_hidden": false,
          "source_hidden": false
        },
        "nteract": {
          "transient": {
            "deleting": false
          }
        },
        "trusted": false
      },
      "id": "9c3e0afc"
    },
    {
      "cell_type": "markdown",
      "source": [
        "This is a helper cell. Do not make any changes to the cell below. Make sure to run it before moving on."
      ],
      "metadata": {},
      "id": "c7382e22"
    },
    {
      "cell_type": "code",
      "source": [
        "using PartitionKeyAdvisor.Core.Models;\n",
        "\n",
        "var basicInformation = new BasicInformation(){\n",
        "    DataSizeInGB = dataSizeInGB,                        \n",
        "    WorkloadRequestsPerSecond = workloadRequestsPerSecond,\n",
        "    EstimatedRUsPerSecond = estimatedRUsPerSecond,\n",
        "    WorkloadReadPercent = workloadReadPercent,    \n",
        "    WorkloadWritePercent = workloadWritePercent,\n",
        "};\n",
        "\n",
        "Display.AsMarkdown(\"Basic workload details successfully recorded\");\n",
        "basicInformation"
      ],
      "outputs": [
        {
          "output_type": "execute_result",
          "execution_count": 11,
          "data": {
            "text/plain": "PartitionKeyAdvisor.Core.Models.BasicInformation",
            "application/json": {
              "data": {
                "DataSizeInGB": 50,
                "WorkloadRequestsPerSecond": 200,
                "EstimatedRUsPerSecond": -1,
                "WorkloadReadPercent": 60,
                "WorkloadWritePercent": 40
              }
            }
          },
          "metadata": {}
        },
        {
          "output_type": "display_data",
          "data": {
            "text/plain": "<IPython.core.display.Markdown object>",
            "text/markdown": "Basic workload details successfully recorded"
          },
          "metadata": {}
        }
      ],
      "execution_count": 16,
      "metadata": {
        "collapsed": true,
        "dotnet_interactive": {
          "language": "csharp"
        },
        "execution": {
          "iopub.execute_input": "2022-03-30T20:03:56.456Z",
          "iopub.status.busy": "2022-03-30T20:03:56.363Z",
          "iopub.status.idle": "2022-03-30T20:03:56.655Z",
          "shell.execute_reply": "2022-03-30T20:03:56.648Z"
        },
        "jupyter": {
          "outputs_hidden": false,
          "source_hidden": false
        },
        "nteract": {
          "transient": {
            "deleting": false
          }
        },
        "trusted": false
      },
      "id": "ff0a457b"
    },
    {
      "cell_type": "markdown",
      "source": [
        "### Input #3: Enter information about your reads\n",
        "If you have a read-heavy workload, it's important to choose a key that you can include in most of your read and query operations. \n",
        "\n",
        "For each read operation you have, create a new `ReadOperation` object and add it to the list object below. Be sure to include a comma between each `ReadOperation` object.\n",
        "\n",
        "|**ReadOperation input** |**Description** |\n",
        "|--- | --- \n",
        "|Name|Optional property to name this query for easier reference later. This has no impact on the end recommendation.\n",
        "|PercentOfReadOperations|The percent across all reads that this operation represents. All percents across all `ReadOperations` should sum to 100.|\n",
        "|Filters|Filters that appear in the WHERE clause of the query (e.g. `SELECT * FROM c WHERE c.prop1 = ...`, or as inputs in a point read. Do not include properties in the SORT or ORDER BY clauses.|\n"
      ],
      "metadata": {
        "nteract": {
          "transient": {
            "deleting": false
          }
        }
      },
      "id": "05903291"
    },
    {
      "cell_type": "code",
      "source": [
        "using System.Collections.Generic;\n",
        "\n",
        "// Instructions: Copy and fill out the ReadOperation constructor for each read operation in your workload\n",
        "// Be sure to include a comma between each ReadOperation object\n",
        "var readOperations = new List<ReadOperation>(){\n",
        "    new ReadOperation() {\n",
        "        Name = \"QueryByCustomerId\",\n",
        "        PercentOfReadOperations = 30,\n",
        "        Filters = new List<string>() { \"customerId\" }\n",
        "    },\n",
        "    new ReadOperation() {\n",
        "        Name = \"QueryByCustomerIdAndCartId\",\n",
        "        PercentOfReadOperations = 50,\n",
        "        Filters = new List<string>() { \"customerId\", \"cartId\" }\n",
        "    },\n",
        "    new ReadOperation() {\n",
        "        Name = \"QueryByLastModifiedTimestamp\",\n",
        "        PercentOfReadOperations = 20,\n",
        "        Filters = new List<string>() { \"lastModifiedTimestamp\" }\n",
        "    }\n",
        "};\n",
        "\n",
        "Display.AsMarkdown(\"Read workload details successfully recorded\");"
      ],
      "outputs": [
        {
          "output_type": "execute_result",
          "execution_count": 12,
          "data": {},
          "metadata": {}
        },
        {
          "output_type": "display_data",
          "data": {
            "text/plain": "<IPython.core.display.Markdown object>",
            "text/markdown": "Read workload details successfully recorded"
          },
          "metadata": {}
        }
      ],
      "execution_count": 17,
      "metadata": {
        "collapsed": true,
        "dotnet_interactive": {
          "language": "csharp"
        },
        "execution": {
          "iopub.execute_input": "2022-03-30T20:03:56.678Z",
          "iopub.status.busy": "2022-03-30T20:03:56.665Z",
          "iopub.status.idle": "2022-03-30T20:03:56.747Z",
          "shell.execute_reply": "2022-03-30T20:03:56.728Z"
        },
        "jupyter": {
          "outputs_hidden": false,
          "source_hidden": false
        },
        "nteract": {
          "transient": {
            "deleting": false
          }
        },
        "trusted": false
      },
      "id": "5aca69eb"
    },
    {
      "cell_type": "markdown",
      "source": [
        "### Input #4: Any other properties we should consider?\n",
        "\n",
        "Are there any properties that don't appear in your read operations that you think might make a good key? For write-heavy scenarios, properties that have a high number of unique values can make good candidates. A common example is the `id` property. In our sample workload, we will include `id`, which represents our shopping cart id.\n",
        "\n",
        "If there are no additional keys you want to consider, then edit the cell to: `var otherGoodCandidates = new List<string>() { };`"
      ],
      "metadata": {
        "nteract": {
          "transient": {
            "deleting": false
          }
        }
      },
      "id": "776bbff5"
    },
    {
      "cell_type": "code",
      "source": [
        "// Instructions: Add any other properties you want to consider to the list. \n",
        "// Feel free to remove the \"id\" property and leave an empty list if that makes more sense for your workload\n",
        "var otherGoodCandidates = new List<string>() { \"id\" };\n",
        "Display.AsMarkdown(\"Other candidates successfully recorded\")"
      ],
      "outputs": [
        {
          "output_type": "execute_result",
          "execution_count": 13,
          "data": {},
          "metadata": {}
        },
        {
          "output_type": "display_data",
          "data": {
            "text/plain": "<IPython.core.display.Markdown object>",
            "text/markdown": "Other candidates successfully recorded"
          },
          "metadata": {}
        }
      ],
      "execution_count": 18,
      "metadata": {
        "collapsed": true,
        "dotnet_interactive": {
          "language": "csharp"
        },
        "execution": {
          "iopub.execute_input": "2022-03-30T20:03:56.870Z",
          "iopub.status.busy": "2022-03-30T20:03:56.851Z",
          "iopub.status.idle": "2022-03-30T20:03:57.019Z",
          "shell.execute_reply": "2022-03-30T20:03:56.936Z"
        },
        "jupyter": {
          "outputs_hidden": false,
          "source_hidden": false
        },
        "nteract": {
          "transient": {
            "deleting": false
          }
        },
        "trusted": false
      },
      "id": "4c2039a5"
    },
    {
      "cell_type": "markdown",
      "source": [
        "The helper cell below will print out all the candidate partition keys you've told us about so far. **Run the cell to see all candidates**. No input is required."
      ],
      "metadata": {},
      "id": "d0b681a3"
    },
    {
      "cell_type": "code",
      "source": [
        "using PartitionKeyAdvisor.Core;\n",
        "\n",
        "Display.AsMarkdown(\"### Candidate partition keys\");\n",
        "\n",
        "foreach(var candidate in RecommendationEngine.GetCandidates(readOperations, otherGoodCandidates)){\n",
        "    Display.AsMarkdown(candidate);\n",
        "}"
      ],
      "outputs": [
        {
          "output_type": "execute_result",
          "execution_count": 14,
          "data": {},
          "metadata": {}
        },
        {
          "output_type": "display_data",
          "data": {
            "text/plain": "<IPython.core.display.Markdown object>",
            "text/markdown": "### Candidate partition keys"
          },
          "metadata": {}
        },
        {
          "output_type": "display_data",
          "data": {
            "text/plain": "<IPython.core.display.Markdown object>",
            "text/markdown": "customerId"
          },
          "metadata": {}
        },
        {
          "output_type": "display_data",
          "data": {
            "text/plain": "<IPython.core.display.Markdown object>",
            "text/markdown": "cartId"
          },
          "metadata": {}
        },
        {
          "output_type": "display_data",
          "data": {
            "text/plain": "<IPython.core.display.Markdown object>",
            "text/markdown": "lastModifiedTimestamp"
          },
          "metadata": {}
        },
        {
          "output_type": "display_data",
          "data": {
            "text/plain": "<IPython.core.display.Markdown object>",
            "text/markdown": "id"
          },
          "metadata": {}
        }
      ],
      "execution_count": 23,
      "metadata": {
        "collapsed": true,
        "dotnet_interactive": {
          "language": "csharp"
        },
        "execution": {
          "iopub.execute_input": "2022-03-30T20:03:58.255Z",
          "iopub.status.busy": "2022-03-30T20:03:58.177Z",
          "iopub.status.idle": "2022-03-30T20:03:58.314Z",
          "shell.execute_reply": "2022-03-30T20:03:58.289Z"
        },
        "jupyter": {
          "outputs_hidden": false,
          "source_hidden": false
        },
        "nteract": {
          "transient": {
            "deleting": false
          }
        },
        "trusted": false
      },
      "id": "428fe361"
    },
    {
      "cell_type": "markdown",
      "source": [
        "### Input #5: Tell us more about each candidate partition key\n",
        "\n",
        "Enter information for each candidate partition key that was listed as an output of cell 16. If you don't want to consider it as a candidate, exlude it from the list below.\n",
        "\n",
        "For each candidate you want to consider, create a new `CandidatePartitionKey` object and add it to the list object below. Be sure to include a comma between each `CandidatePartitionKey` object.\n",
        "\n",
        "In the below table, **Property** refers to the candidate partition key. **Value** refers to the potential value of the property. For example, `customerId` is a property, and `Alice` is a value of the property `customerId`. \n",
        "\n",
        "|**CandidatePartitionKey input** |**Description** |**Example**|\n",
        "--- | --- | ---|\n",
        "|Name| Name of the property. This is the candidate partition key.|\"customerId\"\n",
        "|UniqueValues|The number of unique values of this property in your data. |If the property is `customerId` and you have 10000 different customers, enter 10000.\n",
        "|WritesDistribution|Enter `SkewLevel.Low` if there are many unique values being written in any given second and your writes are evenly distributed across those values. Enter `SkewLevel.High` if only one or a few unique values are written in any given second or your writes skew heavily towards only a few unique values. Enter `SkewLevel.Medium` if it is in-between or you're not sure. | If the property is `customerId`, and you have many documents being updated at the same time for each customerId, enter `SkewLevel.Low`. If the property is `customerId`, and you have many documents being updated at the same time but most of the documents are for a single customerId, enter `SkewLevel.High`. If the property is `day`, all writes are of the same value in any given second, enter `SkewLevel.High`.|\n",
        "|StorageDistribution|Enter `SkewLevel.Low` if most of your values for this property have a similar amount of data. Enter `SkewLevel.High` if a few values have a significantly larger or smaller amount of data. Enter `SkewLevel.Medium` if it is in-between or you're not sure.|If the property is `customerId`, and each customer has roughly the same amount of data, enter `SkewLevel.Low`. If one or a few customers have a lot more data than the others, enter `SkewLevel.High`.|\n",
        "|QueryDistribution|Enter `SkewLevel.Low` if you query all values of this property evenly. Enter `SkewLevel.High` if there are a few values that you query for significantly more or less than others. Enter `SkewLevel.Medium` if it is in-between, you don't query on the property at all, or you're not sure.| If the property is `customerId`, and you query for all customers equally, enter `SkewLevel.Low`. If there is one or a few customers you consistently query more often than the others, enter `SkewLevel.High`. |\n",
        "|HasValueWithOver20GB|If there's a value of this property that will eventually have more than 20 GB of data, enter `true`. Otherwise, enter `false`.|For `customerId`, if a single customer will ever have more than 20 GB of data, enter true.|\n",
        "|IsInAllDocuments|Enter `true` if this property is in all documents and entities in your collection. This should be true for most properties. | --"
      ],
      "metadata": {
        "nteract": {
          "transient": {
            "deleting": false
          }
        }
      },
      "id": "77292e64"
    },
    {
      "cell_type": "code",
      "source": [
        "// This enum is part of the Partition Key Advisor Nuget package, and is copied here for your reference.\n",
        "// enum SkewLevel {\n",
        "//    High,\n",
        "//    Medium,\n",
        "//    Low \n",
        "// }\n",
        "\n",
        "// Instructions: Copy and fill out the ReadOperation constructor for each read operation in your workload\n",
        "// Be sure to include a comma between each ReadOperation object\n",
        "var candidates = new List<CandidatePartitionKey>(){\n",
        "    new CandidatePartitionKey() {\n",
        "        Name = \"id\",\n",
        "        UniqueValues = 1000000,\n",
        "        WritesDistribution = SkewLevel.Low,\n",
        "        StorageDistribution = SkewLevel.Low,\n",
        "        QueryDistribution = SkewLevel.Low, \n",
        "        HasValueWithOver20GB = false, \n",
        "        IsInAllDocuments = true\n",
        "    },\n",
        "    new CandidatePartitionKey() {\n",
        "        Name = \"cartId\",\n",
        "        UniqueValues = 1000000,\n",
        "        WritesDistribution = SkewLevel.Low,\n",
        "        StorageDistribution = SkewLevel.Low,\n",
        "        QueryDistribution = SkewLevel.Low, \n",
        "        HasValueWithOver20GB = false, \n",
        "        IsInAllDocuments = true\n",
        "    },\n",
        "    new CandidatePartitionKey() {\n",
        "        Name = \"customerId\",\n",
        "        UniqueValues = 1000000,\n",
        "        WritesDistribution = SkewLevel.Low,\n",
        "        StorageDistribution = SkewLevel.Low,\n",
        "        QueryDistribution = SkewLevel.Low,\n",
        "        HasValueWithOver20GB = false, \n",
        "        IsInAllDocuments = true\n",
        "    },\n",
        "    new CandidatePartitionKey() {\n",
        "        Name = \"lastModifiedTimestamp\",\n",
        "        UniqueValues = 1000000,\n",
        "        WritesDistribution = SkewLevel.Low,\n",
        "        StorageDistribution = SkewLevel.Low,\n",
        "        QueryDistribution = SkewLevel.High,\n",
        "        HasValueWithOver20GB = false,\n",
        "        IsInAllDocuments = true\n",
        "    },    \n",
        "};\n",
        "\n",
        "Display.AsMarkdown(\"Candidate partition key details successfully recorded\");"
      ],
      "outputs": [
        {
          "output_type": "execute_result",
          "execution_count": 15,
          "data": {},
          "metadata": {}
        },
        {
          "output_type": "display_data",
          "data": {
            "text/plain": "<IPython.core.display.Markdown object>",
            "text/markdown": "Candidate partition key details successfully recorded"
          },
          "metadata": {}
        }
      ],
      "execution_count": 24,
      "metadata": {
        "collapsed": true,
        "dotnet_interactive": {
          "language": "csharp"
        },
        "execution": {
          "iopub.execute_input": "2022-03-30T20:03:58.521Z",
          "iopub.status.busy": "2022-03-30T20:03:58.470Z",
          "iopub.status.idle": "2022-03-30T20:03:58.623Z",
          "shell.execute_reply": "2022-03-30T20:03:58.605Z"
        },
        "jupyter": {
          "outputs_hidden": false,
          "source_hidden": false
        },
        "nteract": {
          "transient": {
            "deleting": false
          }
        },
        "trusted": false
      },
      "id": "8f3729fd"
    },
    {
      "cell_type": "markdown",
      "source": [
        "# Recommendation\n",
        "Run the cell below to get the recommendation. Based on your workload details, we've recommended a partitioning strategy and partition key, along with an explanation of why this key is a good choice."
      ],
      "metadata": {
        "nteract": {
          "transient": {
            "deleting": false
          }
        }
      },
      "id": "db619f67-53d5-46e9-9244-f72d8f1e7681"
    },
    {
      "cell_type": "code",
      "source": [
        "using PartitionKeyAdvisor.Core.PartitionScenarios;\n",
        "\n",
        "var rec = RecommendationEngine.GetRecommendation(basicInformation, readOperations, candidates);\n",
        "\n",
        "foreach (var rec in rec.Candidates) {\n",
        "   if (rec.RecommendationTier == 0) {\n",
        "       Display.AsMarkdown(\"## Recommended partition key: \" + rec.Name);\n",
        "       Display.AsMarkdown(\"## Recommended partitioning strategy:  \" + rec.PartitioningStrategy.ToString());\n",
        "       Display.AsMarkdown(\"## This partition key is a good choice because...\");\n",
        "\n",
        "       if (rec.HasHighCardinality == true) {\n",
        "           Display.AsMarkdown(\"* It has high cardinality\");\n",
        "       }\n",
        "       if (rec.UsedInCommonQueries == true) {\n",
        "           Display.AsMarkdown(\"* It is used in the majority of your queries\");          \n",
        "       }\n",
        "       if (rec.ImpactOfCrossPartitionQueries == CrossPartitionQueryImpact.Low) {\n",
        "           Display.AsMarkdown(\"* The impact of any cross partition queries will be low\");\n",
        "       }\n",
        "   }\n",
        "};"
      ],
      "outputs": [
        {
          "output_type": "execute_result",
          "execution_count": 16,
          "data": {},
          "metadata": {}
        },
        {
          "output_type": "display_data",
          "data": {
            "text/plain": "<IPython.core.display.Markdown object>",
            "text/markdown": "## Recommended partition key: customerId"
          },
          "metadata": {}
        },
        {
          "output_type": "display_data",
          "data": {
            "text/plain": "<IPython.core.display.Markdown object>",
            "text/markdown": "## Recommended partitioning strategy:  SinglePartitionKey"
          },
          "metadata": {}
        },
        {
          "output_type": "display_data",
          "data": {
            "text/plain": "<IPython.core.display.Markdown object>",
            "text/markdown": "## This partition key is a good choice because..."
          },
          "metadata": {}
        },
        {
          "output_type": "display_data",
          "data": {
            "text/plain": "<IPython.core.display.Markdown object>",
            "text/markdown": "* It has high cardinality"
          },
          "metadata": {}
        },
        {
          "output_type": "display_data",
          "data": {
            "text/plain": "<IPython.core.display.Markdown object>",
            "text/markdown": "* It is used in the majority of your queries"
          },
          "metadata": {}
        },
        {
          "output_type": "display_data",
          "data": {
            "text/plain": "<IPython.core.display.Markdown object>",
            "text/markdown": "* The impact of any cross partition queries will be low"
          },
          "metadata": {}
        }
      ],
      "execution_count": 30,
      "metadata": {
        "collapsed": true,
        "jupyter": {
          "source_hidden": false,
          "outputs_hidden": false
        },
        "nteract": {
          "transient": {
            "deleting": false
          }
        },
        "execution": {
          "iopub.status.busy": "2022-03-30T20:03:59.818Z",
          "iopub.status.idle": "2022-03-30T20:03:59.965Z",
          "shell.execute_reply": "2022-03-30T20:04:00.001Z",
          "iopub.execute_input": "2022-03-30T20:03:59.891Z"
        }
      },
      "id": "9f729006-5991-44ee-9988-c3b29d5d487d"
    },
    {
      "cell_type": "markdown",
      "source": [
        "## Detailed analysis\n",
        "Run the cell to see the analysis of all candidate partition keys "
      ],
      "metadata": {
        "nteract": {
          "transient": {
            "deleting": false
          }
        }
      },
      "id": "a9e16b94-ee78-41f5-ad50-a4340d4bf3ce"
    },
    {
      "cell_type": "code",
      "source": [
        "Display.AsMarkdown(\"### Estimated number of physical partitions:  \" + rec.EstimatedPhysicalPartitions);\n",
        "rec.Candidates"
      ],
      "outputs": [
        {
          "output_type": "execute_result",
          "execution_count": 17,
          "data": {
            "text/plain": "PartitionKeyAdvisor.Core.WorkloadDetails+<AnalyzeCandidates>d__42",
            "application/vnd.dataresource+json": {
              "data": [
                {
                  "Name": "customerId",
                  "RecommendationTier": 0,
                  "PartitioningStrategy": 0,
                  "HasHighCardinality": true,
                  "CardinalityScore": 100,
                  "HasValueWithOver20GB": false,
                  "UsedInCommonQueries": true,
                  "ImpactOfCrossPartitionQueries": 0,
                  "PercentOfWorkloadOfCrossPartitionQueries": 12,
                  "CrossPartitionQueries": "[\n  {\n    \"Name\": \"QueryByLastModifiedTimestamp\",\n    \"PercentOfReadOperations\": 20.0,\n    \"PercentOfWorkload\": 12.0,\n    \"RequestsPerSecond\": 24,\n    \"Filters\": [\n      \"lastModifiedTimestamp\"\n    ],\n    \"AdditionalRUsPerSecond\": 144\n  }\n]",
                  "index": 0
                },
                {
                  "Name": "cartId",
                  "RecommendationTier": 1,
                  "PartitioningStrategy": 0,
                  "HasHighCardinality": true,
                  "CardinalityScore": 100,
                  "HasValueWithOver20GB": false,
                  "UsedInCommonQueries": true,
                  "ImpactOfCrossPartitionQueries": 1,
                  "PercentOfWorkloadOfCrossPartitionQueries": 30,
                  "CrossPartitionQueries": "[\n  {\n    \"Name\": \"QueryByCustomerId\",\n    \"PercentOfReadOperations\": 30.0,\n    \"PercentOfWorkload\": 18.0,\n    \"RequestsPerSecond\": 36,\n    \"Filters\": [\n      \"customerId\"\n    ],\n    \"AdditionalRUsPerSecond\": 216\n  },\n  {\n    \"Name\": \"QueryByLastModifiedTimestamp\",\n    \"PercentOfReadOperations\": 20.0,\n    \"PercentOfWorkload\": 12.0,\n    \"RequestsPerSecond\": 24,\n    \"Filters\": [\n      \"lastModifiedTimestamp\"\n    ],\n    \"AdditionalRUsPerSecond\": 144\n  }\n]",
                  "index": 1
                },
                {
                  "Name": "lastModifiedTimestamp",
                  "RecommendationTier": 2,
                  "PartitioningStrategy": 0,
                  "HasHighCardinality": true,
                  "CardinalityScore": 100,
                  "HasValueWithOver20GB": false,
                  "UsedInCommonQueries": false,
                  "ImpactOfCrossPartitionQueries": 1,
                  "PercentOfWorkloadOfCrossPartitionQueries": 48,
                  "CrossPartitionQueries": "[\n  {\n    \"Name\": \"QueryByCustomerId\",\n    \"PercentOfReadOperations\": 30.0,\n    \"PercentOfWorkload\": 18.0,\n    \"RequestsPerSecond\": 36,\n    \"Filters\": [\n      \"customerId\"\n    ],\n    \"AdditionalRUsPerSecond\": 216\n  },\n  {\n    \"Name\": \"QueryByCustomerIdAndCartId\",\n    \"PercentOfReadOperations\": 50.0,\n    \"PercentOfWorkload\": 30.0,\n    \"RequestsPerSecond\": 60,\n    \"Filters\": [\n      \"customerId\",\n      \"cartId\"\n    ],\n    \"AdditionalRUsPerSecond\": 360\n  }\n]",
                  "index": 2
                },
                {
                  "Name": "id",
                  "RecommendationTier": 2,
                  "PartitioningStrategy": 0,
                  "HasHighCardinality": true,
                  "CardinalityScore": 100,
                  "HasValueWithOver20GB": false,
                  "UsedInCommonQueries": false,
                  "ImpactOfCrossPartitionQueries": 2,
                  "PercentOfWorkloadOfCrossPartitionQueries": 60,
                  "CrossPartitionQueries": "[\n  {\n    \"Name\": \"QueryByCustomerId\",\n    \"PercentOfReadOperations\": 30.0,\n    \"PercentOfWorkload\": 18.0,\n    \"RequestsPerSecond\": 36,\n    \"Filters\": [\n      \"customerId\"\n    ],\n    \"AdditionalRUsPerSecond\": 216\n  },\n  {\n    \"Name\": \"QueryByCustomerIdAndCartId\",\n    \"PercentOfReadOperations\": 50.0,\n    \"PercentOfWorkload\": 30.0,\n    \"RequestsPerSecond\": 60,\n    \"Filters\": [\n      \"customerId\",\n      \"cartId\"\n    ],\n    \"AdditionalRUsPerSecond\": 360\n  },\n  {\n    \"Name\": \"QueryByLastModifiedTimestamp\",\n    \"PercentOfReadOperations\": 20.0,\n    \"PercentOfWorkload\": 12.0,\n    \"RequestsPerSecond\": 24,\n    \"Filters\": [\n      \"lastModifiedTimestamp\"\n    ],\n    \"AdditionalRUsPerSecond\": 144\n  }\n]",
                  "index": 3
                }
              ],
              "schema": {
                "fields": [
                  {
                    "name": "index",
                    "type": "integer"
                  },
                  {
                    "name": "Name",
                    "type": "string"
                  },
                  {
                    "name": "RecommendationTier",
                    "type": "integer"
                  },
                  {
                    "name": "PartitioningStrategy",
                    "type": "integer"
                  },
                  {
                    "name": "HasHighCardinality",
                    "type": "boolean"
                  },
                  {
                    "name": "CardinalityScore",
                    "type": "number"
                  },
                  {
                    "name": "HasValueWithOver20GB",
                    "type": "boolean"
                  },
                  {
                    "name": "UsedInCommonQueries",
                    "type": "boolean"
                  },
                  {
                    "name": "ImpactOfCrossPartitionQueries",
                    "type": "integer"
                  },
                  {
                    "name": "PercentOfWorkloadOfCrossPartitionQueries",
                    "type": "number"
                  },
                  {
                    "name": "CrossPartitionQueries",
                    "type": "array"
                  }
                ],
                "primaryKey": [
                  "index"
                ]
              }
            }
          },
          "metadata": {
            "application/vnd.dataresource+json": {
              "dx": {
                "summaryType": "violin",
                "marginalGraphics": "none",
                "view": "grid",
                "areaType": "hexbin",
                "selectedDimensions": [
                  "HasHighCardinality"
                ],
                "selectedMetrics": [],
                "networkType": "force",
                "pieceType": "bar",
                "lineType": "line",
                "hierarchyType": "dendrogram",
                "colors": [
                  "#DA752E",
                  "#E5C209",
                  "#1441A0",
                  "#B86117",
                  "#4D430C",
                  "#1DB390",
                  "#B3331D",
                  "#088EB2",
                  "#417505",
                  "#E479A8",
                  "#F9F39E",
                  "#5782DC",
                  "#EBA97B",
                  "#A2AB60",
                  "#B291CF",
                  "#8DD2C2",
                  "#E6A19F",
                  "#3DC7E0",
                  "#98CE5B"
                ],
                "trendLine": "none",
                "barGrouping": "Clustered",
                "chart": {
                  "metric1": "RecommendationTier",
                  "metric2": "PartitioningStrategy",
                  "timeseriesSort": "array-order",
                  "metric3": "none",
                  "metric4": "none",
                  "networkLabel": "none",
                  "dim1": "HasHighCardinality",
                  "dim2": "HasValueWithOver20GB",
                  "dim3": "none"
                }
              }
            }
          }
        },
        {
          "output_type": "display_data",
          "data": {
            "text/plain": "<IPython.core.display.Markdown object>",
            "text/markdown": "### Estimated number of physical partitions:  2"
          },
          "metadata": {}
        }
      ],
      "execution_count": 31,
      "metadata": {
        "collapsed": true,
        "jupyter": {
          "source_hidden": false,
          "outputs_hidden": false
        },
        "nteract": {
          "transient": {
            "deleting": false
          }
        },
        "execution": {
          "iopub.status.busy": "2022-03-30T20:04:00.116Z",
          "iopub.status.idle": "2022-03-30T20:04:00.191Z",
          "shell.execute_reply": "2022-03-30T20:04:00.212Z",
          "iopub.execute_input": "2022-03-30T20:04:00.136Z"
        }
      },
      "id": "036e4de9-e1ce-439b-bc56-49bdec976532"
    },
    {
      "cell_type": "markdown",
      "source": [
        "## How to interpret the results\n",
        "\n",
        "### Partitioning strategy\n",
        "\n",
        "|Partitioning Strategy|Description |Details |Reference Material |\n",
        "|---------|---------|-----------|-------------------|\n",
        "|0|SinglePartitionKey|This is the most commonly used partitioning strategy. You can set the recommended partition key on your container to optimally partition your data.| https://aka.ms/cosmos-partitioning-overview |\n",
        "|1|HierarchicalPartitionKey|[PREVIEW] This is typically recommended for workloads where using only 1 key is not enough to achieve high cardinality or good data distribution. You can set up to 3 levels of partition keys. Consider pairing a lower cardinality key with a higher cardinality key, according to the natural hierarchy of your data.| https://aka.ms/cosmos-hierarchical-partitioning |\n",
        "|2|CopyContainer|This partitioning strategy is recommended for read-heavy scenarios where each of the most common queries filter to a different property, and there are a small number of such properties. As a result, choosing a single partition key leads to a high percentage of cross-partition queries. To implement this strategy, create multiple copies of your container, partitioned by different keys, and route your application's queries depending on what data is available. You can also apply the LookupContainer strategy described below.| -- |\n",
        "|3|LookupContainer|This partitioning strategy is recommended for read-heavy scenarios where each of the most common queries filter to a different property, and there are a large number of such properties. As a result, choosing a single partition key leads to a high percentage of cross-partition queries. To implement this stratey, create a second container that allows you to lookup what the value of the partition key would be for the \"main\" container, given the property you know. This is recommended when your data size and number of containers needed makes it infeasible to create multiple copies of your data.| -- |\n",
        "\n",
        "### Recommendation tier\n",
        "|Recommendation Tier|Description|Details|\n",
        "|---------|---------|-----------|\n",
        "|0|Recommended |Based on your workload, we've determined this is a good choice of partition key that gives even distribution of data and matches your data access patterns.|\n",
        "|1|Warning|This partition key could work for your workload, but there are some potential flaws.|\n",
        "|2|NotRecommended|This partition key is not recommended. Typically, this occurs when the key does not result in high enough cardinality. |\n",
        "\n",
        "### Cardinality\n",
        "It's important to choose a partition key with high cardinality. We've scored each key based on the number of unique values for each property. The score is out of 100 and anything over 80 is good. \n",
        "\n",
        "### Has over 20 GB of data\n",
        "Azure Cosmos DB has a limit of 20 GB for a logical partition. If a particular value of the partition key is likely to exceed 20 GB of data, then it's typically recommended to use hierarchical partition keys to avoid this limit.\n",
        "### Used in common queries\n",
        "For read-heavy workloads, it's important to choose a partition key that is used in your top queries. This is calculated as `true` if the partition key can be used in over 50% of your specified query requests.\n",
        "\n",
        "### Impact of cross-partition queries\n",
        "For read-heavy workloads, it's important to choose a partition key that is used in your top queries, as it reduces the number of queries that need to fan out to all physical partitions. At the same time, it's totally normal to have some cross-partition queries. As long as they make up a small portion of your workload or are run infrequently (e.g. once a minute or a few times an hour), then the impact is low. Typically, an additional 3 RUs are required for each partition that is visited during a query. \n",
        "\n",
        "To read this table, first find the row that corresponds to the number of physical partitions we've estimated you'll have in the output of cell 22. Then, for each candidate find the ``ImpactOfCrossPartitionQueries`` value (0, 1,  or 2) and its corresponding column.\n",
        "\n",
        "When you have 1 physical partition, all \"cross-partition queries\" are effectively single partition queries, so the impact is low. As the number of physical partitions you have increases (typically corresponds to larger workloads with high scale), the impact of cross-partition queries increases. \n",
        "\n",
        "|-|If this partition key is chosen, and impact is low...|If this partition key is chosen, and impact is medium...|If this partition key is chosen, and impact is high...|\n",
        "|---------|---------|-----------|---|\n",
        "|**Number of physical partitions**|**0 (Low)**|**1 (Medium)**|**2 (High)**\n",
        "|**1**|Cross partition queries make up <90% of your overall workload. |Cross partition queries make up between 90% - 100% of your overall workload.|--|\n",
        "|**2-5**|Cross partition queries make up <30% of your overall workload.|Cross partition queries make up between 30% - 50% of your overall workload.| Cross partition queries make up >=50% of your overall workload.\n",
        "|**6-50**|Cross partition queries make up <25% of your overall workload.|Cross partition queries make up between 25% - 40% of your overall workload. |Cross partition queries make up >=40% of your overall workload.\n",
        "|**>50**|Cross partition queries make up <20% of your overall workload.|Cross partition queries make up between 20% - 30% of your overall workload. |Cross partition queries make up >=30% of your overall workload."
      ],
      "metadata": {
        "nteract": {
          "transient": {
            "deleting": false
          }
        }
      },
      "id": "0f71cef6-d007-4d24-911c-dd10ad7b7823"
    },
    {
      "cell_type": "markdown",
      "source": [
        "### Analyze the impact of cross-partition queries\n",
        "\n",
        "This table explores how each partition key candidate impacts cross-partition queries. To see the queries for particular candidate, filter the table to the candidate. \n"
      ],
      "metadata": {
        "nteract": {
          "transient": {
            "deleting": false
          }
        }
      },
      "id": "9bd00a96"
    },
    {
      "cell_type": "code",
      "source": [
        "using System.Linq;\n",
        "using System.Linq.Expressions;\n",
        "using System.Collections.Generic;\n",
        "\n",
        "Display.AsMarkdown(\"## Estimated number of physical partitions:  \" + rec.EstimatedPhysicalPartitions);\n",
        "\n",
        "rec.CrossPartitionQueryAnalysis.ToList()"
      ],
      "outputs": [
        {
          "output_type": "execute_result",
          "execution_count": 18,
          "data": {
            "text/plain": "System.Collections.Generic.List`1[PartitionKeyAdvisor.Core.Models.CrossPartitionQuery]",
            "application/vnd.dataresource+json": {
              "data": [
                {
                  "CandidatePartitionKey": "customerId",
                  "QueryName": "QueryByLastModifiedTimestamp",
                  "RequestsPerSecond": 24,
                  "PercentOfReadWorkload": 20,
                  "PercentOfOverallWorkload": 12,
                  "QueryFilters": "[\n  \"lastModifiedTimestamp\"\n]",
                  "AdditionalRUsPerSecond": 144,
                  "index": 0
                },
                {
                  "CandidatePartitionKey": "cartId",
                  "QueryName": "QueryByCustomerId",
                  "RequestsPerSecond": 36,
                  "PercentOfReadWorkload": 30,
                  "PercentOfOverallWorkload": 18,
                  "QueryFilters": "[\n  \"customerId\"\n]",
                  "AdditionalRUsPerSecond": 216,
                  "index": 1
                },
                {
                  "CandidatePartitionKey": "cartId",
                  "QueryName": "QueryByLastModifiedTimestamp",
                  "RequestsPerSecond": 24,
                  "PercentOfReadWorkload": 20,
                  "PercentOfOverallWorkload": 12,
                  "QueryFilters": "[\n  \"lastModifiedTimestamp\"\n]",
                  "AdditionalRUsPerSecond": 144,
                  "index": 2
                },
                {
                  "CandidatePartitionKey": "lastModifiedTimestamp",
                  "QueryName": "QueryByCustomerId",
                  "RequestsPerSecond": 36,
                  "PercentOfReadWorkload": 30,
                  "PercentOfOverallWorkload": 18,
                  "QueryFilters": "[\n  \"customerId\"\n]",
                  "AdditionalRUsPerSecond": 216,
                  "index": 3
                },
                {
                  "CandidatePartitionKey": "lastModifiedTimestamp",
                  "QueryName": "QueryByCustomerIdAndCartId",
                  "RequestsPerSecond": 60,
                  "PercentOfReadWorkload": 50,
                  "PercentOfOverallWorkload": 30,
                  "QueryFilters": "[\n  \"customerId\",\n  \"cartId\"\n]",
                  "AdditionalRUsPerSecond": 360,
                  "index": 4
                },
                {
                  "CandidatePartitionKey": "id",
                  "QueryName": "QueryByCustomerId",
                  "RequestsPerSecond": 36,
                  "PercentOfReadWorkload": 30,
                  "PercentOfOverallWorkload": 18,
                  "QueryFilters": "[\n  \"customerId\"\n]",
                  "AdditionalRUsPerSecond": 216,
                  "index": 5
                },
                {
                  "CandidatePartitionKey": "id",
                  "QueryName": "QueryByCustomerIdAndCartId",
                  "RequestsPerSecond": 60,
                  "PercentOfReadWorkload": 50,
                  "PercentOfOverallWorkload": 30,
                  "QueryFilters": "[\n  \"customerId\",\n  \"cartId\"\n]",
                  "AdditionalRUsPerSecond": 360,
                  "index": 6
                },
                {
                  "CandidatePartitionKey": "id",
                  "QueryName": "QueryByLastModifiedTimestamp",
                  "RequestsPerSecond": 24,
                  "PercentOfReadWorkload": 20,
                  "PercentOfOverallWorkload": 12,
                  "QueryFilters": "[\n  \"lastModifiedTimestamp\"\n]",
                  "AdditionalRUsPerSecond": 144,
                  "index": 7
                }
              ],
              "schema": {
                "fields": [
                  {
                    "name": "index",
                    "type": "integer"
                  },
                  {
                    "name": "CandidatePartitionKey",
                    "type": "string"
                  },
                  {
                    "name": "QueryName",
                    "type": "string"
                  },
                  {
                    "name": "RequestsPerSecond",
                    "type": "integer"
                  },
                  {
                    "name": "PercentOfReadWorkload",
                    "type": "number"
                  },
                  {
                    "name": "PercentOfOverallWorkload",
                    "type": "number"
                  },
                  {
                    "name": "QueryFilters",
                    "type": "array"
                  },
                  {
                    "name": "AdditionalRUsPerSecond",
                    "type": "integer"
                  }
                ],
                "primaryKey": [
                  "index"
                ]
              }
            }
          },
          "metadata": {
            "application/vnd.dataresource+json": {
              "dx": {
                "summaryType": "violin",
                "marginalGraphics": "none",
                "view": "grid",
                "areaType": "hexbin",
                "selectedDimensions": [
                  "QueryName"
                ],
                "selectedMetrics": [],
                "networkType": "force",
                "pieceType": "bar",
                "lineType": "line",
                "hierarchyType": "dendrogram",
                "colors": [
                  "#DA752E",
                  "#E5C209",
                  "#1441A0",
                  "#B86117",
                  "#4D430C",
                  "#1DB390",
                  "#B3331D",
                  "#088EB2",
                  "#417505",
                  "#E479A8",
                  "#F9F39E",
                  "#5782DC",
                  "#EBA97B",
                  "#A2AB60",
                  "#B291CF",
                  "#8DD2C2",
                  "#E6A19F",
                  "#3DC7E0",
                  "#98CE5B"
                ],
                "trendLine": "none",
                "barGrouping": "Clustered",
                "chart": {
                  "metric1": "RequestsPerSecond",
                  "metric2": "PercentOfReadWorkload",
                  "timeseriesSort": "array-order",
                  "metric3": "none",
                  "metric4": "none",
                  "networkLabel": "none",
                  "dim1": "QueryName",
                  "dim2": "CandidatePartitionKey",
                  "dim3": "none"
                }
              }
            }
          }
        },
        {
          "output_type": "display_data",
          "data": {
            "text/plain": "<IPython.core.display.Markdown object>",
            "text/markdown": "## Estimated number of physical partitions:  2"
          },
          "metadata": {}
        }
      ],
      "execution_count": 32,
      "metadata": {
        "collapsed": true,
        "dotnet_interactive": {
          "language": "csharp"
        },
        "execution": {
          "iopub.execute_input": "2022-03-30T20:04:00.308Z",
          "iopub.status.busy": "2022-03-30T20:04:00.288Z",
          "iopub.status.idle": "2022-03-30T20:04:00.354Z",
          "shell.execute_reply": "2022-03-30T20:04:00.367Z"
        },
        "jupyter": {
          "outputs_hidden": false,
          "source_hidden": false
        },
        "nteract": {
          "transient": {
            "deleting": false
          }
        },
        "trusted": false
      },
      "id": "7fe2fcec"
    },
    {
      "cell_type": "markdown",
      "source": [
        "### Analysis of cross-partition queries\n",
        "\n",
        "When you query data from containers, if the query has a partition key filter specified, Azure Cosmos DB automatically optimizes the query. It routes the query to the physical partitions corresponding to the partition key values specified in the filter. If the query doesn't specify the partition key, then a cross-partition query will occur and the query must access multiple physical partitions. \n",
        "\n",
        "In general, it's ok to have cross-partition queries! As long as your partition key can be included in the majority of your queries and cross-partition queries make up a small overall fraction of your overall worload, the impact will be minimal.\n",
        "\n",
        "|Property|Descritption|\n",
        "|---------|-----------|\n",
        "|CandidatePartitionKey|The candidate partition key.|\n",
        "|QueryName |The name of the query provided from your workload details.|\n",
        "|RequestsPerSecond |The number of requests for this query per second. This is calculated by multiplying: total number of requests for your workload \\* percent of your workload that is reads/100 \\* percent of your reads this query represents/100.  |\n",
        "|PercentOfReadWorkload|The percent of your total read operations that is represented by this query. |\n",
        "|PercentOfOverallWorkload|The percent of your overall workload that is represented by this query.|\n",
        "|QueryFilters|The properties that the query filters on. |\n",
        "|AdditionalRUsPerSecond|The additional RUs needed to support this cross-partition query. This is calculated by multiplying: 3 RUs \\* number of estimated physical partitions \\* number of times query is run per second. |"
      ],
      "metadata": {
        "nteract": {
          "transient": {
            "deleting": false
          }
        }
      },
      "id": "0f4214c0-60b1-46a8-bb64-b0f9a2a2a283"
    },
    {
      "cell_type": "markdown",
      "source": [
        "# Help us improve\n",
        "Do you have feedback or questions on the recommendation? Feel free to contact us at: cosmos-pka-team @ microsoft.com. Thank you for trying out the Azure Cosmos DB Partition Key Advisor!"
      ],
      "metadata": {
        "nteract": {
          "transient": {
            "deleting": false
          }
        }
      },
      "id": "674e5d50-a2fb-4656-bf56-44104877c20a"
    }
  ],
  "metadata": {
    "kernelspec": {
      "displayName": "CSharp",
      "display_name": ".NET (C#)",
      "language": "csharp",
      "name": "csharp"
    },
    "language_info": {
      "name": "csharp",
      "version": "7.3",
      "mimetype": "application/json",
      "file_extension": "ipynb",
      "codemirror_mode": "text/x-csharp"
    },
    "nteract": {
      "version": "dataExplorer 1.0"
    }
  },
  "nbformat": 4,
  "nbformat_minor": 5
}