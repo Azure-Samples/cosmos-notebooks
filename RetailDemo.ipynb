{
 "cells": [
  {
   "cell_type": "markdown",
   "metadata": {},
   "source": "# Getting started with Cosmos notebooks\nIn this notebook, we'll import some sample data in a container in Azure Cosmos DB, analyze it, and create some visualizations of the data. "
  },
  {
   "cell_type": "markdown",
   "metadata": {},
   "source": "### Create a new database named RetailDemo for our data\n\nWe'll use the built-in ```cosmos_client``` to run operations. This is a ready to use instance of [CosmosClient]('https://docs.microsoft.com/python/api/azure-cosmos/azure.cosmos.cosmos_client.cosmosclient?view=azure-python') from our Python SDK. It already has the context of this account baked in. "
  },
  {
   "cell_type": "code",
   "execution_count": 4,
   "metadata": {
    "trusted": true
   },
   "outputs": [
    {
     "name": "stdout",
     "output_type": "stream",
     "text": "A database with name 'RetailDemo' already exists\n"
    }
   ],
   "source": "## Create a new database if it doesn't exist.\ndatabase_id = \"RetailDemo\"\ndatabase_link = 'dbs/' + database_id\n\ntry:\n    cosmos_client.CreateDatabase({\"id\": database_id})\n    print('Database with id \\'{0}\\' created'.format(database_id))\n\nexcept errors.HTTPFailure as e:\n    if e.status_code == 409:\n       print('A database with name \\'{0}\\' already exists'.format(database_id))\n    else: \n        raise"
  },
  {
   "cell_type": "markdown",
   "metadata": {},
   "source": "### Create a new container WebsiteData inside the RetailDemo database.\nOur dataset will contain events that occurred on the website - e.g. a user viewing an item, adding it to their cart, or purchasing it. We will partition by CartId, which represents the individual cart of each user. This will give us an even distribution of throughput and storage in our container. Learn more about how to [choose a good partition key.](https://docs.microsoft.com/azure/cosmos-db/partition-data)"
  },
  {
   "cell_type": "code",
   "execution_count": 5,
   "metadata": {
    "trusted": true
   },
   "outputs": [
    {
     "name": "stdout",
     "output_type": "stream",
     "text": "A container with id 'WebsiteData' already exists\n"
    }
   ],
   "source": "## Create a new container if it doesn't already exist\ncontainer_id = \"WebsiteData\"\ncontainer_link = database_link + '/colls/' + container_id\ntry:\n    container_definition = {\n        \"id\": container_id,\n        \"partitionKey\": {\n            \"paths\": [\n              \"/CartId\"\n            ]\n        }\n    }\n\n    container = cosmos_client.CreateContainer(database_link, container_definition)\n    print('Container with id \\'{0}\\' created'.format(container_id))\n\nexcept errors.CosmosError as e:\n    if e.status_code == 409:\n       print('A container with id \\'{0}\\' already exists'.format(container_id))\n    else: \n        raise"
  },
  {
   "cell_type": "markdown",
   "metadata": {},
   "source": "### Load in sample JSON data and insert into the container. \nWe'll use the **UpsertItem** operation to create the item if it doesn't exist, or replace it if it already exists. This will take a few minutes.\n\nHere's a sample JSON document.\n```\n{\"CartID\":5399,\n\"Action\":\"Viewed\",\n\"Item\":\"Cosmos T-shirt\",\n\"Price\":350,\n\"UserName\":\"Chadrick.Larkin87\",\n\"Country\":\"Iceland\",\n\"EventDate\":\"2015-06-25T00:00:00\",\n\"Year\":2015,\"Latitude\":-66.8673,\n\"Longitude\":-29.8214,\n\"Address\":\"852 Modesto Loop, Port Ola, Iceland\",\n\"id\":\"00ffd39c-7e98-4451-9b91-b2bcf2f9a32d\"},\n```"
  },
  {
   "cell_type": "code",
   "execution_count": 6,
   "metadata": {
    "trusted": true
   },
   "outputs": [],
   "source": "## Read data from storage\nimport urllib.request, json \nwith urllib.request.urlopen(\"https://cosmosnotebooksdata.blob.core.windows.net/notebookdata/websiteData.json\") as url:\n    data = json.loads(url.read().decode())\n\nfor event in data:\n    try: \n        test = cosmos_client.UpsertItem(container_link, event)\n    except errors.CosmosError as e:\n        raise"
  },
  {
   "cell_type": "markdown",
   "metadata": {},
   "source": "## Run a query against Azure Cosmos DB, using **CosmosClient**.\nWe'll run the query **SELECT VALUE COUNT(1) FROM c** to count the number of documents in the container."
  },
  {
   "cell_type": "code",
   "execution_count": 56,
   "metadata": {
    "trusted": true
   },
   "outputs": [
    {
     "name": "stdout",
     "output_type": "stream",
     "text": "Container with id 'WebsiteData' contains '2654' items\n"
    }
   ],
   "source": "## Run a query against the container to see number of documents\nquery = {'query': 'SELECT VALUE COUNT(1) FROM c'}\n\noptions = {}\noptions['enableCrossPartitionQuery'] = True\n\nresult_iterable = cosmos_client.QueryItems(container_link, query, options)\nfor item in iter(result_iterable):\n    print('Container with id \\'{0}\\' contains \\'{1}\\' items'.format(container_id, item))\n    \n    "
  },
  {
   "cell_type": "markdown",
   "metadata": {},
   "source": "## Run some queries against Azure Cosmos DB, using the built-in notebook magic\nWe'll use the syntax:\n\n```%%sql --database {database_id} --container {container_id} --output outputDataframeVar\n{Query text}```\n\nThis allows us to output the results of the query directly into a Pandas data frame.\n"
  },
  {
   "cell_type": "markdown",
   "metadata": {},
   "source": "### Query #1\nGet the latest record, using the query: ```SELECT TOP 1 * FROM c ORDER BY c._ts desc```"
  },
  {
   "cell_type": "code",
   "execution_count": 60,
   "metadata": {
    "trusted": true
   },
   "outputs": [
    {
     "data": {
      "text/html": "<div>\n<style scoped>\n    .dataframe tbody tr th:only-of-type {\n        vertical-align: middle;\n    }\n\n    .dataframe tbody tr th {\n        vertical-align: top;\n    }\n\n    .dataframe thead th {\n        text-align: right;\n    }\n</style>\n<table border=\"1\" class=\"dataframe\">\n  <thead>\n    <tr style=\"text-align: right;\">\n      <th></th>\n      <th>Action</th>\n      <th>Address</th>\n      <th>CartID</th>\n      <th>Country</th>\n      <th>EventDate</th>\n      <th>Item</th>\n      <th>Latitude</th>\n      <th>Longitude</th>\n      <th>Price</th>\n      <th>UserName</th>\n      <th>Year</th>\n      <th>_attachments</th>\n      <th>_etag</th>\n      <th>_rid</th>\n      <th>_self</th>\n      <th>_ts</th>\n      <th>id</th>\n    </tr>\n  </thead>\n  <tbody>\n    <tr>\n      <th>0</th>\n      <td>Viewed</td>\n      <td>66786 Marlen Path, Erachester, Haiti</td>\n      <td>9211</td>\n      <td>Haiti</td>\n      <td>0001-01-01T00:00:00</td>\n      <td>Flannel Shirt</td>\n      <td>-1.0224</td>\n      <td>-135.163</td>\n      <td>19.99</td>\n      <td>Troy.Beatty</td>\n      <td>0</td>\n      <td>attachments/</td>\n      <td>\"0000fb14-0000-0400-0000-5d5d84cd0000\"</td>\n      <td>JjpGALE5LzJeCgAAAAAAAA==</td>\n      <td>dbs/JjpGAA==/colls/JjpGALE5LzI=/docs/JjpGALE5L...</td>\n      <td>1566409933</td>\n      <td>6e90664c-8ab7-44f6-8e56-8ea67e217f37</td>\n    </tr>\n  </tbody>\n</table>\n</div>",
      "text/plain": "   Action                               Address  CartID Country  \\\n0  Viewed  66786 Marlen Path, Erachester, Haiti    9211   Haiti   \n\n             EventDate           Item  Latitude  Longitude  Price  \\\n0  0001-01-01T00:00:00  Flannel Shirt   -1.0224   -135.163  19.99   \n\n      UserName  Year  _attachments                                   _etag  \\\n0  Troy.Beatty     0  attachments/  \"0000fb14-0000-0400-0000-5d5d84cd0000\"   \n\n                       _rid  \\\n0  JjpGALE5LzJeCgAAAAAAAA==   \n\n                                               _self         _ts  \\\n0  dbs/JjpGAA==/colls/JjpGALE5LzI=/docs/JjpGALE5L...  1566409933   \n\n                                     id  \n0  6e90664c-8ab7-44f6-8e56-8ea67e217f37  "
     },
     "execution_count": 60,
     "metadata": {},
     "output_type": "execute_result"
    }
   ],
   "source": "%%sql --database {database_id} --container {container_id}\nSELECT TOP 1 * from c order by c._ts desc"
  },
  {
   "cell_type": "code",
   "execution_count": 59,
   "metadata": {
    "trusted": true
   },
   "outputs": [
    {
     "data": {
      "text/plain": "\u001b[0;31mDocstring:\u001b[0m\n::\n\n  %sql [--database DATABASE] [--container CONTAINER] [--output OUTPUT]\n\nQueries Azure Cosmos DB using the given Cosmos database and container.\nLearn about the Cosmos query language: https://aka.ms/CosmosQuery\n\nExample:\n    %%sql --database databaseName --container containerName\n    SELECT top 1 r.id, r._ts from r order by r._ts desc\n\noptional arguments:\n  --database DATABASE, -d DATABASE\n                        If provided, this Cosmos database will be used;\n  --container CONTAINER, -c CONTAINER\n                        If provided, this Cosmos container will be used;\n  --output OUTPUT       The dataframe of the result will be stored in a\n                        variable with this name.\n\u001b[0;31mFile:\u001b[0m      /usr/local/lib/python3.6/dist-packages/cosmos_sql/__init__.py\n"
     },
     "metadata": {},
     "output_type": "display_data"
    }
   ],
   "source": "%%sql?"
  },
  {
   "cell_type": "markdown",
   "metadata": {},
   "source": "### Query #2\nGet particular fields we want to visualize and analyze, using the query: ```SELECT c.Action, c.Price as ItemRevenue, c.Country, c.Item FROM c```. The results will be saved into a Pandas dataframe named ```df_cosmos```."
  },
  {
   "cell_type": "code",
   "execution_count": 50,
   "metadata": {
    "trusted": true
   },
   "outputs": [],
   "source": "%%sql --database {database_id} --container {container_id} --output df_cosmos\nSELECT c.Action, c.Price as ItemRevenue, c.Country, c.Item FROM c"
  },
  {
   "cell_type": "code",
   "execution_count": 51,
   "metadata": {
    "trusted": true
   },
   "outputs": [
    {
     "data": {
      "text/html": "<div>\n<style scoped>\n    .dataframe tbody tr th:only-of-type {\n        vertical-align: middle;\n    }\n\n    .dataframe tbody tr th {\n        vertical-align: top;\n    }\n\n    .dataframe thead th {\n        text-align: right;\n    }\n</style>\n<table border=\"1\" class=\"dataframe\">\n  <thead>\n    <tr style=\"text-align: right;\">\n      <th></th>\n      <th>Action</th>\n      <th>Country</th>\n      <th>Item</th>\n      <th>ItemRevenue</th>\n    </tr>\n  </thead>\n  <tbody>\n    <tr>\n      <th>0</th>\n      <td>Viewed</td>\n      <td>Tunisia</td>\n      <td>Black Tee</td>\n      <td>9.00</td>\n    </tr>\n    <tr>\n      <th>1</th>\n      <td>Viewed</td>\n      <td>Antigua and Barbuda</td>\n      <td>Flannel Shirt</td>\n      <td>19.99</td>\n    </tr>\n    <tr>\n      <th>2</th>\n      <td>Added</td>\n      <td>Guinea-Bissau</td>\n      <td>Socks</td>\n      <td>3.75</td>\n    </tr>\n    <tr>\n      <th>3</th>\n      <td>Viewed</td>\n      <td>Guinea-Bissau</td>\n      <td>Socks</td>\n      <td>3.75</td>\n    </tr>\n    <tr>\n      <th>4</th>\n      <td>Viewed</td>\n      <td>Czech Republic</td>\n      <td>Rainjacket</td>\n      <td>55.00</td>\n    </tr>\n    <tr>\n      <th>5</th>\n      <td>Viewed</td>\n      <td>Iceland</td>\n      <td>Cosmos T-shirt</td>\n      <td>350.00</td>\n    </tr>\n    <tr>\n      <th>6</th>\n      <td>Added</td>\n      <td>Syrian Arab Republic</td>\n      <td>Button-Up Shirt</td>\n      <td>19.99</td>\n    </tr>\n    <tr>\n      <th>7</th>\n      <td>Viewed</td>\n      <td>Syrian Arab Republic</td>\n      <td>Button-Up Shirt</td>\n      <td>19.99</td>\n    </tr>\n    <tr>\n      <th>8</th>\n      <td>Viewed</td>\n      <td>Tuvalu</td>\n      <td>Red Top</td>\n      <td>33.00</td>\n    </tr>\n    <tr>\n      <th>9</th>\n      <td>Viewed</td>\n      <td>Cape Verde</td>\n      <td>Flip Flop Shoes</td>\n      <td>14.00</td>\n    </tr>\n  </tbody>\n</table>\n</div>",
      "text/plain": "   Action               Country              Item  ItemRevenue\n0  Viewed               Tunisia         Black Tee         9.00\n1  Viewed   Antigua and Barbuda     Flannel Shirt        19.99\n2   Added         Guinea-Bissau             Socks         3.75\n3  Viewed         Guinea-Bissau             Socks         3.75\n4  Viewed        Czech Republic        Rainjacket        55.00\n5  Viewed               Iceland    Cosmos T-shirt       350.00\n6   Added  Syrian Arab Republic   Button-Up Shirt        19.99\n7  Viewed  Syrian Arab Republic   Button-Up Shirt        19.99\n8  Viewed                Tuvalu           Red Top        33.00\n9  Viewed            Cape Verde   Flip Flop Shoes        14.00"
     },
     "execution_count": 51,
     "metadata": {},
     "output_type": "execute_result"
    }
   ],
   "source": "# See a sample of the result\ndf_cosmos.head(10)"
  },
  {
   "cell_type": "markdown",
   "metadata": {},
   "source": "### Query #3\n\nWe can also count the number of items in the container using the ```%%sql``` syntax."
  },
  {
   "cell_type": "code",
   "execution_count": 52,
   "metadata": {
    "trusted": true
   },
   "outputs": [
    {
     "data": {
      "text/html": "<div>\n<style scoped>\n    .dataframe tbody tr th:only-of-type {\n        vertical-align: middle;\n    }\n\n    .dataframe tbody tr th {\n        vertical-align: top;\n    }\n\n    .dataframe thead th {\n        text-align: right;\n    }\n</style>\n<table border=\"1\" class=\"dataframe\">\n  <thead>\n    <tr style=\"text-align: right;\">\n      <th></th>\n      <th>0</th>\n    </tr>\n  </thead>\n  <tbody>\n    <tr>\n      <th>0</th>\n      <td>2654</td>\n    </tr>\n  </tbody>\n</table>\n</div>",
      "text/plain": "      0\n0  2654"
     },
     "execution_count": 52,
     "metadata": {},
     "output_type": "execute_result"
    }
   ],
   "source": "%%sql --database RetailDemo --container WebsiteData\nSELECT VALUE COUNT(1) FROM c"
  },
  {
   "cell_type": "markdown",
   "metadata": {},
   "source": "### Get result from previous cell into Pandas dataframe\nWe'll run a simple group by on the dataframe to sum the total sales revenue for each country and display a sample of the results."
  },
  {
   "cell_type": "markdown",
   "metadata": {},
   "source": "### Sum revenue by country"
  },
  {
   "cell_type": "code",
   "execution_count": 53,
   "metadata": {
    "trusted": true
   },
   "outputs": [
    {
     "data": {
      "text/html": "<div>\n<style scoped>\n    .dataframe tbody tr th:only-of-type {\n        vertical-align: middle;\n    }\n\n    .dataframe tbody tr th {\n        vertical-align: top;\n    }\n\n    .dataframe thead th {\n        text-align: right;\n    }\n</style>\n<table border=\"1\" class=\"dataframe\">\n  <thead>\n    <tr style=\"text-align: right;\">\n      <th></th>\n      <th>Country</th>\n      <th>ItemRevenue</th>\n    </tr>\n  </thead>\n  <tbody>\n    <tr>\n      <th>0</th>\n      <td>Afghanistan</td>\n      <td>785.44</td>\n    </tr>\n    <tr>\n      <th>1</th>\n      <td>Albania</td>\n      <td>605.80</td>\n    </tr>\n    <tr>\n      <th>2</th>\n      <td>Algeria</td>\n      <td>1058.98</td>\n    </tr>\n    <tr>\n      <th>3</th>\n      <td>American Samoa</td>\n      <td>229.00</td>\n    </tr>\n    <tr>\n      <th>4</th>\n      <td>Andorra</td>\n      <td>247.49</td>\n    </tr>\n  </tbody>\n</table>\n</div>",
      "text/plain": "          Country  ItemRevenue\n0     Afghanistan       785.44\n1         Albania       605.80\n2         Algeria      1058.98\n3  American Samoa       229.00\n4         Andorra       247.49"
     },
     "metadata": {},
     "output_type": "display_data"
    }
   ],
   "source": "df_revenue = df_cosmos.groupby(\"Country\").sum().reset_index()\n\ndisplay(df_revenue.head(5))"
  },
  {
   "cell_type": "markdown",
   "metadata": {},
   "source": "### Analyze top 5 popular purchased items"
  },
  {
   "cell_type": "code",
   "execution_count": 54,
   "metadata": {
    "trusted": true
   },
   "outputs": [
    {
     "data": {
      "text/html": "<div>\n<style scoped>\n    .dataframe tbody tr th:only-of-type {\n        vertical-align: middle;\n    }\n\n    .dataframe tbody tr th {\n        vertical-align: top;\n    }\n\n    .dataframe thead th {\n        text-align: right;\n    }\n</style>\n<table border=\"1\" class=\"dataframe\">\n  <thead>\n    <tr style=\"text-align: right;\">\n      <th></th>\n      <th>Count</th>\n    </tr>\n    <tr>\n      <th>Item</th>\n      <th></th>\n    </tr>\n  </thead>\n  <tbody>\n    <tr>\n      <th>Puffy Jacket</th>\n      <td>25</td>\n    </tr>\n    <tr>\n      <th>Athletic Shoes</th>\n      <td>20</td>\n    </tr>\n    <tr>\n      <th>Athletic Shorts</th>\n      <td>19</td>\n    </tr>\n    <tr>\n      <th>Crewneck Sweater</th>\n      <td>14</td>\n    </tr>\n    <tr>\n      <th>Light Jeans</th>\n      <td>13</td>\n    </tr>\n  </tbody>\n</table>\n</div>",
      "text/plain": "                  Count\nItem                   \nPuffy Jacket         25\nAthletic Shoes       20\nAthletic Shorts      19\nCrewneck Sweater     14\nLight Jeans          13"
     },
     "execution_count": 54,
     "metadata": {},
     "output_type": "execute_result"
    }
   ],
   "source": "import pandas as pd\n\n## What are the top 5 purchased items?\npd.DataFrame(df_cosmos[df_cosmos['Action']=='Purchased'].groupby('Item').size().sort_values(ascending=False).head(5), columns=['Count'])"
  },
  {
   "cell_type": "markdown",
   "metadata": {},
   "source": "## Visualization #1: Sales revenue by country on a world map\n\nNow that we have our data on revenue from our Cosmos container, we'll visualize it using bokeh. Credit to https://towardsdatascience.com/a-complete-guide-to-an-interactive-geographical-map-using-python-f4c5197e23e0 for inspiration."
  },
  {
   "cell_type": "code",
   "execution_count": null,
   "metadata": {
    "trusted": true
   },
   "outputs": [],
   "source": "import sys\n!{sys.executable} -m pip install bokeh"
  },
  {
   "cell_type": "markdown",
   "metadata": {},
   "source": "### Prepare our data to be plotted"
  },
  {
   "cell_type": "code",
   "execution_count": null,
   "metadata": {
    "trusted": true
   },
   "outputs": [],
   "source": "import urllib.request, json \nimport geopandas as gpd\n\n# Load country information for mapping\ncountries = gpd.read_file(\"https://raw.githubusercontent.com/datasets/geo-countries/master/data/countries.geojson\")\n\n# Merge the countries dataframe with our data in Azure Cosmos DB, joining on country code\ndf_merged = countries.merge(df_revenue, left_on = 'ADMIN', right_on = 'Country', how='left')\n\n# Convert to GeoJSON so bokeh can plot it\nmerged_json = json.loads(df_merged.to_json())\njson_data = json.dumps(merged_json)\n"
  },
  {
   "cell_type": "markdown",
   "metadata": {},
   "source": "### Plot the sales revenue on a world map\nThis may take a few seconds..."
  },
  {
   "cell_type": "code",
   "execution_count": null,
   "metadata": {
    "trusted": true
   },
   "outputs": [],
   "source": "from bokeh.io import output_notebook, show\nfrom bokeh.plotting import figure\nfrom bokeh.models import GeoJSONDataSource, LinearColorMapper, ColorBar\nfrom bokeh.palettes import brewer\n\n#Input GeoJSON source that contains features for plotting.\ngeosource = GeoJSONDataSource(geojson = json_data)\n\n#Choose our choropleth color palette: https://bokeh.pydata.org/en/latest/docs/reference/palettes.html\npalette = brewer['YlGn'][8]\n\n#Reverse color order so that dark green is highest revenue\npalette = palette[::-1]\n\n#Instantiate LinearColorMapper that linearly maps numbers in a range, into a sequence of colors.\ncolor_mapper = LinearColorMapper(palette = palette, low = 0, high = 1000)\n\n#Define custom tick labels for color bar.\ntick_labels = {'0': '$0', '250': '$250', '500':'$500', '750':'$750', '1000':'$1000', '1250':'$1250', '1500':'$1500','1750':'$1750', '2000': '>$2000'}\n\n#Create color bar. \ncolor_bar = ColorBar(color_mapper=color_mapper, label_standoff=8,width = 500, height = 20,\nborder_line_color=None,location = (0,0), orientation = 'horizontal', major_label_overrides = tick_labels)\n\n#Create figure object.\np = figure(title = 'Sales revenue by country', plot_height = 600 , plot_width = 950, toolbar_location = None)\np.xgrid.grid_line_color = None\np.ygrid.grid_line_color = None\n\n#Add patch renderer to figure. \np.patches('xs','ys', source = geosource,fill_color = {'field' :'ItemRevenue', 'transform' : color_mapper},\n          line_color = 'black', line_width = 0.25, fill_alpha = 1)\n\n#Specify figure layout.\np.add_layout(color_bar, 'below')\n\n#Display figure inline in Jupyter Notebook.\noutput_notebook()\n\n#Display figure.\nshow(p)"
  },
  {
   "cell_type": "markdown",
   "metadata": {},
   "source": "## Visualization #2: Conversion rate of Viewed -> Added to cart -> Purchased by item\n\nIn our WebsiteData container, we have a record of users who viewed an item, added to their cart, and purchased the item. We can visualize the conversion rate for each item. Credit to: https://bokeh.pydata.org/en/latest/docs/user_guide/categorical.html for inspiration."
  },
  {
   "cell_type": "markdown",
   "metadata": {},
   "source": "### Plot our data"
  },
  {
   "cell_type": "code",
   "execution_count": 45,
   "metadata": {
    "trusted": true
   },
   "outputs": [
    {
     "data": {
      "text/html": "\n    <div class=\"bk-root\">\n        <a href=\"https://bokeh.pydata.org\" target=\"_blank\" class=\"bk-logo bk-logo-small bk-logo-notebook\"></a>\n        <span id=\"1380\">Loading BokehJS ...</span>\n    </div>"
     },
     "metadata": {},
     "output_type": "display_data"
    },
    {
     "data": {
      "application/javascript": "\n(function(root) {\n  function now() {\n    return new Date();\n  }\n\n  var force = true;\n\n  if (typeof root._bokeh_onload_callbacks === \"undefined\" || force === true) {\n    root._bokeh_onload_callbacks = [];\n    root._bokeh_is_loading = undefined;\n  }\n\n  var JS_MIME_TYPE = 'application/javascript';\n  var HTML_MIME_TYPE = 'text/html';\n  var EXEC_MIME_TYPE = 'application/vnd.bokehjs_exec.v0+json';\n  var CLASS_NAME = 'output_bokeh rendered_html';\n\n  /**\n   * Render data to the DOM node\n   */\n  function render(props, node) {\n    var script = document.createElement(\"script\");\n    node.appendChild(script);\n  }\n\n  /**\n   * Handle when an output is cleared or removed\n   */\n  function handleClearOutput(event, handle) {\n    var cell = handle.cell;\n\n    var id = cell.output_area._bokeh_element_id;\n    var server_id = cell.output_area._bokeh_server_id;\n    // Clean up Bokeh references\n    if (id != null && id in Bokeh.index) {\n      Bokeh.index[id].model.document.clear();\n      delete Bokeh.index[id];\n    }\n\n    if (server_id !== undefined) {\n      // Clean up Bokeh references\n      var cmd = \"from bokeh.io.state import curstate; print(curstate().uuid_to_server['\" + server_id + \"'].get_sessions()[0].document.roots[0]._id)\";\n      cell.notebook.kernel.execute(cmd, {\n        iopub: {\n          output: function(msg) {\n            var id = msg.content.text.trim();\n            if (id in Bokeh.index) {\n              Bokeh.index[id].model.document.clear();\n              delete Bokeh.index[id];\n            }\n          }\n        }\n      });\n      // Destroy server and session\n      var cmd = \"import bokeh.io.notebook as ion; ion.destroy_server('\" + server_id + \"')\";\n      cell.notebook.kernel.execute(cmd);\n    }\n  }\n\n  /**\n   * Handle when a new output is added\n   */\n  function handleAddOutput(event, handle) {\n    var output_area = handle.output_area;\n    var output = handle.output;\n\n    // limit handleAddOutput to display_data with EXEC_MIME_TYPE content only\n    if ((output.output_type != \"display_data\") || (!output.data.hasOwnProperty(EXEC_MIME_TYPE))) {\n      return\n    }\n\n    var toinsert = output_area.element.find(\".\" + CLASS_NAME.split(' ')[0]);\n\n    if (output.metadata[EXEC_MIME_TYPE][\"id\"] !== undefined) {\n      toinsert[toinsert.length - 1].firstChild.textContent = output.data[JS_MIME_TYPE];\n      // store reference to embed id on output_area\n      output_area._bokeh_element_id = output.metadata[EXEC_MIME_TYPE][\"id\"];\n    }\n    if (output.metadata[EXEC_MIME_TYPE][\"server_id\"] !== undefined) {\n      var bk_div = document.createElement(\"div\");\n      bk_div.innerHTML = output.data[HTML_MIME_TYPE];\n      var script_attrs = bk_div.children[0].attributes;\n      for (var i = 0; i < script_attrs.length; i++) {\n        toinsert[toinsert.length - 1].firstChild.setAttribute(script_attrs[i].name, script_attrs[i].value);\n      }\n      // store reference to server id on output_area\n      output_area._bokeh_server_id = output.metadata[EXEC_MIME_TYPE][\"server_id\"];\n    }\n  }\n\n  function register_renderer(events, OutputArea) {\n\n    function append_mime(data, metadata, element) {\n      // create a DOM node to render to\n      var toinsert = this.create_output_subarea(\n        metadata,\n        CLASS_NAME,\n        EXEC_MIME_TYPE\n      );\n      this.keyboard_manager.register_events(toinsert);\n      // Render to node\n      var props = {data: data, metadata: metadata[EXEC_MIME_TYPE]};\n      render(props, toinsert[toinsert.length - 1]);\n      element.append(toinsert);\n      return toinsert\n    }\n\n    /* Handle when an output is cleared or removed */\n    events.on('clear_output.CodeCell', handleClearOutput);\n    events.on('delete.Cell', handleClearOutput);\n\n    /* Handle when a new output is added */\n    events.on('output_added.OutputArea', handleAddOutput);\n\n    /**\n     * Register the mime type and append_mime function with output_area\n     */\n    OutputArea.prototype.register_mime_type(EXEC_MIME_TYPE, append_mime, {\n      /* Is output safe? */\n      safe: true,\n      /* Index of renderer in `output_area.display_order` */\n      index: 0\n    });\n  }\n\n  // register the mime type if in Jupyter Notebook environment and previously unregistered\n  if (root.Jupyter !== undefined) {\n    var events = require('base/js/events');\n    var OutputArea = require('notebook/js/outputarea').OutputArea;\n\n    if (OutputArea.prototype.mime_types().indexOf(EXEC_MIME_TYPE) == -1) {\n      register_renderer(events, OutputArea);\n    }\n  }\n\n  \n  if (typeof (root._bokeh_timeout) === \"undefined\" || force === true) {\n    root._bokeh_timeout = Date.now() + 5000;\n    root._bokeh_failed_load = false;\n  }\n\n  var NB_LOAD_WARNING = {'data': {'text/html':\n     \"<div style='background-color: #fdd'>\\n\"+\n     \"<p>\\n\"+\n     \"BokehJS does not appear to have successfully loaded. If loading BokehJS from CDN, this \\n\"+\n     \"may be due to a slow or bad network connection. Possible fixes:\\n\"+\n     \"</p>\\n\"+\n     \"<ul>\\n\"+\n     \"<li>re-rerun `output_notebook()` to attempt to load from CDN again, or</li>\\n\"+\n     \"<li>use INLINE resources instead, as so:</li>\\n\"+\n     \"</ul>\\n\"+\n     \"<code>\\n\"+\n     \"from bokeh.resources import INLINE\\n\"+\n     \"output_notebook(resources=INLINE)\\n\"+\n     \"</code>\\n\"+\n     \"</div>\"}};\n\n  function display_loaded() {\n    var el = document.getElementById(\"1380\");\n    if (el != null) {\n      el.textContent = \"BokehJS is loading...\";\n    }\n    if (root.Bokeh !== undefined) {\n      if (el != null) {\n        el.textContent = \"BokehJS \" + root.Bokeh.version + \" successfully loaded.\";\n      }\n    } else if (Date.now() < root._bokeh_timeout) {\n      setTimeout(display_loaded, 100)\n    }\n  }\n\n\n  function run_callbacks() {\n    try {\n      root._bokeh_onload_callbacks.forEach(function(callback) {\n        if (callback != null)\n          callback();\n      });\n    } finally {\n      delete root._bokeh_onload_callbacks\n    }\n    console.debug(\"Bokeh: all callbacks have finished\");\n  }\n\n  function load_libs(css_urls, js_urls, callback) {\n    if (css_urls == null) css_urls = [];\n    if (js_urls == null) js_urls = [];\n\n    root._bokeh_onload_callbacks.push(callback);\n    if (root._bokeh_is_loading > 0) {\n      console.debug(\"Bokeh: BokehJS is being loaded, scheduling callback at\", now());\n      return null;\n    }\n    if (js_urls == null || js_urls.length === 0) {\n      run_callbacks();\n      return null;\n    }\n    console.debug(\"Bokeh: BokehJS not loaded, scheduling load and callback at\", now());\n    root._bokeh_is_loading = css_urls.length + js_urls.length;\n\n    function on_load() {\n      root._bokeh_is_loading--;\n      if (root._bokeh_is_loading === 0) {\n        console.debug(\"Bokeh: all BokehJS libraries/stylesheets loaded\");\n        run_callbacks()\n      }\n    }\n\n    function on_error() {\n      console.error(\"failed to load \" + url);\n    }\n\n    for (var i = 0; i < css_urls.length; i++) {\n      var url = css_urls[i];\n      const element = document.createElement(\"link\");\n      element.onload = on_load;\n      element.onerror = on_error;\n      element.rel = \"stylesheet\";\n      element.type = \"text/css\";\n      element.href = url;\n      console.debug(\"Bokeh: injecting link tag for BokehJS stylesheet: \", url);\n      document.body.appendChild(element);\n    }\n\n    for (var i = 0; i < js_urls.length; i++) {\n      var url = js_urls[i];\n      var element = document.createElement('script');\n      element.onload = on_load;\n      element.onerror = on_error;\n      element.async = false;\n      element.src = url;\n      console.debug(\"Bokeh: injecting script tag for BokehJS library: \", url);\n      document.head.appendChild(element);\n    }\n  };var element = document.getElementById(\"1380\");\n  if (element == null) {\n    console.error(\"Bokeh: ERROR: autoload.js configured with elementid '1380' but no matching script tag was found. \")\n    return false;\n  }\n\n  function inject_raw_css(css) {\n    const element = document.createElement(\"style\");\n    element.appendChild(document.createTextNode(css));\n    document.body.appendChild(element);\n  }\n\n  var js_urls = [\"https://cdn.pydata.org/bokeh/release/bokeh-1.3.4.min.js\", \"https://cdn.pydata.org/bokeh/release/bokeh-widgets-1.3.4.min.js\", \"https://cdn.pydata.org/bokeh/release/bokeh-tables-1.3.4.min.js\", \"https://cdn.pydata.org/bokeh/release/bokeh-gl-1.3.4.min.js\"];\n  var css_urls = [];\n\n  var inline_js = [\n    function(Bokeh) {\n      Bokeh.set_log_level(\"info\");\n    },\n    \n    function(Bokeh) {\n      \n    },\n    function(Bokeh) {} // ensure no trailing comma for IE\n  ];\n\n  function run_inline_js() {\n    \n    if ((root.Bokeh !== undefined) || (force === true)) {\n      for (var i = 0; i < inline_js.length; i++) {\n        inline_js[i].call(root, root.Bokeh);\n      }if (force === true) {\n        display_loaded();\n      }} else if (Date.now() < root._bokeh_timeout) {\n      setTimeout(run_inline_js, 100);\n    } else if (!root._bokeh_failed_load) {\n      console.log(\"Bokeh: BokehJS failed to load within specified timeout.\");\n      root._bokeh_failed_load = true;\n    } else if (force !== true) {\n      var cell = $(document.getElementById(\"1380\")).parents('.cell').data().cell;\n      cell.output_area.append_execute_result(NB_LOAD_WARNING)\n    }\n\n  }\n\n  if (root._bokeh_is_loading === 0) {\n    console.debug(\"Bokeh: BokehJS loaded, going straight to plotting\");\n    run_inline_js();\n  } else {\n    load_libs(css_urls, js_urls, function() {\n      console.debug(\"Bokeh: BokehJS plotting callback run at\", now());\n      run_inline_js();\n    });\n  }\n}(window));",
      "application/vnd.bokehjs_load.v0+json": "\n(function(root) {\n  function now() {\n    return new Date();\n  }\n\n  var force = true;\n\n  if (typeof root._bokeh_onload_callbacks === \"undefined\" || force === true) {\n    root._bokeh_onload_callbacks = [];\n    root._bokeh_is_loading = undefined;\n  }\n\n  \n\n  \n  if (typeof (root._bokeh_timeout) === \"undefined\" || force === true) {\n    root._bokeh_timeout = Date.now() + 5000;\n    root._bokeh_failed_load = false;\n  }\n\n  var NB_LOAD_WARNING = {'data': {'text/html':\n     \"<div style='background-color: #fdd'>\\n\"+\n     \"<p>\\n\"+\n     \"BokehJS does not appear to have successfully loaded. If loading BokehJS from CDN, this \\n\"+\n     \"may be due to a slow or bad network connection. Possible fixes:\\n\"+\n     \"</p>\\n\"+\n     \"<ul>\\n\"+\n     \"<li>re-rerun `output_notebook()` to attempt to load from CDN again, or</li>\\n\"+\n     \"<li>use INLINE resources instead, as so:</li>\\n\"+\n     \"</ul>\\n\"+\n     \"<code>\\n\"+\n     \"from bokeh.resources import INLINE\\n\"+\n     \"output_notebook(resources=INLINE)\\n\"+\n     \"</code>\\n\"+\n     \"</div>\"}};\n\n  function display_loaded() {\n    var el = document.getElementById(\"1380\");\n    if (el != null) {\n      el.textContent = \"BokehJS is loading...\";\n    }\n    if (root.Bokeh !== undefined) {\n      if (el != null) {\n        el.textContent = \"BokehJS \" + root.Bokeh.version + \" successfully loaded.\";\n      }\n    } else if (Date.now() < root._bokeh_timeout) {\n      setTimeout(display_loaded, 100)\n    }\n  }\n\n\n  function run_callbacks() {\n    try {\n      root._bokeh_onload_callbacks.forEach(function(callback) {\n        if (callback != null)\n          callback();\n      });\n    } finally {\n      delete root._bokeh_onload_callbacks\n    }\n    console.debug(\"Bokeh: all callbacks have finished\");\n  }\n\n  function load_libs(css_urls, js_urls, callback) {\n    if (css_urls == null) css_urls = [];\n    if (js_urls == null) js_urls = [];\n\n    root._bokeh_onload_callbacks.push(callback);\n    if (root._bokeh_is_loading > 0) {\n      console.debug(\"Bokeh: BokehJS is being loaded, scheduling callback at\", now());\n      return null;\n    }\n    if (js_urls == null || js_urls.length === 0) {\n      run_callbacks();\n      return null;\n    }\n    console.debug(\"Bokeh: BokehJS not loaded, scheduling load and callback at\", now());\n    root._bokeh_is_loading = css_urls.length + js_urls.length;\n\n    function on_load() {\n      root._bokeh_is_loading--;\n      if (root._bokeh_is_loading === 0) {\n        console.debug(\"Bokeh: all BokehJS libraries/stylesheets loaded\");\n        run_callbacks()\n      }\n    }\n\n    function on_error() {\n      console.error(\"failed to load \" + url);\n    }\n\n    for (var i = 0; i < css_urls.length; i++) {\n      var url = css_urls[i];\n      const element = document.createElement(\"link\");\n      element.onload = on_load;\n      element.onerror = on_error;\n      element.rel = \"stylesheet\";\n      element.type = \"text/css\";\n      element.href = url;\n      console.debug(\"Bokeh: injecting link tag for BokehJS stylesheet: \", url);\n      document.body.appendChild(element);\n    }\n\n    for (var i = 0; i < js_urls.length; i++) {\n      var url = js_urls[i];\n      var element = document.createElement('script');\n      element.onload = on_load;\n      element.onerror = on_error;\n      element.async = false;\n      element.src = url;\n      console.debug(\"Bokeh: injecting script tag for BokehJS library: \", url);\n      document.head.appendChild(element);\n    }\n  };var element = document.getElementById(\"1380\");\n  if (element == null) {\n    console.error(\"Bokeh: ERROR: autoload.js configured with elementid '1380' but no matching script tag was found. \")\n    return false;\n  }\n\n  function inject_raw_css(css) {\n    const element = document.createElement(\"style\");\n    element.appendChild(document.createTextNode(css));\n    document.body.appendChild(element);\n  }\n\n  var js_urls = [\"https://cdn.pydata.org/bokeh/release/bokeh-1.3.4.min.js\", \"https://cdn.pydata.org/bokeh/release/bokeh-widgets-1.3.4.min.js\", \"https://cdn.pydata.org/bokeh/release/bokeh-tables-1.3.4.min.js\", \"https://cdn.pydata.org/bokeh/release/bokeh-gl-1.3.4.min.js\"];\n  var css_urls = [];\n\n  var inline_js = [\n    function(Bokeh) {\n      Bokeh.set_log_level(\"info\");\n    },\n    \n    function(Bokeh) {\n      \n    },\n    function(Bokeh) {} // ensure no trailing comma for IE\n  ];\n\n  function run_inline_js() {\n    \n    if ((root.Bokeh !== undefined) || (force === true)) {\n      for (var i = 0; i < inline_js.length; i++) {\n        inline_js[i].call(root, root.Bokeh);\n      }if (force === true) {\n        display_loaded();\n      }} else if (Date.now() < root._bokeh_timeout) {\n      setTimeout(run_inline_js, 100);\n    } else if (!root._bokeh_failed_load) {\n      console.log(\"Bokeh: BokehJS failed to load within specified timeout.\");\n      root._bokeh_failed_load = true;\n    } else if (force !== true) {\n      var cell = $(document.getElementById(\"1380\")).parents('.cell').data().cell;\n      cell.output_area.append_execute_result(NB_LOAD_WARNING)\n    }\n\n  }\n\n  if (root._bokeh_is_loading === 0) {\n    console.debug(\"Bokeh: BokehJS loaded, going straight to plotting\");\n    run_inline_js();\n  } else {\n    load_libs(css_urls, js_urls, function() {\n      console.debug(\"Bokeh: BokehJS plotting callback run at\", now());\n      run_inline_js();\n    });\n  }\n}(window));"
     },
     "metadata": {},
     "output_type": "display_data"
    },
    {
     "data": {
      "text/html": "\n\n\n\n\n\n  <div class=\"bk-root\" id=\"fa703b58-b352-4b5d-948c-8fa5252c4d4c\" data-root-id=\"1340\"></div>\n"
     },
     "metadata": {},
     "output_type": "display_data"
    },
    {
     "data": {
      "application/javascript": "(function(root) {\n  function embed_document(root) {\n    \n  var docs_json = {\"71f4b43e-c03e-4fd9-b993-2b60b519f419\":{\"roots\":{\"references\":[{\"attributes\":{\"below\":[{\"id\":\"1350\",\"type\":\"CategoricalAxis\"}],\"center\":[{\"id\":\"1353\",\"type\":\"Grid\"},{\"id\":\"1358\",\"type\":\"Grid\"}],\"left\":[{\"id\":\"1354\",\"type\":\"LinearAxis\"}],\"outline_line_color\":{\"value\":\"black\"},\"plot_height\":500,\"plot_width\":1200,\"renderers\":[{\"id\":\"1378\",\"type\":\"GlyphRenderer\"}],\"title\":{\"id\":\"1341\",\"type\":\"Title\"},\"toolbar\":{\"id\":\"1366\",\"type\":\"Toolbar\"},\"toolbar_location\":null,\"x_range\":{\"id\":\"1339\",\"type\":\"FactorRange\"},\"x_scale\":{\"id\":\"1346\",\"type\":\"CategoricalScale\"},\"y_range\":{\"id\":\"1344\",\"type\":\"DataRange1d\"},\"y_scale\":{\"id\":\"1348\",\"type\":\"LinearScale\"}},\"id\":\"1340\",\"subtype\":\"Figure\",\"type\":\"Plot\"},{\"attributes\":{},\"id\":\"1346\",\"type\":\"CategoricalScale\"},{\"attributes\":{\"callback\":null,\"tooltips\":[[\"Number of events\",\"@ResultCount_max\"],[\"Item, Action\",\"@Item_Action\"]]},\"id\":\"1365\",\"type\":\"HoverTool\"},{\"attributes\":{},\"id\":\"1355\",\"type\":\"BasicTicker\"},{\"attributes\":{},\"id\":\"1362\",\"type\":\"SaveTool\"},{\"attributes\":{\"callback\":null,\"data\":{\"ItemRevenue_25%\":{\"__ndarray__\":\"AAAAAAAANkAAAAAAAAAmQAAAAAAAgEBAAAAAAAAAQ0AAAAAAAAA0QAAAAAAAgEpAAAAAAAAAREAAAAAAAAAzQAAAAAAAgE1AAAAAAAAAMkAAAAAAAAAmQAAAAAAAAD1AAAAAAAAAMEAAAAAAAAAkQAAAAAAAADlAAAAAAAAANEAAAAAAAAAoQAAAAAAAADpAAAAAAAAAO0AAAAAAAAAsQAAAAAAAgEJAAAAAAAAAOEAAAAAAAAAqQAAAAAAAAEBAAAAAAACATEAAAAAAAAA5QAAAAAAAwFVAAAAAAAAAM0AAAAAAAAAmQAAAAAAAADxA\",\"dtype\":\"float64\",\"shape\":[30]},\"ItemRevenue_50%\":{\"__ndarray__\":\"AAAAAAAANkAAAAAAAAAmQAAAAAAAgEBAAAAAAAAAQ0AAAAAAAAA0QAAAAAAAgEpAAAAAAAAAREAAAAAAAAAzQAAAAAAAgE1AAAAAAAAAMkAAAAAAAAAmQAAAAAAAAD1AAAAAAAAAMEAAAAAAAAAkQAAAAAAAADlAAAAAAAAANEAAAAAAAAAoQAAAAAAAADpAAAAAAAAAO0AAAAAAAAAsQAAAAAAAgEJAAAAAAAAAOEAAAAAAAAAqQAAAAAAAAEBAAAAAAACATEAAAAAAAAA5QAAAAAAAwFVAAAAAAAAAM0AAAAAAAAAmQAAAAAAAADxA\",\"dtype\":\"float64\",\"shape\":[30]},\"ItemRevenue_75%\":{\"__ndarray__\":\"AAAAAAAANkAAAAAAAAAmQAAAAAAAgEBAAAAAAAAAQ0AAAAAAAAA0QAAAAAAAgEpAAAAAAAAAREAAAAAAAAAzQAAAAAAAgE1AAAAAAAAAMkAAAAAAAAAmQAAAAAAAAD1AAAAAAAAAMEAAAAAAAAAkQAAAAAAAADlAAAAAAAAANEAAAAAAAAAoQAAAAAAAADpAAAAAAAAAO0AAAAAAAAAsQAAAAAAAgEJAAAAAAAAAOEAAAAAAAAAqQAAAAAAAAEBAAAAAAACATEAAAAAAAAA5QAAAAAAAwFVAAAAAAAAAM0AAAAAAAAAmQAAAAAAAADxA\",\"dtype\":\"float64\",\"shape\":[30]},\"ItemRevenue_count\":{\"__ndarray__\":\"AAAAAAAA8D8AAAAAAADwPwAAAAAAAPA/AAAAAAAA8D8AAAAAAADwPwAAAAAAAPA/AAAAAAAA8D8AAAAAAADwPwAAAAAAAPA/AAAAAAAA8D8AAAAAAADwPwAAAAAAAPA/AAAAAAAA8D8AAAAAAADwPwAAAAAAAPA/AAAAAAAA8D8AAAAAAADwPwAAAAAAAPA/AAAAAAAA8D8AAAAAAADwPwAAAAAAAPA/AAAAAAAA8D8AAAAAAADwPwAAAAAAAPA/AAAAAAAA8D8AAAAAAADwPwAAAAAAAPA/AAAAAAAA8D8AAAAAAADwPwAAAAAAAPA/\",\"dtype\":\"float64\",\"shape\":[30]},\"ItemRevenue_max\":{\"__ndarray__\":\"AAAAAAAANkAAAAAAAAAmQAAAAAAAgEBAAAAAAAAAQ0AAAAAAAAA0QAAAAAAAgEpAAAAAAAAAREAAAAAAAAAzQAAAAAAAgE1AAAAAAAAAMkAAAAAAAAAmQAAAAAAAAD1AAAAAAAAAMEAAAAAAAAAkQAAAAAAAADlAAAAAAAAANEAAAAAAAAAoQAAAAAAAADpAAAAAAAAAO0AAAAAAAAAsQAAAAAAAgEJAAAAAAAAAOEAAAAAAAAAqQAAAAAAAAEBAAAAAAACATEAAAAAAAAA5QAAAAAAAwFVAAAAAAAAAM0AAAAAAAAAmQAAAAAAAADxA\",\"dtype\":\"float64\",\"shape\":[30]},\"ItemRevenue_mean\":{\"__ndarray__\":\"AAAAAAAANkAAAAAAAAAmQAAAAAAAgEBAAAAAAAAAQ0AAAAAAAAA0QAAAAAAAgEpAAAAAAAAAREAAAAAAAAAzQAAAAAAAgE1AAAAAAAAAMkAAAAAAAAAmQAAAAAAAAD1AAAAAAAAAMEAAAAAAAAAkQAAAAAAAADlAAAAAAAAANEAAAAAAAAAoQAAAAAAAADpAAAAAAAAAO0AAAAAAAAAsQAAAAAAAgEJAAAAAAAAAOEAAAAAAAAAqQAAAAAAAAEBAAAAAAACATEAAAAAAAAA5QAAAAAAAwFVAAAAAAAAAM0AAAAAAAAAmQAAAAAAAADxA\",\"dtype\":\"float64\",\"shape\":[30]},\"ItemRevenue_min\":{\"__ndarray__\":\"AAAAAAAANkAAAAAAAAAmQAAAAAAAgEBAAAAAAAAAQ0AAAAAAAAA0QAAAAAAAgEpAAAAAAAAAREAAAAAAAAAzQAAAAAAAgE1AAAAAAAAAMkAAAAAAAAAmQAAAAAAAAD1AAAAAAAAAMEAAAAAAAAAkQAAAAAAAADlAAAAAAAAANEAAAAAAAAAoQAAAAAAAADpAAAAAAAAAO0AAAAAAAAAsQAAAAAAAgEJAAAAAAAAAOEAAAAAAAAAqQAAAAAAAAEBAAAAAAACATEAAAAAAAAA5QAAAAAAAwFVAAAAAAAAAM0AAAAAAAAAmQAAAAAAAADxA\",\"dtype\":\"float64\",\"shape\":[30]},\"ItemRevenue_std\":{\"__ndarray__\":\"AAAAAAAA+H8AAAAAAAD4fwAAAAAAAPh/AAAAAAAA+H8AAAAAAAD4fwAAAAAAAPh/AAAAAAAA+H8AAAAAAAD4fwAAAAAAAPh/AAAAAAAA+H8AAAAAAAD4fwAAAAAAAPh/AAAAAAAA+H8AAAAAAAD4fwAAAAAAAPh/AAAAAAAA+H8AAAAAAAD4fwAAAAAAAPh/AAAAAAAA+H8AAAAAAAD4fwAAAAAAAPh/AAAAAAAA+H8AAAAAAAD4fwAAAAAAAPh/AAAAAAAA+H8AAAAAAAD4fwAAAAAAAPh/AAAAAAAA+H8AAAAAAAD4fwAAAAAAAPh/\",\"dtype\":\"float64\",\"shape\":[30]},\"Item_Action\":[[\" Flip Flop Shoes\",\"Added\"],[\" Flip Flop Shoes\",\"Purchased\"],[\" Flip Flop Shoes\",\"Viewed\"],[\"Athletic Shoes\",\"Added\"],[\"Athletic Shoes\",\"Purchased\"],[\"Athletic Shoes\",\"Viewed\"],[\"Athletic Shorts\",\"Added\"],[\"Athletic Shorts\",\"Purchased\"],[\"Athletic Shorts\",\"Viewed\"],[\"Bag\",\"Added\"],[\"Bag\",\"Purchased\"],[\"Bag\",\"Viewed\"],[\"Beanie\",\"Added\"],[\"Beanie\",\"Purchased\"],[\"Beanie\",\"Viewed\"],[\"Black Hoodie\",\"Added\"],[\"Black Hoodie\",\"Purchased\"],[\"Black Hoodie\",\"Viewed\"],[\"Crewneck Sweater\",\"Added\"],[\"Crewneck Sweater\",\"Purchased\"],[\"Crewneck Sweater\",\"Viewed\"],[\"Light Jeans\",\"Added\"],[\"Light Jeans\",\"Purchased\"],[\"Light Jeans\",\"Viewed\"],[\"Puffy Jacket\",\"Added\"],[\"Puffy Jacket\",\"Purchased\"],[\"Puffy Jacket\",\"Viewed\"],[\"Suit Pant\",\"Added\"],[\"Suit Pant\",\"Purchased\"],[\"Suit Pant\",\"Viewed\"]],\"ResultCount_25%\":{\"__ndarray__\":\"AAAAAAAANkAAAAAAAAAmQAAAAAAAgEBAAAAAAAAAQ0AAAAAAAAA0QAAAAAAAgEpAAAAAAAAAREAAAAAAAAAzQAAAAAAAgE1AAAAAAAAAMkAAAAAAAAAmQAAAAAAAAD1AAAAAAAAAMEAAAAAAAAAkQAAAAAAAADlAAAAAAAAANEAAAAAAAAAoQAAAAAAAADpAAAAAAAAAO0AAAAAAAAAsQAAAAAAAgEJAAAAAAAAAOEAAAAAAAAAqQAAAAAAAAEBAAAAAAACATEAAAAAAAAA5QAAAAAAAwFVAAAAAAAAAM0AAAAAAAAAmQAAAAAAAADxA\",\"dtype\":\"float64\",\"shape\":[30]},\"ResultCount_50%\":{\"__ndarray__\":\"AAAAAAAANkAAAAAAAAAmQAAAAAAAgEBAAAAAAAAAQ0AAAAAAAAA0QAAAAAAAgEpAAAAAAAAAREAAAAAAAAAzQAAAAAAAgE1AAAAAAAAAMkAAAAAAAAAmQAAAAAAAAD1AAAAAAAAAMEAAAAAAAAAkQAAAAAAAADlAAAAAAAAANEAAAAAAAAAoQAAAAAAAADpAAAAAAAAAO0AAAAAAAAAsQAAAAAAAgEJAAAAAAAAAOEAAAAAAAAAqQAAAAAAAAEBAAAAAAACATEAAAAAAAAA5QAAAAAAAwFVAAAAAAAAAM0AAAAAAAAAmQAAAAAAAADxA\",\"dtype\":\"float64\",\"shape\":[30]},\"ResultCount_75%\":{\"__ndarray__\":\"AAAAAAAANkAAAAAAAAAmQAAAAAAAgEBAAAAAAAAAQ0AAAAAAAAA0QAAAAAAAgEpAAAAAAAAAREAAAAAAAAAzQAAAAAAAgE1AAAAAAAAAMkAAAAAAAAAmQAAAAAAAAD1AAAAAAAAAMEAAAAAAAAAkQAAAAAAAADlAAAAAAAAANEAAAAAAAAAoQAAAAAAAADpAAAAAAAAAO0AAAAAAAAAsQAAAAAAAgEJAAAAAAAAAOEAAAAAAAAAqQAAAAAAAAEBAAAAAAACATEAAAAAAAAA5QAAAAAAAwFVAAAAAAAAAM0AAAAAAAAAmQAAAAAAAADxA\",\"dtype\":\"float64\",\"shape\":[30]},\"ResultCount_count\":{\"__ndarray__\":\"AAAAAAAA8D8AAAAAAADwPwAAAAAAAPA/AAAAAAAA8D8AAAAAAADwPwAAAAAAAPA/AAAAAAAA8D8AAAAAAADwPwAAAAAAAPA/AAAAAAAA8D8AAAAAAADwPwAAAAAAAPA/AAAAAAAA8D8AAAAAAADwPwAAAAAAAPA/AAAAAAAA8D8AAAAAAADwPwAAAAAAAPA/AAAAAAAA8D8AAAAAAADwPwAAAAAAAPA/AAAAAAAA8D8AAAAAAADwPwAAAAAAAPA/AAAAAAAA8D8AAAAAAADwPwAAAAAAAPA/AAAAAAAA8D8AAAAAAADwPwAAAAAAAPA/\",\"dtype\":\"float64\",\"shape\":[30]},\"ResultCount_max\":{\"__ndarray__\":\"AAAAAAAANkAAAAAAAAAmQAAAAAAAgEBAAAAAAAAAQ0AAAAAAAAA0QAAAAAAAgEpAAAAAAAAAREAAAAAAAAAzQAAAAAAAgE1AAAAAAAAAMkAAAAAAAAAmQAAAAAAAAD1AAAAAAAAAMEAAAAAAAAAkQAAAAAAAADlAAAAAAAAANEAAAAAAAAAoQAAAAAAAADpAAAAAAAAAO0AAAAAAAAAsQAAAAAAAgEJAAAAAAAAAOEAAAAAAAAAqQAAAAAAAAEBAAAAAAACATEAAAAAAAAA5QAAAAAAAwFVAAAAAAAAAM0AAAAAAAAAmQAAAAAAAADxA\",\"dtype\":\"float64\",\"shape\":[30]},\"ResultCount_mean\":{\"__ndarray__\":\"AAAAAAAANkAAAAAAAAAmQAAAAAAAgEBAAAAAAAAAQ0AAAAAAAAA0QAAAAAAAgEpAAAAAAAAAREAAAAAAAAAzQAAAAAAAgE1AAAAAAAAAMkAAAAAAAAAmQAAAAAAAAD1AAAAAAAAAMEAAAAAAAAAkQAAAAAAAADlAAAAAAAAANEAAAAAAAAAoQAAAAAAAADpAAAAAAAAAO0AAAAAAAAAsQAAAAAAAgEJAAAAAAAAAOEAAAAAAAAAqQAAAAAAAAEBAAAAAAACATEAAAAAAAAA5QAAAAAAAwFVAAAAAAAAAM0AAAAAAAAAmQAAAAAAAADxA\",\"dtype\":\"float64\",\"shape\":[30]},\"ResultCount_min\":{\"__ndarray__\":\"AAAAAAAANkAAAAAAAAAmQAAAAAAAgEBAAAAAAAAAQ0AAAAAAAAA0QAAAAAAAgEpAAAAAAAAAREAAAAAAAAAzQAAAAAAAgE1AAAAAAAAAMkAAAAAAAAAmQAAAAAAAAD1AAAAAAAAAMEAAAAAAAAAkQAAAAAAAADlAAAAAAAAANEAAAAAAAAAoQAAAAAAAADpAAAAAAAAAO0AAAAAAAAAsQAAAAAAAgEJAAAAAAAAAOEAAAAAAAAAqQAAAAAAAAEBAAAAAAACATEAAAAAAAAA5QAAAAAAAwFVAAAAAAAAAM0AAAAAAAAAmQAAAAAAAADxA\",\"dtype\":\"float64\",\"shape\":[30]},\"ResultCount_std\":{\"__ndarray__\":\"AAAAAAAA+H8AAAAAAAD4fwAAAAAAAPh/AAAAAAAA+H8AAAAAAAD4fwAAAAAAAPh/AAAAAAAA+H8AAAAAAAD4fwAAAAAAAPh/AAAAAAAA+H8AAAAAAAD4fwAAAAAAAPh/AAAAAAAA+H8AAAAAAAD4fwAAAAAAAPh/AAAAAAAA+H8AAAAAAAD4fwAAAAAAAPh/AAAAAAAA+H8AAAAAAAD4fwAAAAAAAPh/AAAAAAAA+H8AAAAAAAD4fwAAAAAAAPh/AAAAAAAA+H8AAAAAAAD4fwAAAAAAAPh/AAAAAAAA+H8AAAAAAAD4fwAAAAAAAPh/\",\"dtype\":\"float64\",\"shape\":[30]}},\"selected\":{\"id\":\"1412\",\"type\":\"Selection\"},\"selection_policy\":{\"id\":\"1411\",\"type\":\"UnionRenderers\"}},\"id\":\"1374\",\"type\":\"ColumnDataSource\"},{\"attributes\":{\"axis_label\":\"Item\",\"formatter\":{\"id\":\"1406\",\"type\":\"CategoricalTickFormatter\"},\"major_label_orientation\":1.2,\"ticker\":{\"id\":\"1351\",\"type\":\"CategoricalTicker\"}},\"id\":\"1350\",\"type\":\"CategoricalAxis\"},{\"attributes\":{},\"id\":\"1351\",\"type\":\"CategoricalTicker\"},{\"attributes\":{\"text\":\"Conversion rate of items from View -> Add to cart -> Purchase\"},\"id\":\"1341\",\"type\":\"Title\"},{\"attributes\":{\"fill_alpha\":{\"value\":0.1},\"fill_color\":{\"value\":\"#1f77b4\"},\"line_alpha\":{\"value\":0.1},\"line_color\":{\"value\":\"#1f77b4\"},\"top\":{\"field\":\"ItemRevenue_max\"},\"width\":{\"value\":1},\"x\":{\"field\":\"Item_Action\"}},\"id\":\"1377\",\"type\":\"VBar\"},{\"attributes\":{\"bottom_units\":\"screen\",\"fill_alpha\":{\"value\":0.5},\"fill_color\":{\"value\":\"lightgrey\"},\"left_units\":\"screen\",\"level\":\"overlay\",\"line_alpha\":{\"value\":1.0},\"line_color\":{\"value\":\"black\"},\"line_dash\":[4,4],\"line_width\":{\"value\":2},\"render_mode\":\"css\",\"right_units\":\"screen\",\"top_units\":\"screen\"},\"id\":\"1410\",\"type\":\"BoxAnnotation\"},{\"attributes\":{},\"id\":\"1406\",\"type\":\"CategoricalTickFormatter\"},{\"attributes\":{\"callback\":null,\"start\":0},\"id\":\"1344\",\"type\":\"DataRange1d\"},{\"attributes\":{},\"id\":\"1411\",\"type\":\"UnionRenderers\"},{\"attributes\":{},\"id\":\"1348\",\"type\":\"LinearScale\"},{\"attributes\":{\"fill_color\":{\"field\":\"Item_Action\",\"transform\":{\"id\":\"1338\",\"type\":\"CategoricalColorMapper\"}},\"line_color\":{\"value\":\"white\"},\"top\":{\"field\":\"ItemRevenue_max\"},\"width\":{\"value\":1},\"x\":{\"field\":\"Item_Action\"}},\"id\":\"1376\",\"type\":\"VBar\"},{\"attributes\":{},\"id\":\"1360\",\"type\":\"WheelZoomTool\"},{\"attributes\":{\"end\":2,\"factors\":[\"Added\",\"Purchased\",\"Viewed\"],\"palette\":[\"#99d594\",\"#ffffbf\",\"#fc8d59\"],\"start\":1},\"id\":\"1338\",\"type\":\"CategoricalColorMapper\"},{\"attributes\":{},\"id\":\"1412\",\"type\":\"Selection\"},{\"attributes\":{\"axis_label\":\"Count\",\"formatter\":{\"id\":\"1408\",\"type\":\"BasicTickFormatter\"},\"ticker\":{\"id\":\"1355\",\"type\":\"BasicTicker\"}},\"id\":\"1354\",\"type\":\"LinearAxis\"},{\"attributes\":{\"dimension\":1,\"ticker\":{\"id\":\"1355\",\"type\":\"BasicTicker\"}},\"id\":\"1358\",\"type\":\"Grid\"},{\"attributes\":{},\"id\":\"1408\",\"type\":\"BasicTickFormatter\"},{\"attributes\":{\"grid_line_color\":null,\"ticker\":{\"id\":\"1351\",\"type\":\"CategoricalTicker\"}},\"id\":\"1353\",\"type\":\"Grid\"},{\"attributes\":{\"active_drag\":\"auto\",\"active_inspect\":\"auto\",\"active_multi\":null,\"active_scroll\":\"auto\",\"active_tap\":\"auto\",\"tools\":[{\"id\":\"1359\",\"type\":\"PanTool\"},{\"id\":\"1360\",\"type\":\"WheelZoomTool\"},{\"id\":\"1361\",\"type\":\"BoxZoomTool\"},{\"id\":\"1362\",\"type\":\"SaveTool\"},{\"id\":\"1363\",\"type\":\"ResetTool\"},{\"id\":\"1364\",\"type\":\"HelpTool\"},{\"id\":\"1365\",\"type\":\"HoverTool\"}]},\"id\":\"1366\",\"type\":\"Toolbar\"},{\"attributes\":{\"callback\":null,\"factors\":[[\"Suit Pant\",\"Viewed\"],[\"Suit Pant\",\"Added\"],[\"Suit Pant\",\"Purchased\"],[\"Puffy Jacket\",\"Viewed\"],[\"Puffy Jacket\",\"Added\"],[\"Puffy Jacket\",\"Purchased\"],[\"Light Jeans\",\"Viewed\"],[\"Light Jeans\",\"Added\"],[\"Light Jeans\",\"Purchased\"],[\"Crewneck Sweater\",\"Viewed\"],[\"Crewneck Sweater\",\"Added\"],[\"Crewneck Sweater\",\"Purchased\"],[\"Black Hoodie\",\"Viewed\"],[\"Black Hoodie\",\"Added\"],[\"Black Hoodie\",\"Purchased\"],[\"Beanie\",\"Viewed\"],[\"Beanie\",\"Added\"],[\"Beanie\",\"Purchased\"],[\"Bag\",\"Viewed\"],[\"Bag\",\"Added\"],[\"Bag\",\"Purchased\"],[\"Athletic Shorts\",\"Viewed\"],[\"Athletic Shorts\",\"Added\"],[\"Athletic Shorts\",\"Purchased\"],[\"Athletic Shoes\",\"Viewed\"],[\"Athletic Shoes\",\"Added\"],[\"Athletic Shoes\",\"Purchased\"],[\" Flip Flop Shoes\",\"Viewed\"],[\" Flip Flop Shoes\",\"Added\"],[\" Flip Flop Shoes\",\"Purchased\"]],\"range_padding\":0.05},\"id\":\"1339\",\"type\":\"FactorRange\"},{\"attributes\":{\"overlay\":{\"id\":\"1410\",\"type\":\"BoxAnnotation\"}},\"id\":\"1361\",\"type\":\"BoxZoomTool\"},{\"attributes\":{\"data_source\":{\"id\":\"1374\",\"type\":\"ColumnDataSource\"},\"glyph\":{\"id\":\"1376\",\"type\":\"VBar\"},\"hover_glyph\":null,\"muted_glyph\":null,\"nonselection_glyph\":{\"id\":\"1377\",\"type\":\"VBar\"},\"selection_glyph\":null,\"view\":{\"id\":\"1379\",\"type\":\"CDSView\"}},\"id\":\"1378\",\"type\":\"GlyphRenderer\"},{\"attributes\":{},\"id\":\"1364\",\"type\":\"HelpTool\"},{\"attributes\":{\"source\":{\"id\":\"1374\",\"type\":\"ColumnDataSource\"}},\"id\":\"1379\",\"type\":\"CDSView\"},{\"attributes\":{},\"id\":\"1359\",\"type\":\"PanTool\"},{\"attributes\":{},\"id\":\"1363\",\"type\":\"ResetTool\"}],\"root_ids\":[\"1340\"]},\"title\":\"Bokeh Application\",\"version\":\"1.3.4\"}};\n  var render_items = [{\"docid\":\"71f4b43e-c03e-4fd9-b993-2b60b519f419\",\"roots\":{\"1340\":\"fa703b58-b352-4b5d-948c-8fa5252c4d4c\"}}];\n  root.Bokeh.embed.embed_items_notebook(docs_json, render_items);\n\n  }\n  if (root.Bokeh !== undefined) {\n    embed_document(root);\n  } else {\n    var attempts = 0;\n    var timer = setInterval(function(root) {\n      if (root.Bokeh !== undefined) {\n        embed_document(root);\n        clearInterval(timer);\n      }\n      attempts++;\n      if (attempts > 100) {\n        console.log(\"Bokeh: ERROR: Unable to run BokehJS code because BokehJS library is missing\");\n        clearInterval(timer);\n      }\n    }, 10, root)\n  }\n})(window);",
      "application/vnd.bokehjs_exec.v0+json": ""
     },
     "metadata": {
      "application/vnd.bokehjs_exec.v0+json": {
       "id": "1340"
      }
     },
     "output_type": "display_data"
    }
   ],
   "source": "from bokeh.io import show, output_notebook\n\nfrom bokeh.plotting import figure\nfrom bokeh.palettes import Spectral3\nfrom bokeh.transform import factor_cmap\nfrom bokeh.models import ColumnDataSource, FactorRange\n\n\n# Get the top 10 items as an array\ntop_10_items = df_cosmos[df_cosmos['Action']=='Purchased'].groupby('Item').size().sort_values(ascending=False)[:10].index.values.tolist()\n\n# Filter our data to only these 10 items\ndf_top10 = df_cosmos[df_cosmos['Item'].isin(top_10_items)]\n\n# Group by Item and Action, sorting by event count\ndf_top10_sorted = df_top10.groupby(['Item', 'Action']).count().rename(columns={'Country':'ResultCount'}, inplace=False).reset_index().sort_values(['Item', 'ResultCount'], ascending = False).set_index(['Item', 'Action'])\n\n# Get sorted X-axis values - this way, we can display the funnel of view -> add -> purchase\nx_axis_values = df_top10_sorted.index.values.tolist()\n\ngroup = df_top10_sorted.groupby(['Item', 'Action'])\n\n# Specifiy colors for X axis\nindex_cmap = factor_cmap('Item_Action', palette=Spectral3, factors=sorted(df_top10.Action.unique()), start=1, end=2)\n\n# Create the plot\n\np = figure(plot_width=1200, plot_height=500, title=\"Conversion rate of items from View -> Add to cart -> Purchase\", x_range=FactorRange(*x_axis_values), toolbar_location=None, tooltips=[(\"Number of events\", \"@ResultCount_max\"), (\"Item, Action\", \"@Item_Action\")])\n\np.vbar(x='Item_Action', top='ItemRevenue_max', width=1, source=group,\n       line_color=\"white\", fill_color=index_cmap, )\n\n#Configure how the plot looks\np.y_range.start = 0\np.x_range.range_padding = 0.05\np.xgrid.grid_line_color = None\np.xaxis.major_label_orientation = 1.2\np.outline_line_color = \"black\"\np.xaxis.axis_label = \"Item\"\np.yaxis.axis_label = \"Count\"\n\n#Display figure inline in Jupyter Notebook.\noutput_notebook()\n\n#Display figure.\nshow(p)\n"
  },
  {
   "cell_type": "code",
   "execution_count": null,
   "metadata": {
    "trusted": true
   },
   "outputs": [],
   "source": ""
  }
 ],
 "metadata": {
  "kernelspec": {
   "display_name": "Python 3",
   "language": "python",
   "name": "python3"
  },
  "language_info": {
   "codemirror_mode": {
    "name": "ipython",
    "version": 3
   },
   "file_extension": ".py",
   "mimetype": "text/x-python",
   "name": "python",
   "nbconvert_exporter": "python",
   "pygments_lexer": "ipython3",
   "version": "3.6.8"
  }
 },
 "nbformat": 4,
 "nbformat_minor": 2
}