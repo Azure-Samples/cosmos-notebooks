{
 "cells": [
  {
   "cell_type": "markdown",
   "metadata": {},
   "source": [
    "# Stored procedures in Azure Cosmos DB\n",
    "\n",
    "Let's have some fun with [stored procedures](https://docs.microsoft.com/azure/cosmos-db/stored-procedures-triggers-udfs)! They let you implement custom logic in Javascript functions that get directly executed on your Cosmos DB instance. Stored procedures are most useful when you need to run atomic transactions over multiple items.\n",
    "\n",
    "We start by creating the resources we are going to need: a database and a container."
   ]
  },
  {
   "cell_type": "code",
   "execution_count": 1,
   "metadata": {},
   "outputs": [
    {
     "name": "stdout",
     "output_type": "stream",
     "text": [
      "Database already exists\n",
      "Container dropped\n",
      "Container created\n"
     ]
    }
   ],
   "source": [
    "# Initialize the client (not required if run on the user's account?)\n",
    "import azure.cosmos\n",
    "import azure.cosmos.cosmos_client as cosmos_client\n",
    "import time\n",
    "client = cosmos_client.CosmosClient(os.environ[\"COSMOS_ENDPOINT\"], {'masterKey': os.environ[\"COSMOS_KEY\"]})\n",
    "\n",
    "db_name    = \"spdbtest\"\n",
    "container_name  = \"spcltest\"\n",
    "db_link = \"/dbs/\" + db_name\n",
    "container_link = \"/dbs/\" + db_name + \"/colls/\" + container_name\n",
    "\n",
    "# Create the database if it doesn't exist\n",
    "db_query = \"select * from r where r.id = '{0}'\".format(db_name)\n",
    "db = list(client.QueryDatabases(db_query))\n",
    "if db:\n",
    "    print('Database already exists')\n",
    "else:\n",
    "    client.CreateDatabase({'id': db_name})\n",
    "    print('Database created')\n",
    "    time.sleep(3)\n",
    "\n",
    "# Reset the container\n",
    "container_query = \"select * from r where r.id = '{0}'\".format(container_name)\n",
    "container = list(client.QueryContainers(db_link, container_query))\n",
    "if container:\n",
    "    client.DeleteContainer(container_link)\n",
    "    print('Container dropped')\n",
    "client.CreateContainer(db_link, {'id': container_name})\n",
    "print('Container created')"
   ]
  },
  {
   "cell_type": "markdown",
   "metadata": {},
   "source": [
    "Now that we have a container to work with, we can create a stored procedure named `createItem` that just stores any object passed as a parameter. It's nothing more that a Javascript function that uses [Cosmos DB's server-side API](https://azure.github.io/azure-cosmosdb-js-server/) to interact with the container it's running in:"
   ]
  },
  {
   "cell_type": "code",
   "execution_count": 2,
   "metadata": {},
   "outputs": [
    {
     "name": "stdout",
     "output_type": "stream",
     "text": [
      "Stored procedure \"createItem\" created\n"
     ]
    }
   ],
   "source": [
    "sp1_name = 'createItem'\n",
    "sp1_link = container_link + \"/sprocs/\" + sp1_name\n",
    "sp1_definition = {\n",
    "    'id': sp1_name,\n",
    "    'serverScript': \"\"\"function (itemToCreate) {\n",
    "\n",
    "    var context = getContext();\n",
    "    var container = context.getCollection();\n",
    "\n",
    "    // create the new item\n",
    "    container.createDocument(container.getSelfLink(),\n",
    "        itemToCreate,\n",
    "        function (err, itemCreated) {\n",
    "            if (err) throw new Error('Error' + err.message);\n",
    "            context.getResponse().setBody(itemCreated.id)\n",
    "        });\n",
    "}\"\"\"\n",
    "}\n",
    "client.CreateStoredProcedure(container_link, sp1_definition)\n",
    "print('Stored procedure \"' + sp1_name + '\" created')"
   ]
  },
  {
   "cell_type": "markdown",
   "metadata": {},
   "source": [
    "Can't wait to try it! Let's call it by passing some JSON object as a parameter:"
   ]
  },
  {
   "cell_type": "code",
   "execution_count": 3,
   "metadata": {},
   "outputs": [
    {
     "name": "stdout",
     "output_type": "stream",
     "text": [
      "New item with id \"b9096dfc-c242-0008-b1ad-3417bcd3629d\" created\n"
     ]
    }
   ],
   "source": [
    "result = client.ExecuteStoredProcedure(sp1_link, {\n",
    "    'name': 'Alice'\n",
    "})\n",
    "print('New item with id \"' + result + '\" created')"
   ]
  },
  {
   "cell_type": "markdown",
   "metadata": {},
   "source": [
    "Looks like our stored procedure has created an item based on the JSON object we passed. We can verify that by reading that new item and looking up the value of its `name` property:"
   ]
  },
  {
   "cell_type": "code",
   "execution_count": 4,
   "metadata": {
    "scrolled": true
   },
   "outputs": [
    {
     "name": "stdout",
     "output_type": "stream",
     "text": [
      "\"name\" value is: Alice\n"
     ]
    }
   ],
   "source": [
    "new_item = client.ReadItem(container_link + \"/docs/\" + result)\n",
    "print('\"name\" value is: ' + new_item['name'])"
   ]
  },
  {
   "cell_type": "markdown",
   "metadata": {},
   "source": [
    "Great! But not super useful... We could have done that directly client-side without the need for a stored procedure. Let's spice things up with a second one that creates an item only if a pre-condition is met:"
   ]
  },
  {
   "cell_type": "code",
   "execution_count": 5,
   "metadata": {},
   "outputs": [
    {
     "name": "stdout",
     "output_type": "stream",
     "text": [
      "Stored procedure \"createItemConditional\" created\n"
     ]
    }
   ],
   "source": [
    "sp2_name = 'createItemConditional'\n",
    "sp2_link = container_link + \"/sprocs/\" + sp2_name\n",
    "sp2_definition = {\n",
    "    'id': sp2_name,\n",
    "    'serverScript': \"\"\"function (nameValueToCheck, itemToCreate) {\n",
    "\n",
    "    var context = getContext();\n",
    "    var container = context.getCollection();\n",
    "    \n",
    "    var query = \n",
    "    {     \n",
    "        'query' : 'SELECT * FROM c where c.name = @val',\n",
    "        'parameters' : [{ 'name': '@val', 'value': nameValueToCheck }] \n",
    "    };\n",
    "    // check for the pre-condition\n",
    "    container.queryDocuments(container.getSelfLink(),\n",
    "        query,\n",
    "        function (err, items) {\n",
    "            if (err) throw new Error('Error' + err.message);\n",
    "            if (items.length > 0) {\n",
    "                // if no item matches the pre-condition, create the new item\n",
    "                container.createDocument(container.getSelfLink(),\n",
    "                    itemToCreate,\n",
    "                    function (err, itemCreated) {\n",
    "                        if (err) throw new Error('Error' + err.message);\n",
    "                        context.getResponse().setBody(itemCreated.id);\n",
    "                    });            \n",
    "            }\n",
    "            else {\n",
    "                context.getResponse().setBody('no item created');\n",
    "            }\n",
    "        });\n",
    "}\"\"\"\n",
    "}\n",
    "client.CreateStoredProcedure(container_link, sp2_definition)\n",
    "print('Stored procedure \"' + sp2_name + '\" created')"
   ]
  },
  {
   "cell_type": "markdown",
   "metadata": {},
   "source": [
    "So this second stored procedure first searches for items where the value of the `name` property matches the first parameter. If any such document is found, it creates a new item from the JSON object passed as second parameter; if not, it does nothing.\n",
    "\n",
    "Let's try it:"
   ]
  },
  {
   "cell_type": "code",
   "execution_count": 6,
   "metadata": {},
   "outputs": [
    {
     "name": "stdout",
     "output_type": "stream",
     "text": [
      "no item created\n"
     ]
    }
   ],
   "source": [
    "result = client.ExecuteStoredProcedure(sp2_link, ['Bob', {\n",
    "    'name': 'Bob'\n",
    "}])\n",
    "print(result)"
   ]
  },
  {
   "cell_type": "markdown",
   "metadata": {},
   "source": [
    "Because our container currently doesn't contain any item where `name` equals `Bob`, the stored procedure didn't create any new item, as expected. But if we pass `Alice` as the first parameter, it will match the item we created just before, and a new item should be created:"
   ]
  },
  {
   "cell_type": "code",
   "execution_count": 7,
   "metadata": {},
   "outputs": [
    {
     "name": "stdout",
     "output_type": "stream",
     "text": [
      "New item with id \"bbfd472d-702c-e16d-f191-9fd3c8589ec5\" created\n"
     ]
    }
   ],
   "source": [
    "result = client.ExecuteStoredProcedure(sp2_link, ['Alice', {\n",
    "    'name': 'Bob'\n",
    "}])\n",
    "print('New item with id \"' + result + '\" created')"
   ]
  },
  {
   "cell_type": "markdown",
   "metadata": {},
   "source": [
    "It did! And just to be sure, let's fetch that new item to check the value of its `name` property:"
   ]
  },
  {
   "cell_type": "code",
   "execution_count": 8,
   "metadata": {},
   "outputs": [
    {
     "name": "stdout",
     "output_type": "stream",
     "text": [
      "\"name\" value is: Bob\n"
     ]
    }
   ],
   "source": [
    "new_item = client.ReadItem(container_link + \"/docs/\" + result)\n",
    "print('\"name\" value is: ' + new_item['name'])"
   ]
  },
  {
   "cell_type": "markdown",
   "metadata": {},
   "source": [
    "What's important to note here is that stored procedures are executed as **atomic transactions**, so there are only 2 situations possible:\n",
    "- either the Javascript function succeeds and all the write operations it has performed get committed,\n",
    "- or the Javascript function fails - because it has thrown an exception for example - and all the write operations it has performed get rolled back.\n",
    "\n",
    "To illustrate that, let's rewrite our second procedure. This time, we invert the order of operations and start by writing the new item. Then, we check for the pre-condition and throw an exception if it's not met:"
   ]
  },
  {
   "cell_type": "code",
   "execution_count": 9,
   "metadata": {},
   "outputs": [
    {
     "name": "stdout",
     "output_type": "stream",
     "text": [
      "Stored procedure \"createItemConditionalWithThrow\" created\n"
     ]
    }
   ],
   "source": [
    "sp3_name = 'createItemConditionalWithThrow'\n",
    "sp3_link = container_link + \"/sprocs/\" + sp3_name\n",
    "sp3_definition = {\n",
    "    'id': sp3_name,\n",
    "    'serverScript': \"\"\"function (nameValueToCheck, itemToCreate) {\n",
    "\n",
    "    var context = getContext();\n",
    "    var container = context.getCollection();\n",
    "\n",
    "    // create the new item\n",
    "    container.createDocument(container.getSelfLink(),\n",
    "        itemToCreate,\n",
    "        function (err, itemCreated) {\n",
    "            if (err) throw new Error('Error' + err.message);\n",
    "            context.getResponse().setBody(itemCreated.id);\n",
    "            \n",
    "            var query = \n",
    "            {     \n",
    "                'query' : 'SELECT * FROM c where c.name = @val',\n",
    "                'parameters' : [{ 'name': '@val', 'value': nameValueToCheck }] \n",
    "            };\n",
    "            // check for the pre-condition\n",
    "            container.queryDocuments(container.getSelfLink(),\n",
    "                query,\n",
    "                function (err, items) {\n",
    "                    if (err) throw new Error('Error' + err.message);\n",
    "                    if (items.length == 0) {\n",
    "                        // if no item matches the pre-condition, throw an error\n",
    "                        throw new Error('pre-condition not met');\n",
    "                    }\n",
    "                });\n",
    "        });\n",
    "}\"\"\"\n",
    "}\n",
    "client.CreateStoredProcedure(container_link, sp3_definition)\n",
    "print('Stored procedure \"' + sp3_name + '\" created')"
   ]
  },
  {
   "cell_type": "markdown",
   "metadata": {},
   "source": [
    "We try that new stored procedure, this time by encapsulating its call with a try-except block to catch an exception if thrown:"
   ]
  },
  {
   "cell_type": "code",
   "execution_count": 10,
   "metadata": {},
   "outputs": [
    {
     "name": "stdout",
     "output_type": "stream",
     "text": [
      "Exception caught!\n"
     ]
    }
   ],
   "source": [
    "try:\n",
    "    result = client.ExecuteStoredProcedure(sp3_link, ['Carol', {\n",
    "        'name': 'Carol'\n",
    "    }])\n",
    "    print('New item with id \"' + result + '\" created')\n",
    "except azure.cosmos.errors.HTTPFailure as e:\n",
    "   print('Exception caught!')"
   ]
  },
  {
   "cell_type": "markdown",
   "metadata": {},
   "source": [
    "And an exception got caught. We verify that the stored procedure was executed transactionally by fetching all items where `name` equals `Carol`. Although such item *was* written at the beginning of the function, this write operation must have been rolled back because of the exception."
   ]
  },
  {
   "cell_type": "code",
   "execution_count": 11,
   "metadata": {},
   "outputs": [
    {
     "name": "stdout",
     "output_type": "stream",
     "text": [
      "Got 0 result(s)\n"
     ]
    }
   ],
   "source": [
    "query = 'SELECT * FROM c WHERE c.name = \"Carol\"'\n",
    "results = list(client.QueryItems(container_link, query, {'enableCrossPartitionQuery': True}))\n",
    "print('Got ' + str(len(results)) + ' result(s)')"
   ]
  },
  {
   "cell_type": "markdown",
   "metadata": {},
   "source": [
    "Indeed, we found no matching document.\n",
    "\n",
    "Obviously, calling that last stored procedure with a matching pre-condition will succeed:"
   ]
  },
  {
   "cell_type": "code",
   "execution_count": 12,
   "metadata": {},
   "outputs": [
    {
     "name": "stdout",
     "output_type": "stream",
     "text": [
      "New item with id \"6418c3d0-68b9-8332-35c9-0ce391b895f8\" created\n",
      "\"name\" value is: Carol\n"
     ]
    }
   ],
   "source": [
    "try:\n",
    "    result = client.ExecuteStoredProcedure(sp3_link, ['Bob', {\n",
    "        'name': 'Carol'\n",
    "    }])\n",
    "    print('New item with id \"' + result + '\" created')\n",
    "except azure.cosmos.errors.HTTPFailure as e:\n",
    "   print('Exception caught!')\n",
    "\n",
    "new_item3 = client.ReadItem(container_link + \"/docs/\" + result)\n",
    "print('\"name\" value is: ' + new_item3['name'])"
   ]
  },
  {
   "cell_type": "markdown",
   "metadata": {},
   "source": [
    "Learn more about [writing](https://docs.microsoft.com/azure/cosmos-db/how-to-write-stored-procedures-triggers-udfs) and [running](https://docs.microsoft.com/azure/cosmos-db/how-to-use-stored-procedures-triggers-udfs) stored procedures in Cosmos DB!\n",
    "\n",
    "And before we close, don't forget to clean up the resources we've created:"
   ]
  },
  {
   "cell_type": "code",
   "execution_count": 13,
   "metadata": {},
   "outputs": [],
   "source": [
    "client.DeleteDatabase(db_link)"
   ]
  }
 ],
 "metadata": {
  "kernelspec": {
   "display_name": "Python 3",
   "language": "python",
   "name": "python3"
  },
  "language_info": {
   "codemirror_mode": {
    "name": "ipython",
    "version": 3
   },
   "file_extension": ".py",
   "mimetype": "text/x-python",
   "name": "python",
   "nbconvert_exporter": "python",
   "pygments_lexer": "ipython3",
   "version": "3.6.8"
  }
 },
 "nbformat": 4,
 "nbformat_minor": 2
}
