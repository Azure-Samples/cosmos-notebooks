{
 "cells": [
  {
   "cell_type": "markdown",
   "metadata": {},
   "source": "# Visualizations with Cosmic notebooks\nIn this notebook, we'll run some queries of our data and visualize it using bokeh."
  },
  {
   "cell_type": "markdown",
   "metadata": {},
   "source": "### Pre-requisites\n\nThis notebook assumes you've created the ```RetailDemo``` database and ```WebsiteData``` container in the **GettingStarted.ipynb** notebook. If you haven't, run the cells in the notebook before continuing. You can find it under the **Sample Notebooks**."
  },
  {
   "cell_type": "markdown",
   "metadata": {},
   "source": "### Getting our data into a DataFrame\n\nWe'll use the syntax:\n\n```%%sql --database {database_id} --container {container_id} --output outputDataframeVar\n{Query text}```\n\nWe'll run the query ```SELECT c.Action, c.Price as ItemRevenue, c.Country, c.Item FROM c```. The results will be saved into a Pandas dataframe named ```df_cosmos```.\n\n"
  },
  {
   "cell_type": "code",
   "execution_count": 6,
   "metadata": {
    "trusted": true
   },
   "outputs": [],
   "source": "%%sql --database RetailDemo --container WebsiteData --output df_cosmos\nSELECT c.Action, c.Price as ItemRevenue, c.Country, c.Item FROM c"
  },
  {
   "cell_type": "code",
   "execution_count": 7,
   "metadata": {
    "trusted": true
   },
   "outputs": [
    {
     "data": {
      "text/html": "<div>\n<style scoped>\n    .dataframe tbody tr th:only-of-type {\n        vertical-align: middle;\n    }\n\n    .dataframe tbody tr th {\n        vertical-align: top;\n    }\n\n    .dataframe thead th {\n        text-align: right;\n    }\n</style>\n<table border=\"1\" class=\"dataframe\">\n  <thead>\n    <tr style=\"text-align: right;\">\n      <th></th>\n      <th>Action</th>\n      <th>ItemRevenue</th>\n      <th>Country</th>\n      <th>Item</th>\n    </tr>\n  </thead>\n  <tbody>\n    <tr>\n      <td>0</td>\n      <td>Viewed</td>\n      <td>9.00</td>\n      <td>Tunisia</td>\n      <td>Black Tee</td>\n    </tr>\n    <tr>\n      <td>1</td>\n      <td>Viewed</td>\n      <td>19.99</td>\n      <td>Antigua and Barbuda</td>\n      <td>Flannel Shirt</td>\n    </tr>\n    <tr>\n      <td>2</td>\n      <td>Added</td>\n      <td>3.75</td>\n      <td>Guinea-Bissau</td>\n      <td>Socks</td>\n    </tr>\n    <tr>\n      <td>3</td>\n      <td>Viewed</td>\n      <td>3.75</td>\n      <td>Guinea-Bissau</td>\n      <td>Socks</td>\n    </tr>\n    <tr>\n      <td>4</td>\n      <td>Viewed</td>\n      <td>55.00</td>\n      <td>Czech Republic</td>\n      <td>Rainjacket</td>\n    </tr>\n    <tr>\n      <td>5</td>\n      <td>Viewed</td>\n      <td>350.00</td>\n      <td>Iceland</td>\n      <td>Cosmos T-shirt</td>\n    </tr>\n    <tr>\n      <td>6</td>\n      <td>Added</td>\n      <td>19.99</td>\n      <td>Syrian Arab Republic</td>\n      <td>Button-Up Shirt</td>\n    </tr>\n    <tr>\n      <td>7</td>\n      <td>Viewed</td>\n      <td>19.99</td>\n      <td>Syrian Arab Republic</td>\n      <td>Button-Up Shirt</td>\n    </tr>\n    <tr>\n      <td>8</td>\n      <td>Viewed</td>\n      <td>33.00</td>\n      <td>Tuvalu</td>\n      <td>Red Top</td>\n    </tr>\n    <tr>\n      <td>9</td>\n      <td>Viewed</td>\n      <td>14.00</td>\n      <td>Cape Verde</td>\n      <td>Flip Flop Shoes</td>\n    </tr>\n  </tbody>\n</table>\n</div>",
      "text/plain": "   Action  ItemRevenue               Country              Item\n0  Viewed         9.00               Tunisia         Black Tee\n1  Viewed        19.99   Antigua and Barbuda     Flannel Shirt\n2   Added         3.75         Guinea-Bissau             Socks\n3  Viewed         3.75         Guinea-Bissau             Socks\n4  Viewed        55.00        Czech Republic        Rainjacket\n5  Viewed       350.00               Iceland    Cosmos T-shirt\n6   Added        19.99  Syrian Arab Republic   Button-Up Shirt\n7  Viewed        19.99  Syrian Arab Republic   Button-Up Shirt\n8  Viewed        33.00                Tuvalu           Red Top\n9  Viewed        14.00            Cape Verde   Flip Flop Shoes"
     },
     "execution_count": 7,
     "metadata": {},
     "output_type": "execute_result"
    }
   ],
   "source": "# See a sample of the result\ndf_cosmos.head(10)"
  },
  {
   "cell_type": "markdown",
   "metadata": {},
   "source": "### Analyzing our data\nWe'll run a simple group by on the dataframe to sum the total sales revenue for each country and display a sample of the results."
  },
  {
   "cell_type": "markdown",
   "metadata": {},
   "source": "#### Sum revenue by country"
  },
  {
   "cell_type": "code",
   "execution_count": 8,
   "metadata": {
    "trusted": true
   },
   "outputs": [
    {
     "data": {
      "text/html": "<div>\n<style scoped>\n    .dataframe tbody tr th:only-of-type {\n        vertical-align: middle;\n    }\n\n    .dataframe tbody tr th {\n        vertical-align: top;\n    }\n\n    .dataframe thead th {\n        text-align: right;\n    }\n</style>\n<table border=\"1\" class=\"dataframe\">\n  <thead>\n    <tr style=\"text-align: right;\">\n      <th></th>\n      <th>Country</th>\n      <th>ItemRevenue</th>\n    </tr>\n  </thead>\n  <tbody>\n    <tr>\n      <td>0</td>\n      <td>Afghanistan</td>\n      <td>785.44</td>\n    </tr>\n    <tr>\n      <td>1</td>\n      <td>Albania</td>\n      <td>605.80</td>\n    </tr>\n    <tr>\n      <td>2</td>\n      <td>Algeria</td>\n      <td>1058.98</td>\n    </tr>\n    <tr>\n      <td>3</td>\n      <td>American Samoa</td>\n      <td>229.00</td>\n    </tr>\n    <tr>\n      <td>4</td>\n      <td>Andorra</td>\n      <td>247.49</td>\n    </tr>\n  </tbody>\n</table>\n</div>",
      "text/plain": "          Country  ItemRevenue\n0     Afghanistan       785.44\n1         Albania       605.80\n2         Algeria      1058.98\n3  American Samoa       229.00\n4         Andorra       247.49"
     },
     "metadata": {},
     "output_type": "display_data"
    }
   ],
   "source": "df_revenue = df_cosmos.groupby(\"Country\").sum().reset_index()\n\ndisplay(df_revenue.head(5))"
  },
  {
   "cell_type": "markdown",
   "metadata": {},
   "source": "#### Analyze top 5 popular purchased items"
  },
  {
   "cell_type": "code",
   "execution_count": 9,
   "metadata": {
    "trusted": true
   },
   "outputs": [
    {
     "data": {
      "text/html": "<div>\n<style scoped>\n    .dataframe tbody tr th:only-of-type {\n        vertical-align: middle;\n    }\n\n    .dataframe tbody tr th {\n        vertical-align: top;\n    }\n\n    .dataframe thead th {\n        text-align: right;\n    }\n</style>\n<table border=\"1\" class=\"dataframe\">\n  <thead>\n    <tr style=\"text-align: right;\">\n      <th></th>\n      <th>Count</th>\n    </tr>\n    <tr>\n      <th>Item</th>\n      <th></th>\n    </tr>\n  </thead>\n  <tbody>\n    <tr>\n      <td>Puffy Jacket</td>\n      <td>25</td>\n    </tr>\n    <tr>\n      <td>Athletic Shoes</td>\n      <td>20</td>\n    </tr>\n    <tr>\n      <td>Athletic Shorts</td>\n      <td>19</td>\n    </tr>\n    <tr>\n      <td>Crewneck Sweater</td>\n      <td>14</td>\n    </tr>\n    <tr>\n      <td>Light Jeans</td>\n      <td>13</td>\n    </tr>\n  </tbody>\n</table>\n</div>",
      "text/plain": "                  Count\nItem                   \nPuffy Jacket         25\nAthletic Shoes       20\nAthletic Shorts      19\nCrewneck Sweater     14\nLight Jeans          13"
     },
     "execution_count": 9,
     "metadata": {},
     "output_type": "execute_result"
    }
   ],
   "source": "import pandas as pd\n\n## What are the top 5 purchased items?\npd.DataFrame(df_cosmos[df_cosmos['Action']=='Purchased'].groupby('Item').size().sort_values(ascending=False).head(5), columns=['Count'])"
  },
  {
   "cell_type": "markdown",
   "metadata": {},
   "source": "## Visualization #1: Sales revenue by country on a world map\n\nNow that we have our data on revenue from our Cosmos container, we'll visualize it using bokeh. Credit to https://towardsdatascience.com/a-complete-guide-to-an-interactive-geographical-map-using-python-f4c5197e23e0 for inspiration."
  },
  {
   "cell_type": "code",
   "execution_count": null,
   "metadata": {
    "trusted": true
   },
   "outputs": [],
   "source": "import sys\n!{sys.executable} -m pip install bokeh --user"
  },
  {
   "cell_type": "markdown",
   "metadata": {},
   "source": "### Prepare our data to be plotted"
  },
  {
   "cell_type": "code",
   "execution_count": 10,
   "metadata": {
    "trusted": true
   },
   "outputs": [],
   "source": "import urllib.request, json \nimport geopandas as gpd\n\n# Load country information for mapping\ncountries = gpd.read_file(\"https://cosmosnotebooksdata.blob.core.windows.net/notebookdata/countries.json\")\n\n# Merge the countries dataframe with our data in Azure Cosmos DB, joining on country code\ndf_merged = countries.merge(df_revenue, left_on = 'admin', right_on = 'Country', how='left')\n\n# Convert to GeoJSON so bokeh can plot it\nmerged_json = json.loads(df_merged.to_json())\njson_data = json.dumps(merged_json)"
  },
  {
   "cell_type": "markdown",
   "metadata": {},
   "source": "### Plot the sales revenue on a world map\nThis may take a few seconds..."
  },
  {
   "cell_type": "code",
   "execution_count": null,
   "metadata": {
    "trusted": true
   },
   "outputs": [],
   "source": "from bokeh.io import output_notebook, show\nfrom bokeh.plotting import figure\nfrom bokeh.models import GeoJSONDataSource, LinearColorMapper, ColorBar\nfrom bokeh.palettes import brewer\n\n#Input GeoJSON source that contains features for plotting.\ngeosource = GeoJSONDataSource(geojson = json_data)\n\n#Choose our choropleth color palette: https://bokeh.pydata.org/en/latest/docs/reference/palettes.html\npalette = brewer['YlGn'][8]\n\n#Reverse color order so that dark green is highest revenue\npalette = palette[::-1]\n\n#Instantiate LinearColorMapper that linearly maps numbers in a range, into a sequence of colors.\ncolor_mapper = LinearColorMapper(palette = palette, low = 0, high = 1000)\n\n#Define custom tick labels for color bar.\ntick_labels = {'0': '$0', '250': '$250', '500':'$500', '750':'$750', '1000':'$1000', '1250':'$1250', '1500':'$1500','1750':'$1750', '2000': '>$2000'}\n\n#Create color bar. \ncolor_bar = ColorBar(color_mapper=color_mapper, label_standoff=8,width = 500, height = 20,\nborder_line_color=None,location = (0,0), orientation = 'horizontal', major_label_overrides = tick_labels)\n\n#Create figure object.\np = figure(title = 'Sales revenue by country', plot_height = 600 , plot_width = 1150, toolbar_location = None)\np.xgrid.grid_line_color = None\np.ygrid.grid_line_color = None\n\n#Add patch renderer to figure. \np.patches('xs','ys', source = geosource,fill_color = {'field' :'ItemRevenue', 'transform' : color_mapper},\n          line_color = 'black', line_width = 0.25, fill_alpha = 1)\n\n#Specify figure layout.\np.add_layout(color_bar, 'below')\n\n#Display figure inline in Jupyter Notebook.\noutput_notebook()\n\n#Display figure.\nshow(p)"
  },
  {
   "cell_type": "markdown",
   "metadata": {},
   "source": "## Visualization #2: Conversion rate of Viewed -> Added to cart -> Purchased by item\n\nIn our WebsiteData container, we have a record of users who viewed an item, added to their cart, and purchased the item. We can visualize the conversion rate for each item. Credit to: https://bokeh.pydata.org/en/latest/docs/user_guide/categorical.html for inspiration."
  },
  {
   "cell_type": "markdown",
   "metadata": {},
   "source": "### Plot our data"
  },
  {
   "cell_type": "code",
   "execution_count": null,
   "metadata": {
    "trusted": true
   },
   "outputs": [],
   "source": "from bokeh.io import show, output_notebook\n\nfrom bokeh.plotting import figure\nfrom bokeh.palettes import Spectral3\nfrom bokeh.transform import factor_cmap\nfrom bokeh.models import ColumnDataSource, FactorRange\n\n\n# Get the top 10 items as an array\ntop_10_items = df_cosmos[df_cosmos['Action']=='Purchased'].groupby('Item').size().sort_values(ascending=False)[:10].index.values.tolist()\n\n# Filter our data to only these 10 items\ndf_top10 = df_cosmos[df_cosmos['Item'].isin(top_10_items)]\n\n# Group by Item and Action, sorting by event count\ndf_top10_sorted = df_top10.groupby(['Item', 'Action']).count().rename(columns={'Country':'ResultCount'}, inplace=False).reset_index().sort_values(['Item', 'ResultCount'], ascending = False).set_index(['Item', 'Action'])\n\n# Get sorted X-axis values - this way, we can display the funnel of view -> add -> purchase\nx_axis_values = df_top10_sorted.index.values.tolist()\n\ngroup = df_top10_sorted.groupby(['Item', 'Action'])\n\n# Specifiy colors for X axis\nindex_cmap = factor_cmap('Item_Action', palette=Spectral3, factors=sorted(df_top10.Action.unique()), start=1, end=2)\n\n# Create the plot\n\np = figure(plot_width=1200, plot_height=500, title=\"Conversion rate of items from View -> Add to cart -> Purchase\", x_range=FactorRange(*x_axis_values), toolbar_location=None, tooltips=[(\"Number of events\", \"@ResultCount_max\"), (\"Item, Action\", \"@Item_Action\")])\n\np.vbar(x='Item_Action', top='ItemRevenue_max', width=1, source=group,\n       line_color=\"white\", fill_color=index_cmap, )\n\n#Configure how the plot looks\np.y_range.start = 0\np.x_range.range_padding = 0.05\np.xgrid.grid_line_color = None\np.xaxis.major_label_orientation = 1.2\np.outline_line_color = \"black\"\np.xaxis.axis_label = \"Item\"\np.yaxis.axis_label = \"Count\"\n\n#Display figure inline in Jupyter Notebook.\noutput_notebook()\n\n#Display figure.\nshow(p)\n"
  }
 ],
 "metadata": {
  "kernelspec": {
   "display_name": "Python 3",
   "language": "python",
   "name": "python3"
  },
  "language_info": {
   "codemirror_mode": {
    "name": "ipython",
    "version": 3
   },
   "file_extension": ".py",
   "mimetype": "text/x-python",
   "name": "python",
   "nbconvert_exporter": "python",
   "pygments_lexer": "ipython3",
   "version": "3.6.8"
  }
 },
 "nbformat": 4,
 "nbformat_minor": 2
}