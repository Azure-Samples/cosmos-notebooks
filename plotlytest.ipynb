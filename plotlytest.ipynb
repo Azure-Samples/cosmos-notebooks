{
 "cells": [
  {
   "cell_type": "markdown",
   "metadata": {},
   "source": [
    "## Plotly tests ##\n",
    "Go to https://plot.ly/#/ and sign up for free account.\n",
    "Plug username and api key in the cell below."
   ]
  },
  {
   "cell_type": "code",
   "execution_count": 1,
   "metadata": {},
   "outputs": [
    {
     "name": "stdout",
     "output_type": "stream",
     "text": [
      "High five! You successfully sent some data to your account on plotly. View your plot in your browser at https://plot.ly/~laurentnguyen/0 or inside your plot.ly account where it is named 'jupyter-basic_bar.html'\n"
     ]
    },
    {
     "data": {
      "text/html": [
       "<iframe id=\"igraph\" scrolling=\"no\" style=\"border:none;\" seamless=\"seamless\" src=\"https://plot.ly/~laurentnguyen/0.embed\" height=\"525px\" width=\"100%\"></iframe>"
      ],
      "text/plain": [
       "<plotly.tools.PlotlyDisplay object>"
      ]
     },
     "execution_count": 1,
     "metadata": {},
     "output_type": "execute_result"
    }
   ],
   "source": [
    "import json\n",
    "import pandas as pd\n",
    "import matplotlib.pyplot as plt\n",
    "import plotly\n",
    "import plotly.plotly as py\n",
    "import plotly.graph_objs as go\n",
    "import plotly.graph_objs as go\n",
    "\n",
    "\n",
    "import plotly \n",
    "plotly.tools.set_credentials_file(username='<your username>', api_key='<your api key>')\n",
    "\n",
    "\n",
    "with open(\"smt_sample.json\", \"r\") as f:\n",
    "    data = f.read()\n",
    "\n",
    "payloads = [json.loads(s) for s in data.split(\"\\n\\n\")]\n",
    "locations = [pl[\"data\"] for pl in payloads if pl[\"type\"] ]#== \"location\"]\n",
    "line_crossings = [pl[\"data\"] for pl in payloads if pl[\"type\"] == \"linecrossing\"]\n",
    "\n",
    "other = [pl for pl in payloads if pl[\"type\"] != \"location\"]\n",
    "\n",
    "df = pd.DataFrame(locations)\n",
    "\n",
    "traces = []\n",
    "for name, group in df.groupby(\"no\"):\n",
    "\n",
    "    traces.append(go.Scatter(\n",
    "        x=group['lat'],\n",
    "        y=group['lon'],\n",
    "        mode='markers+lines',\n",
    "        name=name\n",
    "    ))\n",
    "\n",
    "py.iplot(traces, filename='jupyter-basic_bar.html')\n"
   ]
  },
  {
   "cell_type": "code",
   "execution_count": null,
   "metadata": {},
   "outputs": [],
   "source": []
  }
 ],
 "metadata": {
  "kernelspec": {
   "display_name": "Python 3",
   "language": "python",
   "name": "python3"
  },
  "language_info": {
   "codemirror_mode": {
    "name": "ipython",
    "version": 3
   },
   "file_extension": ".py",
   "mimetype": "text/x-python",
   "name": "python",
   "nbconvert_exporter": "python",
   "pygments_lexer": "ipython3",
   "version": "3.7.3"
  }
 },
 "nbformat": 4,
 "nbformat_minor": 2
}
